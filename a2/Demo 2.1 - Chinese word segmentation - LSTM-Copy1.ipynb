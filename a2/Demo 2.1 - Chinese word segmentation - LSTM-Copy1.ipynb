{
 "cells": [
  {
   "cell_type": "markdown",
   "metadata": {},
   "source": [
    "Kamaneh Akhavan (gusakhka)"
   ]
  },
  {
   "cell_type": "markdown",
   "metadata": {},
   "source": [
    "## Assignment 2: More Chinese-language experiments"
   ]
  },
  {
   "cell_type": "markdown",
   "metadata": {},
   "source": [
    "In this assignment, you will work with the Demo 2.1 - Chinese word segmentation on Chinese word segmentation. The notebook trains a model that is very successful at determining word boundaries in Chinese text, where word boundaries are binary-encoded on a per-character basis with 1 being the first character of a word and 0 being the second character. The model uses character embeddings and an LSTM to model the word boundaries. You will copy and modify Demo 2.1's notebook as below and write up in the notebook Markdown what you did and how well it performed."
   ]
  },
  {
   "cell_type": "code",
   "execution_count": 20,
   "metadata": {},
   "outputs": [],
   "source": [
    "import sys\n",
    "import os\n",
    "import numpy as np\n",
    "import torch"
   ]
  },
  {
   "cell_type": "code",
   "execution_count": 21,
   "metadata": {},
   "outputs": [],
   "source": [
    "device = torch.device('cuda:3')"
   ]
  },
  {
   "cell_type": "markdown",
   "metadata": {},
   "source": [
    "I added the start token as $ and end token as & ,the rest code is as what it was"
   ]
  },
  {
   "cell_type": "code",
   "execution_count": 22,
   "metadata": {},
   "outputs": [],
   "source": [
    "def read_chinese_data(inputfilename):\n",
    "    with open(inputfilename, \"r\") as inputfile:\n",
    "        sentences, collection_words, collection_labels = [], ['$'], []\n",
    "        for line in inputfile:\n",
    "            if line[0] == '#':\n",
    "                continue\n",
    "            columns = line.split()\n",
    "            #print(words)\n",
    "            if columns == []: #when find the line is blank\n",
    "                sentences.append((''.join(collection_words)+'&', collection_labels)) #append tuple of x and y\n",
    "                collection_words = [] #reset collection words\n",
    "                collection_labels = [] #reset the collection labels\n",
    "                continue\n",
    "            collection_words.append(columns[1])\n",
    "            collection_labels += [1] + ([0] * (len(columns[1]) - 1)) #1 for the first character\n",
    "            \n",
    "    return sentences"
   ]
  },
  {
   "cell_type": "code",
   "execution_count": 23,
   "metadata": {},
   "outputs": [],
   "source": [
    "train_sentences = read_chinese_data('/scratch/lt2316-h20-resources/zh_gsd-ud-train.conllu')\n"
   ]
  },
  {
   "cell_type": "code",
   "execution_count": 24,
   "metadata": {},
   "outputs": [
    {
     "name": "stdout",
     "output_type": "stream",
     "text": [
      "('$看似簡單，只是二選一做決擇，但其實他們代表的是你周遭的親朋好友，試著給你不同的意見，但追根究底，最後決定的還是自己。&', [1, 0, 1, 0, 1, 1, 1, 1, 1, 1, 1, 1, 0, 1, 1, 1, 0, 1, 0, 1, 0, 1, 1, 1, 1, 0, 1, 1, 0, 1, 0, 1, 1, 1, 1, 1, 1, 0, 1, 1, 0, 1, 1, 1, 0, 0, 0, 1, 1, 0, 1, 0, 1, 1, 0, 1, 0, 1])\n"
     ]
    }
   ],
   "source": [
    "print(train_sentences[0])"
   ]
  },
  {
   "cell_type": "code",
   "execution_count": 25,
   "metadata": {},
   "outputs": [],
   "source": [
    "test_sentences = read_chinese_data('/scratch/lt2316-h20-resources/zh_gsd-ud-test.conllu')"
   ]
  },
  {
   "cell_type": "code",
   "execution_count": 26,
   "metadata": {},
   "outputs": [
    {
     "name": "stdout",
     "output_type": "stream",
     "text": [
      "('$然而，這樣的處理也衍生了一些問題。&', [1, 0, 1, 1, 0, 1, 1, 0, 1, 1, 0, 1, 1, 0, 1, 0, 1])\n"
     ]
    }
   ],
   "source": [
    "print(test_sentences[0])"
   ]
  },
  {
   "cell_type": "markdown",
   "metadata": {},
   "source": [
    "In index_chars we are getting an index for each character in the set and getting all the characters and the return the character list "
   ]
  },
  {
   "cell_type": "code",
   "execution_count": 27,
   "metadata": {},
   "outputs": [],
   "source": [
    "def index_chars(sentences):\n",
    "    megasentence = ''.join(sentences)\n",
    "    char_list = set()\n",
    "    for c in megasentence:\n",
    "        char_list.add(c)\n",
    "    char_list = [0] + list(char_list)\n",
    "    return char_list, {char_list[x]:x for x in range(len(char_list))}"
   ]
  },
  {
   "cell_type": "markdown",
   "metadata": {},
   "source": [
    "here we used the first item in train_sentences because the first function returns a tuple,so we needed just x[0]"
   ]
  },
  {
   "cell_type": "code",
   "execution_count": 28,
   "metadata": {},
   "outputs": [],
   "source": [
    "int_index, char_index = index_chars([x[0] for x in train_sentences + test_sentences])"
   ]
  },
  {
   "cell_type": "code",
   "execution_count": 10,
   "metadata": {},
   "outputs": [],
   "source": [
    "# all_values = char_index. values()\n",
    "# max_value = max(all_values) \n",
    "# print(max_value)"
   ]
  },
  {
   "cell_type": "code",
   "execution_count": 11,
   "metadata": {},
   "outputs": [],
   "source": [
    "#int_index"
   ]
  },
  {
   "cell_type": "code",
   "execution_count": 29,
   "metadata": {},
   "outputs": [],
   "source": [
    "def convert_sentence(sentence, index):\n",
    "    #every x in the sentence got a number as an index\n",
    "    return [index[x] for x in sentence]"
   ]
  },
  {
   "cell_type": "code",
   "execution_count": 30,
   "metadata": {},
   "outputs": [],
   "source": [
    "def pad_lengths(sentences, max_length, padding=0):\n",
    "    return [x + ([padding] * (max_length - len(x))) for x in sentences]"
   ]
  },
  {
   "cell_type": "code",
   "execution_count": 31,
   "metadata": {},
   "outputs": [],
   "source": [
    "def create_dataset(x, device=\"cpu\"):\n",
    "    converted = [(convert_sentence(x1[0], char_index), x1[1]) for x1 in x]\n",
    "    X, y = zip(*converted)\n",
    "    #here get the real lengths of the Xs (sentences)\n",
    "    lengths = [len(x2) for x2 in X]\n",
    "    padded_X = pad_lengths(X, max(lengths))\n",
    "    #padding the sentences\n",
    "    Xt = torch.LongTensor(padded_X).to(device)\n",
    "    padded_y = pad_lengths(y, max(lengths), padding=-1) \n",
    "    # padding the labels with -1\n",
    "    yt = torch.LongTensor(padded_y).to(device)\n",
    "    lengths_t = torch.LongTensor(lengths).to(device)\n",
    "    return Xt, lengths_t, yt"
   ]
  },
  {
   "cell_type": "code",
   "execution_count": 32,
   "metadata": {},
   "outputs": [],
   "source": [
    "train_X_tensor, train_lengths_tensor, train_y_tensor = create_dataset(train_sentences, device)\n",
    "test_X_tensor, test_lengths_tensor, test_y_tensor = create_dataset(test_sentences, device)"
   ]
  },
  {
   "cell_type": "markdown",
   "metadata": {},
   "source": [
    "## Packing the sequences for RNN"
   ]
  },
  {
   "cell_type": "code",
   "execution_count": 35,
   "metadata": {},
   "outputs": [],
   "source": [
    "testtensor = torch.randn((10,100,200))"
   ]
  },
  {
   "cell_type": "code",
   "execution_count": 36,
   "metadata": {},
   "outputs": [],
   "source": [
    "from torch.nn.utils.rnn import pack_padded_sequence, pad_packed_sequence"
   ]
  },
  {
   "cell_type": "code",
   "execution_count": 37,
   "metadata": {},
   "outputs": [],
   "source": [
    "testlengths = torch.randint(1, 100, (10,))"
   ]
  },
  {
   "cell_type": "code",
   "execution_count": 38,
   "metadata": {},
   "outputs": [
    {
     "data": {
      "text/plain": [
       "(torch.Size([10]), tensor([52, 60, 35, 45, 99, 99,  1, 46, 40, 89]))"
      ]
     },
     "execution_count": 38,
     "metadata": {},
     "output_type": "execute_result"
    }
   ],
   "source": [
    "testlengths.size(), testlengths"
   ]
  },
  {
   "cell_type": "code",
   "execution_count": 43,
   "metadata": {},
   "outputs": [],
   "source": [
    "packed = pack_padded_sequence(testtensor, testlengths, batch_first=True, enforce_sorted=False)"
   ]
  },
  {
   "cell_type": "code",
   "execution_count": 45,
   "metadata": {},
   "outputs": [],
   "source": [
    "#testtensor"
   ]
  },
  {
   "cell_type": "code",
   "execution_count": 47,
   "metadata": {},
   "outputs": [],
   "source": [
    "#packed"
   ]
  },
  {
   "cell_type": "code",
   "execution_count": 48,
   "metadata": {},
   "outputs": [
    {
     "data": {
      "text/plain": [
       "99"
      ]
     },
     "execution_count": 48,
     "metadata": {},
     "output_type": "execute_result"
    }
   ],
   "source": [
    "len(packed.batch_sizes)"
   ]
  },
  {
   "cell_type": "code",
   "execution_count": 49,
   "metadata": {},
   "outputs": [],
   "source": [
    "unpacked = pad_packed_sequence(packed, batch_first=True, total_length=100)"
   ]
  },
  {
   "cell_type": "markdown",
   "metadata": {},
   "source": [
    "## Batching (based on 1.0, 1.1, 1.2)"
   ]
  },
  {
   "cell_type": "code",
   "execution_count": 50,
   "metadata": {},
   "outputs": [],
   "source": [
    "class Batcher:\n",
    "    def __init__(self, X, lengths, y, device, batch_size=50, max_iter=None):\n",
    "        self.X = X\n",
    "        self.lengths = lengths # We need the lengths to efficiently use the padding.\n",
    "        self.y = y\n",
    "        self.device = device\n",
    "        self.batch_size=batch_size\n",
    "        self.max_iter = max_iter\n",
    "        self.curr_iter = 0\n",
    "        \n",
    "    def __iter__(self):\n",
    "        return self\n",
    "    \n",
    "    def __next__(self):\n",
    "        if self.curr_iter == self.max_iter:\n",
    "            raise StopIteration\n",
    "        permutation = torch.randperm(self.X.size()[0], device=self.device)\n",
    "        permX = self.X[permutation]\n",
    "        permlengths = self.lengths[permutation]\n",
    "        permy = self.y[permutation]\n",
    "        splitX = torch.split(permX, self.batch_size)\n",
    "        splitlengths = torch.split(permlengths, self.batch_size)\n",
    "        splity = torch.split(permy, self.batch_size)\n",
    "        \n",
    "        self.curr_iter += 1\n",
    "        return zip(splitX, splitlengths, splity)"
   ]
  },
  {
   "cell_type": "code",
   "execution_count": 51,
   "metadata": {},
   "outputs": [],
   "source": [
    "b = Batcher(train_X_tensor, train_lengths_tensor, train_y_tensor, torch.device('cuda:2'), max_iter=100)"
   ]
  },
  {
   "cell_type": "code",
   "execution_count": 52,
   "metadata": {},
   "outputs": [],
   "source": [
    "import matplotlib.pyplot as plt"
   ]
  },
  {
   "cell_type": "code",
   "execution_count": 53,
   "metadata": {},
   "outputs": [],
   "source": [
    "testbatching = next(b)"
   ]
  },
  {
   "cell_type": "code",
   "execution_count": 54,
   "metadata": {},
   "outputs": [
    {
     "data": {
      "text/plain": [
       "<zip at 0x7f0a4c46b500>"
      ]
     },
     "execution_count": 54,
     "metadata": {},
     "output_type": "execute_result"
    }
   ],
   "source": [
    "testbatching"
   ]
  },
  {
   "cell_type": "markdown",
   "metadata": {},
   "source": [
    "## Modeling"
   ]
  },
  {
   "cell_type": "code",
   "execution_count": 64,
   "metadata": {},
   "outputs": [],
   "source": [
    "import torch.nn as nn"
   ]
  },
  {
   "cell_type": "code",
   "execution_count": 65,
   "metadata": {},
   "outputs": [],
   "source": [
    "import torch.optim as optim"
   ]
  },
  {
   "cell_type": "code",
   "execution_count": 66,
   "metadata": {},
   "outputs": [],
   "source": [
    "emb = nn.Embedding(len(int_index), 200, 0).to(\"cuda:3\")"
   ]
  },
  {
   "cell_type": "code",
   "execution_count": 104,
   "metadata": {},
   "outputs": [],
   "source": [
    "testembs = emb(testX)"
   ]
  },
  {
   "cell_type": "code",
   "execution_count": 118,
   "metadata": {},
   "outputs": [],
   "source": [
    "#testembs"
   ]
  },
  {
   "cell_type": "code",
   "execution_count": 105,
   "metadata": {},
   "outputs": [
    {
     "data": {
      "text/plain": [
       "torch.Size([50, 183, 200])"
      ]
     },
     "execution_count": 105,
     "metadata": {},
     "output_type": "execute_result"
    }
   ],
   "source": [
    "testembs.size()"
   ]
  },
  {
   "cell_type": "code",
   "execution_count": 106,
   "metadata": {},
   "outputs": [
    {
     "data": {
      "text/plain": [
       "device(type='cuda', index=3)"
      ]
     },
     "execution_count": 106,
     "metadata": {},
     "output_type": "execute_result"
    }
   ],
   "source": [
    "testembs.device"
   ]
  },
  {
   "cell_type": "code",
   "execution_count": 107,
   "metadata": {},
   "outputs": [],
   "source": [
    "testlstm = nn.LSTM(200, 150, batch_first=True).to(\"cuda:3\")"
   ]
  },
  {
   "cell_type": "code",
   "execution_count": 108,
   "metadata": {},
   "outputs": [],
   "source": [
    "testembspadded = pack_padded_sequence(testembs, testlengths.to(\"cpu\"), batch_first=True, enforce_sorted=False)"
   ]
  },
  {
   "cell_type": "code",
   "execution_count": 109,
   "metadata": {},
   "outputs": [],
   "source": [
    "testoutput, teststate = testlstm(testembspadded)"
   ]
  },
  {
   "cell_type": "code",
   "execution_count": 112,
   "metadata": {},
   "outputs": [
    {
     "data": {
      "text/plain": [
       "torch.Size([50, 85, 150])"
      ]
     },
     "execution_count": 112,
     "metadata": {},
     "output_type": "execute_result"
    }
   ],
   "source": [
    "testunpacked[0].size()"
   ]
  },
  {
   "cell_type": "code",
   "execution_count": 132,
   "metadata": {},
   "outputs": [
    {
     "data": {
      "text/plain": [
       "torch.Size([50, 125, 150])"
      ]
     },
     "execution_count": 132,
     "metadata": {},
     "output_type": "execute_result"
    }
   ],
   "source": [
    "testoutput2.size()"
   ]
  },
  {
   "cell_type": "code",
   "execution_count": 144,
   "metadata": {},
   "outputs": [],
   "source": [
    "testoutput4 = testsoft(testoutput2)"
   ]
  },
  {
   "cell_type": "code",
   "execution_count": 145,
   "metadata": {},
   "outputs": [
    {
     "data": {
      "text/plain": [
       "tensor([[[-5.0105, -5.0166, -4.9918,  ..., -4.9796, -5.0007, -4.9982],\n",
       "         [-5.0201, -5.0191, -4.9448,  ..., -4.9892, -5.0050, -5.0103],\n",
       "         [-4.9931, -4.9821, -4.9855,  ..., -4.9500, -5.0234, -5.0426],\n",
       "         ...,\n",
       "         [-5.0106, -5.0106, -5.0106,  ..., -5.0106, -5.0106, -5.0106],\n",
       "         [-5.0106, -5.0106, -5.0106,  ..., -5.0106, -5.0106, -5.0106],\n",
       "         [-5.0106, -5.0106, -5.0106,  ..., -5.0106, -5.0106, -5.0106]],\n",
       "\n",
       "        [[-5.0638, -5.0391, -4.9492,  ..., -5.0267, -4.9888, -4.9855],\n",
       "         [-4.9903, -5.0280, -4.9839,  ..., -5.0390, -4.9588, -5.0018],\n",
       "         [-4.9858, -5.0270, -4.9923,  ..., -5.0228, -4.9568, -4.9571],\n",
       "         ...,\n",
       "         [-5.0106, -5.0106, -5.0106,  ..., -5.0106, -5.0106, -5.0106],\n",
       "         [-5.0106, -5.0106, -5.0106,  ..., -5.0106, -5.0106, -5.0106],\n",
       "         [-5.0106, -5.0106, -5.0106,  ..., -5.0106, -5.0106, -5.0106]],\n",
       "\n",
       "        [[-4.9891, -5.0359, -5.0473,  ..., -5.0063, -4.9655, -5.0486],\n",
       "         [-5.0418, -5.0263, -5.0751,  ..., -4.9250, -4.9786, -5.0803],\n",
       "         [-5.0714, -5.0588, -4.9967,  ..., -5.0035, -5.0264, -5.0244],\n",
       "         ...,\n",
       "         [-5.0106, -5.0106, -5.0106,  ..., -5.0106, -5.0106, -5.0106],\n",
       "         [-5.0106, -5.0106, -5.0106,  ..., -5.0106, -5.0106, -5.0106],\n",
       "         [-5.0106, -5.0106, -5.0106,  ..., -5.0106, -5.0106, -5.0106]],\n",
       "\n",
       "        ...,\n",
       "\n",
       "        [[-5.0836, -4.9893, -4.9667,  ..., -5.0237, -5.0256, -4.9985],\n",
       "         [-5.0020, -5.0281, -5.0536,  ..., -4.9839, -5.0287, -5.0002],\n",
       "         [-5.0739, -5.0691, -4.9574,  ..., -4.9921, -4.9851, -4.9661],\n",
       "         ...,\n",
       "         [-5.0106, -5.0106, -5.0106,  ..., -5.0106, -5.0106, -5.0106],\n",
       "         [-5.0106, -5.0106, -5.0106,  ..., -5.0106, -5.0106, -5.0106],\n",
       "         [-5.0106, -5.0106, -5.0106,  ..., -5.0106, -5.0106, -5.0106]],\n",
       "\n",
       "        [[-4.9962, -4.9488, -5.0590,  ..., -4.9907, -4.9279, -4.9993],\n",
       "         [-4.9330, -4.9534, -5.0243,  ..., -5.0297, -4.9692, -4.9547],\n",
       "         [-5.0009, -4.8941, -5.0031,  ..., -5.0374, -4.9956, -4.9885],\n",
       "         ...,\n",
       "         [-5.0106, -5.0106, -5.0106,  ..., -5.0106, -5.0106, -5.0106],\n",
       "         [-5.0106, -5.0106, -5.0106,  ..., -5.0106, -5.0106, -5.0106],\n",
       "         [-5.0106, -5.0106, -5.0106,  ..., -5.0106, -5.0106, -5.0106]],\n",
       "\n",
       "        [[-5.0084, -5.0111, -5.0135,  ..., -4.9949, -4.9917, -5.0176],\n",
       "         [-5.0088, -5.0049, -5.0162,  ..., -5.0105, -4.9578, -4.9962],\n",
       "         [-5.0120, -4.9738, -5.0079,  ..., -4.9753, -5.0131, -4.9747],\n",
       "         ...,\n",
       "         [-5.0106, -5.0106, -5.0106,  ..., -5.0106, -5.0106, -5.0106],\n",
       "         [-5.0106, -5.0106, -5.0106,  ..., -5.0106, -5.0106, -5.0106],\n",
       "         [-5.0106, -5.0106, -5.0106,  ..., -5.0106, -5.0106, -5.0106]]],\n",
       "       device='cuda:3', grad_fn=<LogSoftmaxBackward>)"
      ]
     },
     "execution_count": 145,
     "metadata": {},
     "output_type": "execute_result"
    }
   ],
   "source": [
    "testoutput4"
   ]
  },
  {
   "cell_type": "code",
   "execution_count": 146,
   "metadata": {},
   "outputs": [],
   "source": [
    "testy_short = testy[:, :max(testlengths)]"
   ]
  },
  {
   "cell_type": "code",
   "execution_count": 147,
   "metadata": {},
   "outputs": [
    {
     "data": {
      "text/plain": [
       "tensor([[ 1,  1,  1,  ..., -1, -1, -1],\n",
       "        [ 1,  0,  1,  ..., -1, -1, -1],\n",
       "        [ 1,  0,  1,  ..., -1, -1, -1],\n",
       "        ...,\n",
       "        [ 1,  1,  1,  ..., -1, -1, -1],\n",
       "        [ 1,  1,  1,  ..., -1, -1, -1],\n",
       "        [ 1,  0,  1,  ..., -1, -1, -1]], device='cuda:3')"
      ]
     },
     "execution_count": 147,
     "metadata": {},
     "output_type": "execute_result"
    }
   ],
   "source": [
    "testy_short"
   ]
  },
  {
   "cell_type": "code",
   "execution_count": 148,
   "metadata": {},
   "outputs": [
    {
     "data": {
      "text/plain": [
       "torch.Size([50, 125])"
      ]
     },
     "execution_count": 148,
     "metadata": {},
     "output_type": "execute_result"
    }
   ],
   "source": [
    "testy_short.size()"
   ]
  },
  {
   "cell_type": "code",
   "execution_count": 149,
   "metadata": {},
   "outputs": [
    {
     "data": {
      "text/plain": [
       "tensor(125, device='cuda:3')"
      ]
     },
     "execution_count": 149,
     "metadata": {},
     "output_type": "execute_result"
    }
   ],
   "source": [
    "max(testlengths)"
   ]
  },
  {
   "cell_type": "code",
   "execution_count": 150,
   "metadata": {},
   "outputs": [],
   "source": [
    "testpermuted = testoutput4.permute(0, 2, 1)"
   ]
  },
  {
   "cell_type": "code",
   "execution_count": 68,
   "metadata": {},
   "outputs": [],
   "source": [
    "#testpermuted"
   ]
  },
  {
   "cell_type": "code",
   "execution_count": 59,
   "metadata": {},
   "outputs": [
    {
     "data": {
      "text/plain": [
       "tensor(0.7527, device='cuda:2', grad_fn=<NllLoss2DBackward>)"
      ]
     },
     "execution_count": 59,
     "metadata": {},
     "output_type": "execute_result"
    }
   ],
   "source": [
    "#nllloss(testpermuted, testy_short)"
   ]
  },
  {
   "cell_type": "markdown",
   "metadata": {},
   "source": [
    "## MODEL 1"
   ]
  },
  {
   "cell_type": "code",
   "execution_count": 69,
   "metadata": {},
   "outputs": [],
   "source": [
    "device = torch.device('cuda:3')"
   ]
  },
  {
   "cell_type": "code",
   "execution_count": 36,
   "metadata": {},
   "outputs": [],
   "source": [
    "class Segmenter(nn.Module):\n",
    "    def __init__(self, vocab_size, emb_size):\n",
    "        super().__init__()\n",
    "        \n",
    "        self.vocab_size = vocab_size\n",
    "        self.emb_size = emb_size\n",
    "        \n",
    "        self.emb = nn.Embedding(self.vocab_size, self.emb_size, 0)\n",
    "        self.lstm = nn.LSTM(self.emb_size, 150, batch_first=True)\n",
    "        self.sig1 = nn.Sigmoid()\n",
    "        self.lin = nn.Linear(150, 2)\n",
    "        self.softmax = nn.LogSoftmax(2)\n",
    "        \n",
    "    def forward(self, x, lengths):\n",
    "        embs = self.emb(x)\n",
    "        packed = pack_padded_sequence(embs, lengths.to(\"cpu\"), batch_first=True, enforce_sorted=False)\n",
    "        output1, _ = self.lstm(packed)\n",
    "        unpacked, _ = pad_packed_sequence(output1, batch_first=True)\n",
    "        output2 = self.sig1(unpacked)\n",
    "        output3 = self.lin(output2)\n",
    "        return self.softmax(output3)\n",
    "        "
   ]
  },
  {
   "cell_type": "code",
   "execution_count": 37,
   "metadata": {},
   "outputs": [],
   "source": [
    "def train(X, lengths, y, vocab_size, emb_size, batch_size, epochs, device, model=None):\n",
    "    b = Batcher(X, lengths, y, device, batch_size=batch_size, max_iter=epochs)\n",
    "    if not model:\n",
    "        m = Segmenter(vocab_size, emb_size).to(device)\n",
    "    else:\n",
    "        m = model\n",
    "    loss = nn.NLLLoss(ignore_index=-1)\n",
    "    optimizer = optim.Adam(m.parameters(), lr=0.005)\n",
    "    epoch = 0\n",
    "    \n",
    "    for split in b:\n",
    "        tot_loss = 0\n",
    "        for batch in split:\n",
    "            optimizer.zero_grad()\n",
    "            o = m(batch[0], batch[1])\n",
    "            l = loss(o.permute(0,2,1), batch[2][:, :max(batch[1])])\n",
    "            tot_loss += l\n",
    "            l.backward()\n",
    "            optimizer.step()\n",
    "        print(\"Total loss in epoch {} is {}.\".format(epoch, tot_loss))\n",
    "        epoch += 1\n",
    "    return m"
   ]
  },
  {
   "cell_type": "code",
   "execution_count": 38,
   "metadata": {},
   "outputs": [
    {
     "name": "stdout",
     "output_type": "stream",
     "text": [
      "Total loss in epoch 0 is 32.16783142089844.\n",
      "Total loss in epoch 1 is 17.90723419189453.\n",
      "Total loss in epoch 2 is 13.259632110595703.\n",
      "Total loss in epoch 3 is 10.057083129882812.\n",
      "Total loss in epoch 4 is 7.719925880432129.\n",
      "Total loss in epoch 5 is 5.9296698570251465.\n",
      "Total loss in epoch 6 is 4.612331867218018.\n",
      "Total loss in epoch 7 is 3.475146532058716.\n",
      "Total loss in epoch 8 is 2.770770311355591.\n",
      "Total loss in epoch 9 is 2.3439531326293945.\n",
      "Total loss in epoch 10 is 2.1047866344451904.\n",
      "Total loss in epoch 11 is 1.8222631216049194.\n",
      "Total loss in epoch 12 is 1.6412441730499268.\n",
      "Total loss in epoch 13 is 1.7783823013305664.\n",
      "Total loss in epoch 14 is 1.807427167892456.\n",
      "Total loss in epoch 15 is 1.665467381477356.\n",
      "Total loss in epoch 16 is 1.2753825187683105.\n",
      "Total loss in epoch 17 is 0.9465288519859314.\n",
      "Total loss in epoch 18 is 0.6898490786552429.\n",
      "Total loss in epoch 19 is 0.4261019229888916.\n",
      "Total loss in epoch 20 is 0.2636813521385193.\n",
      "Total loss in epoch 21 is 0.1775134652853012.\n",
      "Total loss in epoch 22 is 0.13650518655776978.\n",
      "Total loss in epoch 23 is 0.11439056694507599.\n",
      "Total loss in epoch 24 is 0.0966193899512291.\n",
      "Total loss in epoch 25 is 0.08347894251346588.\n",
      "Total loss in epoch 26 is 0.07515767961740494.\n",
      "Total loss in epoch 27 is 0.06768550723791122.\n",
      "Total loss in epoch 28 is 0.06216247379779816.\n",
      "Total loss in epoch 29 is 0.05783272907137871.\n",
      "Total loss in epoch 30 is 0.05370618775486946.\n",
      "Total loss in epoch 31 is 0.05015907809138298.\n",
      "Total loss in epoch 32 is 0.047838758677244186.\n",
      "Total loss in epoch 33 is 0.04554704949259758.\n",
      "Total loss in epoch 34 is 0.04312824457883835.\n",
      "Total loss in epoch 35 is 0.04112448915839195.\n",
      "Total loss in epoch 36 is 0.04070832207798958.\n",
      "Total loss in epoch 37 is 0.03829716145992279.\n",
      "Total loss in epoch 38 is 0.036479704082012177.\n",
      "Total loss in epoch 39 is 0.035859040915966034.\n",
      "Total loss in epoch 40 is 0.03520651534199715.\n",
      "Total loss in epoch 41 is 0.03516016900539398.\n",
      "Total loss in epoch 42 is 0.03309202194213867.\n",
      "Total loss in epoch 43 is 0.03172679618000984.\n",
      "Total loss in epoch 44 is 0.03139547258615494.\n",
      "Total loss in epoch 45 is 0.030460940673947334.\n",
      "Total loss in epoch 46 is 0.028938041999936104.\n",
      "Total loss in epoch 47 is 0.02836178056895733.\n",
      "Total loss in epoch 48 is 0.02697007730603218.\n",
      "Total loss in epoch 49 is 0.027808431535959244.\n",
      "Total loss in epoch 50 is 0.027187971398234367.\n",
      "Total loss in epoch 51 is 0.02599676139652729.\n",
      "Total loss in epoch 52 is 0.026148417964577675.\n",
      "Total loss in epoch 53 is 0.026767274364829063.\n",
      "Total loss in epoch 54 is 0.02487795427441597.\n",
      "Total loss in epoch 55 is 0.024585695937275887.\n",
      "Total loss in epoch 56 is 0.02438393235206604.\n",
      "Total loss in epoch 57 is 0.18617315590381622.\n",
      "Total loss in epoch 58 is 12.356422424316406.\n",
      "Total loss in epoch 59 is 6.794061660766602.\n",
      "Total loss in epoch 60 is 3.53623628616333.\n",
      "Total loss in epoch 61 is 1.8809239864349365.\n",
      "Total loss in epoch 62 is 1.0659655332565308.\n",
      "Total loss in epoch 63 is 0.6628363728523254.\n",
      "Total loss in epoch 64 is 0.4130061864852905.\n",
      "Total loss in epoch 65 is 0.28236567974090576.\n",
      "Total loss in epoch 66 is 0.21396313607692719.\n",
      "Total loss in epoch 67 is 0.17364323139190674.\n",
      "Total loss in epoch 68 is 0.1468777358531952.\n",
      "Total loss in epoch 69 is 0.12759873270988464.\n",
      "Total loss in epoch 70 is 0.1177552193403244.\n",
      "Total loss in epoch 71 is 0.10296031832695007.\n",
      "Total loss in epoch 72 is 0.0930580422282219.\n",
      "Total loss in epoch 73 is 0.08325803279876709.\n",
      "Total loss in epoch 74 is 0.07650316506624222.\n",
      "Total loss in epoch 75 is 0.07025536894798279.\n",
      "Total loss in epoch 76 is 0.06559467315673828.\n",
      "Total loss in epoch 77 is 0.06119527295231819.\n",
      "Total loss in epoch 78 is 0.05692783370614052.\n",
      "Total loss in epoch 79 is 0.05281383916735649.\n",
      "Total loss in epoch 80 is 0.050926338881254196.\n",
      "Total loss in epoch 81 is 0.04824510216712952.\n",
      "Total loss in epoch 82 is 0.046051930636167526.\n",
      "Total loss in epoch 83 is 0.044305820018053055.\n",
      "Total loss in epoch 84 is 0.04232483729720116.\n",
      "Total loss in epoch 85 is 0.04047738388180733.\n",
      "Total loss in epoch 86 is 0.039686765521764755.\n",
      "Total loss in epoch 87 is 0.04520761966705322.\n",
      "Total loss in epoch 88 is 0.042763564735651016.\n",
      "Total loss in epoch 89 is 0.039800867438316345.\n",
      "Total loss in epoch 90 is 0.050388775765895844.\n",
      "Total loss in epoch 91 is 2.0561633110046387.\n",
      "Total loss in epoch 92 is 8.18429183959961.\n",
      "Total loss in epoch 93 is 4.952524662017822.\n",
      "Total loss in epoch 94 is 2.665989875793457.\n",
      "Total loss in epoch 95 is 1.41305410861969.\n",
      "Total loss in epoch 96 is 0.7531130313873291.\n",
      "Total loss in epoch 97 is 0.4422592222690582.\n",
      "Total loss in epoch 98 is 0.2990747094154358.\n",
      "Total loss in epoch 99 is 0.20893432199954987.\n"
     ]
    }
   ],
   "source": [
    "model1 = train(train_X_tensor, train_lengths_tensor, train_y_tensor, len(int_index), 200, 50, 100, device)"
   ]
  },
  {
   "cell_type": "code",
   "execution_count": 39,
   "metadata": {},
   "outputs": [],
   "source": [
    "torch.save(model1, 'model1.pt')"
   ]
  },
  {
   "cell_type": "markdown",
   "metadata": {},
   "source": [
    "## Evaluation MODEL1"
   ]
  },
  {
   "cell_type": "code",
   "execution_count": 40,
   "metadata": {},
   "outputs": [
    {
     "data": {
      "text/plain": [
       "Segmenter(\n",
       "  (emb): Embedding(3649, 200, padding_idx=0)\n",
       "  (lstm): LSTM(200, 150, batch_first=True)\n",
       "  (sig1): Sigmoid()\n",
       "  (lin): Linear(in_features=150, out_features=2, bias=True)\n",
       "  (softmax): LogSoftmax(dim=2)\n",
       ")"
      ]
     },
     "execution_count": 40,
     "metadata": {},
     "output_type": "execute_result"
    }
   ],
   "source": [
    "model1.eval()"
   ]
  },
  {
   "cell_type": "code",
   "execution_count": 41,
   "metadata": {},
   "outputs": [],
   "source": [
    "with torch.no_grad():\n",
    "    rawpredictions = model1(test_X_tensor, test_lengths_tensor)"
   ]
  },
  {
   "cell_type": "code",
   "execution_count": 42,
   "metadata": {},
   "outputs": [
    {
     "data": {
      "text/plain": [
       "torch.Size([500, 157, 2])"
      ]
     },
     "execution_count": 42,
     "metadata": {},
     "output_type": "execute_result"
    }
   ],
   "source": [
    "rawpredictions.size()"
   ]
  },
  {
   "cell_type": "code",
   "execution_count": 240,
   "metadata": {},
   "outputs": [],
   "source": [
    "#rawpredictions"
   ]
  },
  {
   "cell_type": "code",
   "execution_count": 82,
   "metadata": {},
   "outputs": [
    {
     "data": {
      "text/plain": [
       "(-0.15200309344504995, -0.3219280948873623)"
      ]
     },
     "execution_count": 82,
     "metadata": {},
     "output_type": "execute_result"
    }
   ],
   "source": [
    "import math\n",
    "math.log2(0.9), math.log2(0.8)"
   ]
  },
  {
   "cell_type": "code",
   "execution_count": 43,
   "metadata": {},
   "outputs": [],
   "source": [
    "predictions = torch.argmax(rawpredictions, 2)"
   ]
  },
  {
   "cell_type": "code",
   "execution_count": 44,
   "metadata": {},
   "outputs": [
    {
     "data": {
      "text/plain": [
       "tensor([[1, 0, 1,  ..., 1, 1, 1],\n",
       "        [1, 0, 1,  ..., 1, 1, 1],\n",
       "        [1, 0, 1,  ..., 1, 1, 1],\n",
       "        ...,\n",
       "        [1, 0, 1,  ..., 1, 1, 1],\n",
       "        [1, 1, 1,  ..., 1, 1, 1],\n",
       "        [1, 1, 1,  ..., 1, 1, 1]], device='cuda:3')"
      ]
     },
     "execution_count": 44,
     "metadata": {},
     "output_type": "execute_result"
    }
   ],
   "source": [
    "predictions"
   ]
  },
  {
   "cell_type": "code",
   "execution_count": 45,
   "metadata": {},
   "outputs": [
    {
     "data": {
      "text/plain": [
       "torch.Size([500, 157])"
      ]
     },
     "execution_count": 45,
     "metadata": {},
     "output_type": "execute_result"
    }
   ],
   "source": [
    "predictions.size()"
   ]
  },
  {
   "cell_type": "code",
   "execution_count": 246,
   "metadata": {},
   "outputs": [],
   "source": [
    "#predictions[0]"
   ]
  },
  {
   "cell_type": "code",
   "execution_count": null,
   "metadata": {},
   "outputs": [],
   "source": [
    "test_sentences[0]"
   ]
  },
  {
   "cell_type": "code",
   "execution_count": null,
   "metadata": {},
   "outputs": [],
   "source": [
    "test_y_tensor[0]"
   ]
  },
  {
   "cell_type": "code",
   "execution_count": 249,
   "metadata": {},
   "outputs": [
    {
     "data": {
      "text/plain": [
       "tensor(29, device='cuda:3')"
      ]
     },
     "execution_count": 249,
     "metadata": {},
     "output_type": "execute_result"
    }
   ],
   "source": [
    "test_lengths_tensor[0]"
   ]
  },
  {
   "cell_type": "code",
   "execution_count": 46,
   "metadata": {},
   "outputs": [],
   "source": [
    "collectpreds = []\n",
    "collecty = []"
   ]
  },
  {
   "cell_type": "code",
   "execution_count": 47,
   "metadata": {},
   "outputs": [],
   "source": [
    "for i in range(test_X_tensor.size(0)):\n",
    "    collectpreds.append(predictions[i][:test_lengths_tensor[i]])\n",
    "    collecty.append(test_y_tensor[i][:test_lengths_tensor[i]])"
   ]
  },
  {
   "cell_type": "code",
   "execution_count": 48,
   "metadata": {},
   "outputs": [
    {
     "data": {
      "text/plain": [
       "[tensor([ 1,  0,  1,  1,  0,  1,  1,  0,  1,  1,  0,  1,  1,  0,  1,  0,  1, -1,\n",
       "         -1], device='cuda:3'),\n",
       " tensor([ 1,  0,  1,  0,  0,  0,  1,  1,  0,  1,  1,  0,  1,  0,  1,  0,  1,  1,\n",
       "          0,  1,  1,  0,  1,  1,  0,  1,  1,  1,  0,  1,  0,  1, -1],\n",
       "        device='cuda:3'),\n",
       " tensor([ 1,  0,  0,  1,  1,  0,  1,  0,  1,  1,  0,  1,  0,  1,  1,  1,  0,  1,\n",
       "          1,  1,  0,  1,  1,  0,  1,  0,  1,  1,  0,  1,  0,  0,  1,  1,  0,  1,\n",
       "          0,  0,  0,  1, -1], device='cuda:3'),\n",
       " tensor([ 1,  0,  1,  0,  1,  0,  1,  0,  1,  1,  1,  1,  1,  1,  1,  1,  1,  0,\n",
       "          1,  1,  1,  0,  1,  1,  1,  1,  0,  1,  1,  1,  1,  1, -1],\n",
       "        device='cuda:3'),\n",
       " tensor([ 1,  0,  1,  1,  0,  1,  1,  1,  1,  1,  0,  1,  1,  0,  1, -1],\n",
       "        device='cuda:3'),\n",
       " tensor([ 1,  0,  1,  0,  1,  0,  1,  0,  1,  1,  0,  1,  0,  1,  1,  0,  1,  1,\n",
       "          0,  1,  1,  0,  1,  0,  1,  1,  1,  1,  1,  1,  0,  0,  1,  1,  0,  1,\n",
       "          1,  0,  1,  1,  0,  1,  1,  0,  1,  1,  0,  1,  1,  0,  0,  1,  1,  0,\n",
       "          1,  1,  0,  1,  1,  0,  1, -1], device='cuda:3'),\n",
       " tensor([ 1,  0,  1,  0,  1,  1,  0,  1,  0,  1,  0,  1,  0,  1,  1,  1,  1,  0,\n",
       "          1,  1,  1,  1,  1,  1,  1,  1,  1,  1,  0,  1,  0,  1,  1,  1,  0,  1,\n",
       "          1,  0,  0,  0,  0,  0,  0,  0,  0,  1,  0,  0,  0,  0,  0,  1,  1, -1],\n",
       "        device='cuda:3'),\n",
       " tensor([ 1,  0,  1,  1,  1,  1,  1,  1,  0,  1,  0,  1,  1,  0,  1,  0,  0,  1,\n",
       "          0,  1,  1,  0,  1,  0,  1,  0,  1,  0,  1,  0,  1,  0,  1,  0,  1, -1],\n",
       "        device='cuda:3'),\n",
       " tensor([ 1,  0,  1,  0,  1,  1,  0,  1,  1,  0,  1,  1,  0,  1,  1,  0,  1,  0,\n",
       "          1,  0,  1,  0,  1,  1,  1,  1,  0,  1,  1,  0,  1,  1,  1,  0,  1,  1,\n",
       "          0,  1,  0,  1,  1,  0,  0,  0,  1,  1, -1], device='cuda:3'),\n",
       " tensor([ 1,  1,  1,  1,  1,  1,  1,  1,  0,  1,  0,  1,  0,  1,  1,  0,  0,  0,\n",
       "          1,  1,  1,  1,  1,  0,  0,  0,  1,  1,  1,  1,  1,  0,  1,  1,  0,  1,\n",
       "          0,  1,  1,  0,  0,  1,  1,  0,  0,  1,  1,  0,  1,  0,  1,  1,  0,  1,\n",
       "          1,  0,  1,  1,  1,  0,  0,  0,  1,  1,  0,  1,  0,  1,  0,  1,  1,  1,\n",
       "          1,  1,  1,  1, -1], device='cuda:3'),\n",
       " tensor([ 1,  0,  0,  1,  1,  0,  0,  0,  0,  0,  0,  0,  0,  1,  1,  1,  1,  1,\n",
       "          0,  1,  0,  1,  1,  1,  1,  0,  1,  1,  1,  1,  1,  1, -1],\n",
       "        device='cuda:3'),\n",
       " tensor([ 1,  0,  0,  0,  1,  0,  1,  1,  1,  0,  0,  0,  1,  0,  1,  0,  1,  0,\n",
       "          1,  1,  0,  0,  0,  1,  0,  1,  1,  1,  0,  0,  0,  1,  1,  1,  1,  0,\n",
       "          1,  0,  1,  0,  1,  0,  1,  0,  1,  1,  0,  1,  0,  1,  1, -1],\n",
       "        device='cuda:3'),\n",
       " tensor([ 1,  0,  1,  1,  1,  0,  1,  0,  1,  1,  0,  1,  0,  1,  1,  0,  1,  0,\n",
       "          1,  0,  1,  1,  1,  0,  1,  1,  1,  1,  0,  1,  1,  0,  1,  1,  0,  1,\n",
       "          1,  0,  1,  1,  0,  1,  1, -1], device='cuda:3'),\n",
       " tensor([ 1,  0,  1,  0,  1,  1,  0,  1,  0,  1,  1,  1,  0,  1,  1,  1,  0,  1,\n",
       "          1,  1,  1,  0,  1,  0,  1,  1,  0,  1,  1,  0,  1,  1,  0,  1,  1, -1],\n",
       "        device='cuda:3'),\n",
       " tensor([ 1,  0,  1,  1,  0,  0,  0,  1,  1,  0,  1,  1,  1,  0,  1,  1,  0,  1,\n",
       "          1,  1,  0,  1,  0,  1,  1,  1,  1,  1,  1,  1,  1,  0,  1,  0,  0,  0,\n",
       "          1,  0,  1,  0,  1,  1,  1,  1,  1,  0,  1,  0,  1,  0,  1,  1,  1,  0,\n",
       "          1,  1,  1, -1], device='cuda:3'),\n",
       " tensor([ 1,  0,  1,  1,  0,  1,  1,  1,  0,  1,  1,  0,  1,  1,  0,  0,  0,  1,\n",
       "          1, -1], device='cuda:3'),\n",
       " tensor([ 1,  0,  1,  1,  1,  1,  1,  1,  0,  1,  1,  0,  1,  1,  0,  1,  1,  0,\n",
       "          1,  1,  0,  1,  1, -1], device='cuda:3'),\n",
       " tensor([ 1,  1,  0,  1,  1,  1,  0,  0,  0,  1,  1,  1,  1,  0,  1,  1,  1,  0,\n",
       "          0,  0,  1,  1,  0,  1,  1,  1,  0,  1,  1,  1,  1,  1,  1,  0,  1,  0,\n",
       "          1,  1,  0,  1,  0,  0,  1,  1,  0,  1,  1,  0,  1,  1,  0,  1,  0,  1,\n",
       "          1,  0,  1,  1,  0,  1,  1,  1,  0,  1,  1,  0,  1,  0,  1,  1,  1,  0,\n",
       "          1,  1,  1,  1,  0,  1,  1,  0,  1,  0,  1,  1,  1,  0,  1,  1,  1,  0,\n",
       "          1,  1,  1,  0,  1,  0,  1,  1,  1,  0,  0,  0,  1,  1,  0,  1,  1,  0,\n",
       "          1,  1,  1, -1], device='cuda:3'),\n",
       " tensor([ 1,  1,  0,  1,  0,  1,  1,  0,  1,  1,  1,  0,  1,  1,  1,  0,  1,  0,\n",
       "          1,  0,  1,  1,  0,  1,  0,  1,  1,  0,  1,  1,  1,  1,  0,  1, -1],\n",
       "        device='cuda:3'),\n",
       " tensor([ 1,  0,  1,  1,  0,  1,  1,  0,  1,  0,  1,  1,  0,  1,  0,  1,  1,  0,\n",
       "          1,  1,  0,  1,  0,  1,  0,  1,  1,  0,  1,  0,  1,  0,  1,  0,  1,  1,\n",
       "          0,  1, -1], device='cuda:3'),\n",
       " tensor([ 1,  0,  1,  0,  1,  1,  1,  0,  1,  1,  1,  1,  0,  1,  1,  1,  1,  1,\n",
       "          0,  1,  0,  1,  1,  1, -1], device='cuda:3'),\n",
       " tensor([ 1,  1,  1,  1,  1,  0,  0,  0,  1,  1,  0,  1,  0,  1,  0,  1,  0,  1,\n",
       "         -1], device='cuda:3'),\n",
       " tensor([ 1,  1,  1,  0,  1,  1,  0,  1,  1,  0,  1,  1,  0,  1,  1,  0,  1,  1,\n",
       "          0,  1,  0,  0,  0,  0,  1,  0,  1,  1,  1,  0,  1,  0,  1, -1],\n",
       "        device='cuda:3'),\n",
       " tensor([ 1,  0,  0,  0,  1,  1,  1,  1,  1,  1,  1,  0,  0,  1,  0,  1,  1,  0,\n",
       "          0,  0,  1,  0,  1,  1,  1,  0,  1,  1,  0,  0,  0,  1,  0,  1,  0,  1,\n",
       "          1,  1, -1], device='cuda:3'),\n",
       " tensor([ 1,  0,  0,  0,  1,  1,  1,  0,  0,  0,  0,  0,  0,  1,  0,  1,  0,  0,\n",
       "          1,  0,  0,  0,  0,  1,  1,  1,  0,  0,  1,  0,  1,  0,  1,  0,  0,  0,\n",
       "          1,  1,  1,  1,  0,  1,  0,  1,  1,  0,  1,  1,  0,  1,  0,  0,  0,  1,\n",
       "          1,  1,  1,  0,  1,  1,  0,  1,  1, -1], device='cuda:3'),\n",
       " tensor([ 1,  1,  0,  1,  1,  0,  1,  0,  0,  0,  0,  1,  0,  0,  0,  1,  1,  0,\n",
       "          0,  0,  1,  1,  1,  1,  0,  1,  1,  0,  0,  1,  1, -1],\n",
       "        device='cuda:3'),\n",
       " tensor([ 1,  1,  0,  1,  1,  0,  1,  0,  0,  0,  0,  1,  0,  0,  0,  1,  1,  0,\n",
       "          0,  0,  1,  1,  1,  1,  0,  1,  1,  0,  0,  1,  1, -1],\n",
       "        device='cuda:3'),\n",
       " tensor([ 1,  1,  0,  1,  0,  1,  0,  0,  0,  1,  1,  0,  1,  0,  0,  1,  1,  1,\n",
       "          0,  1,  0,  1,  0,  0,  0,  1,  1,  1,  0,  0,  0,  1,  1,  0,  0,  0,\n",
       "          1,  1,  1, -1], device='cuda:3'),\n",
       " tensor([ 1,  1,  0,  1,  1,  0,  1,  0,  0,  0,  0,  1,  0,  0,  0,  1,  1,  0,\n",
       "          0,  0,  1,  1,  1,  1,  0,  1,  1,  0,  0,  1,  1, -1],\n",
       "        device='cuda:3'),\n",
       " tensor([ 1,  1,  1,  1,  0,  0,  0,  1,  1,  1,  0,  0,  0,  1,  1,  1,  0,  1,\n",
       "          0,  1,  1,  0,  1,  0,  0,  1,  1,  1,  0,  1,  0,  1,  0,  1,  0,  1,\n",
       "          1,  0,  1,  0,  0,  0,  0,  0,  1,  1,  1,  0,  1,  0,  1,  1,  0,  0,\n",
       "          0,  1,  1,  1,  1,  1,  0,  1,  0,  0,  1, -1], device='cuda:3'),\n",
       " tensor([ 1,  0,  0,  0,  1,  1,  1,  0,  1,  0,  1,  1,  0,  1,  0,  1,  0,  1,\n",
       "          1,  0,  1,  0,  1,  0,  1,  0,  1,  1,  0,  1, -1], device='cuda:3'),\n",
       " tensor([ 1,  0,  0,  0,  1,  1,  1,  0,  0,  0,  1,  1,  1,  0,  1,  0,  1,  0,\n",
       "          1,  1,  0,  1,  1,  0,  0,  0,  1,  0,  0,  1,  1, -1],\n",
       "        device='cuda:3'),\n",
       " tensor([ 1,  1,  0,  1,  1,  0,  1,  0,  0,  0,  0,  1,  0,  0,  0,  1,  1,  0,\n",
       "          0,  0,  1,  1,  1,  1,  0,  1,  1,  0,  0,  0,  1,  1, -1],\n",
       "        device='cuda:3'),\n",
       " tensor([ 1,  0,  1,  0,  1,  1,  1,  0,  1,  0,  1,  1,  0,  1,  1,  0,  1, -1],\n",
       "        device='cuda:3'),\n",
       " tensor([ 1,  0,  1,  1,  0,  1,  1,  1,  0,  1,  1,  1,  1,  1,  0,  1,  0,  0,\n",
       "          0,  0,  1,  1,  1,  0,  1,  0,  1, -1], device='cuda:3'),\n",
       " tensor([ 1,  0,  1,  1,  1,  1,  0,  1,  0,  1,  1,  1,  0,  1,  1,  0,  1,  0,\n",
       "          1,  1,  1,  1,  1,  1,  1,  1,  1,  0,  1,  1,  0,  1,  1,  1,  0,  1,\n",
       "          1, -1], device='cuda:3'),\n",
       " tensor([ 1,  0,  1,  1,  0,  1,  0,  1,  0,  1,  0,  1,  0,  1,  1,  1,  0,  1,\n",
       "          1,  1,  0,  1,  0,  1, -1], device='cuda:3'),\n",
       " tensor([ 1,  1,  0,  1,  1,  1,  0,  0,  0,  1,  1,  0,  0,  1,  1,  0,  1,  1,\n",
       "          1,  1,  0,  0,  0,  1,  1,  1,  0,  0,  0,  1,  1, -1],\n",
       "        device='cuda:3'),\n",
       " tensor([ 1,  1,  0,  1,  1,  0,  1,  0,  0,  0,  1,  0,  0,  0,  1,  1,  0,  0,\n",
       "          0,  1,  1,  1,  1,  0,  1,  1,  0,  0,  0,  1,  1, -1],\n",
       "        device='cuda:3'),\n",
       " tensor([ 1,  0,  0,  0,  1,  1,  1,  0,  1,  0,  1,  0,  1,  1,  0,  1,  1,  0,\n",
       "          1,  1,  1,  0,  1, -1], device='cuda:3'),\n",
       " tensor([ 1,  0,  1,  0,  1,  1,  0,  1,  0,  0,  1,  1,  0,  1,  0,  1,  0,  1,\n",
       "          0,  1,  0,  1,  1,  0,  1, -1], device='cuda:3'),\n",
       " tensor([ 1,  1,  0,  0,  0,  0,  0,  1,  0,  1,  1,  0,  0,  0,  0,  0,  0,  0,\n",
       "          0,  1,  0,  0,  0,  0,  0,  1,  1,  0,  1,  0,  1,  1,  1,  1,  1,  1,\n",
       "          0,  1,  1,  0,  1,  1,  0,  1,  1,  1,  0,  0,  0,  0,  1,  0,  0,  0,\n",
       "          0,  1,  1, -1], device='cuda:3'),\n",
       " tensor([ 1,  1,  1,  0,  1,  0,  1,  0,  1,  1,  1,  0,  1,  1,  0,  1,  0,  1,\n",
       "          0,  1,  0,  1,  0,  1,  0,  1,  1,  0,  1,  0,  1,  1,  0,  1,  0,  1,\n",
       "          0,  1,  1,  0,  1,  0,  1,  1,  0,  1,  0,  1,  1,  1,  0,  1,  1,  0,\n",
       "          1, -1], device='cuda:3'),\n",
       " tensor([ 1,  0,  0,  0,  1,  1,  1,  0,  1,  1,  0,  0,  1,  1,  0,  1,  1,  1,\n",
       "          0,  1,  1,  0,  1,  0,  1,  0,  1,  0,  0,  0,  1,  1,  0,  1,  1,  0,\n",
       "          1,  0,  1,  0,  1,  1,  1,  1,  1,  0,  0,  1,  1,  0,  1,  0,  1,  1,\n",
       "          1,  1,  0,  1,  0,  0,  1,  0,  1,  1,  0,  1,  1,  1,  0,  0,  0,  1,\n",
       "          1,  1,  0,  1,  1,  1,  1,  1,  0,  1,  1,  0,  1,  0,  1, -1],\n",
       "        device='cuda:3'),\n",
       " tensor([ 1,  0,  1,  0,  1,  1,  1,  0,  1,  1,  0,  1,  1,  0,  1,  1,  0,  1,\n",
       "          0,  1,  1,  0,  1,  1,  1,  1,  1,  0,  1,  0,  1,  0,  1,  0,  1, -1],\n",
       "        device='cuda:3'),\n",
       " tensor([ 1,  0,  1,  0,  1,  1,  0,  1,  0,  1,  1,  0,  0,  0,  1,  0,  1,  1,\n",
       "          0,  1,  0,  1,  0,  1,  0,  1, -1], device='cuda:3'),\n",
       " tensor([ 1,  0,  0,  1,  1,  0,  1,  1,  1,  1,  1,  1,  1,  0,  1,  1,  0,  1,\n",
       "         -1], device='cuda:3'),\n",
       " tensor([ 1,  0,  1,  0,  1,  1,  1,  0,  1,  1,  0,  1,  1,  0,  1,  0,  1,  0,\n",
       "          1,  0,  1, -1], device='cuda:3'),\n",
       " tensor([ 1,  1,  1,  0,  0,  0,  1,  1,  0,  1,  0,  1,  0,  1,  1,  1,  1,  0,\n",
       "          1,  0,  1,  0,  1, -1], device='cuda:3'),\n",
       " tensor([ 1,  0,  1,  0,  1,  1,  0,  1,  0,  1,  1,  1,  1,  1,  0,  1,  1,  0,\n",
       "          1,  1,  0,  1,  0,  1,  0,  1,  1,  0,  1,  0,  1,  1,  1,  0,  1,  0,\n",
       "          1,  0,  1, -1], device='cuda:3'),\n",
       " tensor([ 1,  1,  1,  1,  1,  1,  0,  1,  0,  1,  0,  1,  1,  1,  1,  1,  0,  0,\n",
       "          1,  1,  1,  0,  1,  1,  1,  1,  1,  0,  1,  1,  0,  1,  0,  0,  1,  1,\n",
       "          0,  1, -1], device='cuda:3'),\n",
       " tensor([ 1,  0,  1,  1,  1,  0,  1,  1,  1,  1,  1,  1,  1,  1,  1,  0,  1,  1,\n",
       "          1,  1,  1,  1,  1,  0,  1,  1,  1,  1,  0,  1,  1,  0,  1,  0,  1,  1,\n",
       "          0,  1,  1,  1,  0,  1,  0,  1,  1,  1,  1,  1,  0,  1,  1,  1,  1,  1,\n",
       "          1,  0,  1,  0,  1,  1,  1,  0,  1,  1,  1,  0,  1,  1,  1,  1,  0,  1,\n",
       "          1,  1, -1], device='cuda:3'),\n",
       " tensor([ 1,  0,  1,  1,  0,  1,  1,  1,  1,  0,  1,  0,  1,  1,  0,  1,  1,  1,\n",
       "          1,  1,  1,  0,  1,  0,  1,  0,  1,  0,  1,  1,  0,  1,  1,  1,  0,  1,\n",
       "         -1], device='cuda:3'),\n",
       " tensor([ 1,  1,  0,  1,  0,  1,  1,  1,  0,  1,  1,  0,  1,  0,  1,  0,  1,  1,\n",
       "          0,  1,  1,  0,  1,  0,  1,  1,  0,  1,  0,  1,  0,  1,  0,  1,  0,  1,\n",
       "          1,  0,  1,  0,  1,  1,  0,  1,  0,  1,  0,  1, -1], device='cuda:3'),\n",
       " tensor([ 1,  0,  1,  0,  1,  0,  1,  0,  1,  0,  1,  0,  1,  0,  1,  0,  1,  1,\n",
       "          0,  1,  1,  0,  1,  1,  0,  1, -1], device='cuda:3'),\n",
       " tensor([ 1,  1,  0,  1,  0,  1,  1,  1,  1,  1,  1,  0,  0,  0,  0,  0,  0,  0,\n",
       "          0,  1,  1,  1,  0,  0,  0,  1,  1,  0,  1,  1,  1,  1,  0,  1,  0,  1,\n",
       "          0,  1,  0,  1, -1], device='cuda:3'),\n",
       " tensor([ 1,  0,  1,  1,  0,  1,  0,  1,  0,  1,  1,  0,  1,  1, -1],\n",
       "        device='cuda:3'),\n",
       " tensor([ 1,  0,  0,  0,  0,  1,  0,  1,  1,  0,  1,  0,  1,  0,  1,  1,  0,  1,\n",
       "          1,  1,  0,  1,  0,  1,  1,  1,  1,  0,  1,  0,  1,  0,  1,  0,  1, -1],\n",
       "        device='cuda:3'),\n",
       " tensor([ 1,  1,  1,  1,  1,  0,  1,  1,  0,  1,  0,  1,  0,  1,  0,  1,  1,  0,\n",
       "          1,  1,  1,  0,  1,  1,  0,  1,  1,  0,  1,  1,  0,  1,  1,  1,  0,  1,\n",
       "          0,  1,  1,  1,  1,  0,  1,  1, -1], device='cuda:3'),\n",
       " tensor([ 1,  0,  0,  0,  1,  1,  1,  1,  0,  1,  1,  0,  0,  1,  0,  0,  0,  1,\n",
       "          0,  1,  1,  1,  0,  1,  1,  0,  0,  0,  1, -1], device='cuda:3'),\n",
       " tensor([ 1,  0,  1,  0,  1,  1,  0,  1,  0,  1,  1,  0,  1,  0,  1,  1,  1,  0,\n",
       "          1,  1,  1,  0,  1,  0,  1,  1,  1,  1,  1,  0,  1,  0,  1,  1,  1,  0,\n",
       "          1,  1,  0,  1,  1,  0,  1, -1], device='cuda:3'),\n",
       " tensor([ 1,  0,  1,  0,  1,  0,  1,  0,  1,  0,  1,  0,  1,  1,  0,  1,  0,  1,\n",
       "          0,  1,  1,  0,  1,  1,  0,  1,  1,  0,  1,  0,  1,  1,  1,  0,  1,  0,\n",
       "          1,  1,  1,  0,  1,  0,  1,  1,  1,  0,  1,  0,  1,  1, -1],\n",
       "        device='cuda:3'),\n",
       " tensor([ 1,  0,  1,  1,  1,  1,  0,  1,  1,  0,  0,  0,  0,  1,  0,  0,  0,  0,\n",
       "          0,  1,  1,  0,  1,  1,  1,  1,  1,  0,  1,  0,  1,  1,  0,  1,  1,  0,\n",
       "          1,  0,  1,  1,  1,  1,  0,  1,  1,  1,  0,  1,  0,  1,  1,  1,  0,  1,\n",
       "          1,  1,  1,  1,  1,  1,  1,  0,  1,  0,  1,  0,  1,  0,  1, -1],\n",
       "        device='cuda:3'),\n",
       " tensor([ 1,  1,  1,  1,  0,  1,  0,  1,  1,  0,  1,  0,  1,  0,  1,  1,  1,  1,\n",
       "          0,  1,  1,  1,  0,  1,  0,  1,  1,  1,  0,  1,  1,  1,  1,  1,  0,  1,\n",
       "          1,  1,  1,  1,  0,  1,  1,  1,  0,  1,  0,  1,  0,  1,  1,  1,  0,  1,\n",
       "          0,  1,  0,  1,  1,  1,  0,  1,  1,  0,  1,  0,  1,  1,  1,  1,  1,  1,\n",
       "          0,  1,  1,  0,  1, -1], device='cuda:3'),\n",
       " tensor([ 1,  0,  1,  1,  1,  0,  1,  1,  0,  1,  0,  1,  0,  1, -1],\n",
       "        device='cuda:3'),\n",
       " tensor([ 1,  0,  1,  1,  1,  0,  1,  0,  1,  0,  1,  1,  0,  1,  1,  1,  1,  0,\n",
       "          1,  0,  1, -1], device='cuda:3'),\n",
       " tensor([ 1,  0,  0,  0,  0,  1,  0,  1,  1,  1,  1,  1,  1,  1,  0,  1,  0,  1,\n",
       "          1,  0,  1,  1,  1,  1,  1,  1,  0,  1,  0,  0,  0,  1,  1, -1],\n",
       "        device='cuda:3'),\n",
       " tensor([ 1,  0,  1,  1,  1,  1,  0,  1,  0,  1,  1,  1,  0,  1,  0,  1,  0,  1,\n",
       "          1,  0,  1,  1, -1], device='cuda:3'),\n",
       " tensor([ 1,  1,  0,  1,  0,  0,  0,  0,  1,  0,  0,  0,  1,  1,  1,  0,  1,  0,\n",
       "          0,  0,  1,  1,  1,  0,  1,  0,  1,  0,  0,  1,  1,  1,  0,  1,  0,  0,\n",
       "          1,  1,  1,  0,  0,  0,  1,  1,  0,  1,  1,  0,  1,  1,  1,  1,  0,  1,\n",
       "          0,  1,  0,  0,  1,  1,  1,  0,  0,  0,  1, -1], device='cuda:3'),\n",
       " tensor([ 1,  0,  1,  0,  1,  0,  1,  1,  1,  0,  1,  1,  0,  1,  0,  1,  1,  0,\n",
       "          0,  0,  1,  1,  1,  1,  0,  1,  1,  1,  1,  0,  1,  1,  0,  1,  0,  1,\n",
       "          1,  1, -1], device='cuda:3'),\n",
       " tensor([ 1,  1,  1,  1,  1,  0,  1,  1,  0,  1,  1,  0,  1,  1,  0,  1,  1,  0,\n",
       "          1,  0,  1, -1], device='cuda:3'),\n",
       " tensor([ 1,  0,  1,  1,  1,  1,  0,  1,  0,  1,  1,  1,  1,  1,  0,  1,  1,  1,\n",
       "          1,  0,  1,  0,  1,  0,  1,  1,  0,  1,  1,  0,  1,  0,  1,  0,  1,  1,\n",
       "          0,  1,  1,  1,  1,  1,  1,  0,  0,  0,  1, -1], device='cuda:3'),\n",
       " tensor([ 1,  0,  0,  1,  1,  0,  1,  0,  1,  0,  1,  0,  1,  0,  1,  1,  1,  1,\n",
       "          1,  1,  0,  1,  0,  0,  0,  1,  0,  1,  0,  1,  1,  0,  0,  1,  0,  1,\n",
       "          0,  1,  1,  1,  1,  0,  0,  0,  1,  0,  1,  1,  1,  0,  1,  1,  0,  1,\n",
       "         -1], device='cuda:3'),\n",
       " tensor([ 1,  1,  0,  1,  0,  1,  0,  1,  0,  1,  0,  1,  0,  1,  1,  1,  0,  1,\n",
       "          1,  0,  1,  1,  1,  0, -1], device='cuda:3'),\n",
       " tensor([ 1,  1,  1,  1,  0,  1,  1,  0,  0,  1,  0,  1,  1,  0,  1,  1,  1,  1,\n",
       "          1,  0,  1,  0,  1,  0,  1,  1,  0,  1, -1], device='cuda:3'),\n",
       " tensor([ 1,  1,  0,  0,  1,  1,  1,  0,  1,  1,  0,  0,  0,  1,  1,  1,  1,  1,\n",
       "          0,  1,  0,  1,  0,  1,  0,  1,  1,  0,  1,  0,  1,  1,  1,  1,  1,  0,\n",
       "          1,  0,  1,  1,  1,  0,  1,  0,  1, -1], device='cuda:3'),\n",
       " tensor([ 1,  0,  1,  0,  1,  0,  1,  0,  1,  0,  1,  1,  0,  1,  0,  0,  1,  1,\n",
       "          0,  1,  1,  1,  1,  0,  0,  1,  1,  0,  1,  1,  0,  1,  1,  0,  1,  1,\n",
       "         -1], device='cuda:3'),\n",
       " tensor([ 1,  0,  1,  1,  0,  1,  0,  1,  0,  1,  1,  1,  0,  1,  1,  0,  1,  0,\n",
       "          1, -1], device='cuda:3'),\n",
       " tensor([ 1,  0,  1,  0,  1,  1,  1,  0,  1,  0,  1,  1,  0,  1,  1,  0,  0,  1,\n",
       "          0,  1,  1,  0,  1,  0,  1, -1], device='cuda:3'),\n",
       " tensor([ 1,  0,  1,  0,  0,  1,  1,  1,  0,  1,  0,  1,  0,  1,  1,  1,  0,  1,\n",
       "          0,  1,  1,  1,  0,  1,  0,  1,  1,  1,  1,  0,  0,  1,  0,  1,  0,  0,\n",
       "          0,  1,  1,  0,  1,  1,  0,  1,  1,  1,  0,  1,  1,  0,  1, -1],\n",
       "        device='cuda:3'),\n",
       " tensor([ 1,  1,  0,  1,  1,  0,  1,  0,  0,  0,  0,  1,  0,  0,  0,  1,  1,  0,\n",
       "          0,  0,  1,  1,  1,  1,  0,  1,  1,  0,  0,  1,  1, -1],\n",
       "        device='cuda:3'),\n",
       " tensor([ 1,  1,  1,  1,  1,  1,  1,  1,  0,  1,  1,  0,  1,  0,  1,  1,  1,  0,\n",
       "          1,  0,  1,  0,  1,  0,  1,  0,  1,  1,  1,  0,  1,  0,  1,  0,  1,  1,\n",
       "          0,  1,  1,  1, -1], device='cuda:3'),\n",
       " tensor([ 1,  0,  1,  1,  1,  0,  0,  0,  1,  1,  0,  1,  1,  1,  0,  0,  1,  1,\n",
       "          1,  0,  0,  0,  0,  1,  1,  0,  1,  0,  1,  1,  1,  1,  0,  0,  1,  1,\n",
       "          1,  1,  0,  1,  1,  0,  1,  1,  0,  1,  0,  1,  1,  0,  1,  0,  0,  0,\n",
       "          0,  1,  0,  0,  0,  1,  1,  0,  1,  0,  1,  0,  0,  1,  1, -1],\n",
       "        device='cuda:3'),\n",
       " tensor([ 1,  0,  1,  0,  1,  0,  1,  1,  0,  1,  0,  1,  1,  0,  1,  1,  1,  0,\n",
       "          1,  1,  0,  0,  1,  1,  1,  0,  1,  1,  0,  1,  0,  1,  1,  0,  1, -1],\n",
       "        device='cuda:3'),\n",
       " tensor([ 1,  0,  0,  0,  1,  0,  1,  1,  1,  0,  1,  1,  0,  1,  1,  0,  1,  1,\n",
       "          0,  1,  0,  1,  0,  1,  1, -1], device='cuda:3'),\n",
       " tensor([ 1,  0,  0,  0,  1,  1,  1,  0,  0,  0,  1,  1,  1,  1,  1,  0,  1,  0,\n",
       "          1,  0,  1,  1,  0,  1,  1,  0,  0,  0,  1,  1,  1,  1,  1,  0,  1,  0,\n",
       "          0,  0,  1,  0,  1,  0,  1,  1,  0,  0,  0,  1,  1,  1,  0,  0,  0,  1,\n",
       "          1,  1,  1,  1,  0,  1,  0,  1,  0,  1, -1], device='cuda:3'),\n",
       " tensor([ 1,  0,  0,  0,  1,  0,  1,  0,  1,  1,  1,  0,  1,  1,  1,  0,  0,  0,\n",
       "          1,  0,  1,  1,  1,  0,  1,  1,  0,  1,  0,  1,  0,  1,  1,  1,  0,  1,\n",
       "          1,  0,  0,  0,  1,  1,  1,  1,  1,  1,  0,  0,  1,  0,  1,  1,  0,  1,\n",
       "          0,  1,  0,  1,  1,  1,  1,  0,  1,  0,  1,  0,  0,  1,  1,  1,  0,  1,\n",
       "         -1], device='cuda:3'),\n",
       " tensor([ 1,  0,  0,  0,  1,  1,  1,  1,  1,  0,  1,  0,  1,  0,  1,  0,  0,  0,\n",
       "          1,  1,  0,  1,  1,  1,  1,  0,  1,  1,  0,  1,  0,  1,  0,  1,  0,  1,\n",
       "         -1], device='cuda:3'),\n",
       " tensor([ 1,  0,  1,  1,  0,  1,  0,  1,  0,  1,  1,  1,  1,  1,  1,  1,  1,  0,\n",
       "          1,  1,  1,  1,  0,  0,  0,  1,  1,  0,  1, -1], device='cuda:3'),\n",
       " tensor([ 1,  1,  1,  0,  1,  0,  1,  0,  1,  1,  0,  1,  1,  0,  1,  1,  0,  1,\n",
       "          0,  1,  1,  1,  1,  0,  1,  0,  1,  0,  1,  1,  0,  1,  0,  1, -1],\n",
       "        device='cuda:3'),\n",
       " tensor([ 1,  0,  1,  1,  1,  1,  1,  1,  1,  0,  1,  0,  1,  1,  0,  1,  1,  1,\n",
       "          0,  1,  1,  0,  1,  1,  1,  0,  0,  1,  0,  0,  0,  1, -1],\n",
       "        device='cuda:3'),\n",
       " tensor([ 1,  0,  1,  1,  1,  0,  1,  0,  1,  1,  0,  0,  0,  1,  0,  1,  0,  1,\n",
       "          0,  1,  1,  0,  1,  0,  1, -1], device='cuda:3'),\n",
       " tensor([ 1,  1,  1,  0,  1,  1,  0,  1,  1,  0,  1,  0,  1,  1,  0,  1,  0,  1,\n",
       "          0,  0,  1,  0,  1,  1,  0,  1,  1,  0,  1,  1,  0,  1,  0,  1,  0,  1,\n",
       "          1,  1,  0,  1,  1,  1,  0,  1,  1,  0,  1, -1], device='cuda:3'),\n",
       " tensor([ 1,  0,  1,  0,  1,  1,  0,  0,  0,  1,  1,  0,  1,  1,  1,  1, -1],\n",
       "        device='cuda:3'),\n",
       " tensor([ 1,  0,  1,  0,  0,  0,  1,  1,  0,  0,  0,  1,  0,  1,  0,  1,  0,  1,\n",
       "          1,  1,  1,  1,  0,  1,  0,  1,  1,  1,  0,  1,  1,  1,  1,  0,  1,  0,\n",
       "          1,  1,  1,  0,  1,  0,  1,  1,  1,  0,  1,  0,  1, -1],\n",
       "        device='cuda:3'),\n",
       " tensor([ 1,  0,  1,  0,  1,  1,  0,  1,  0,  1,  1,  0,  1,  1,  0,  1,  1,  1,\n",
       "          1,  1,  1,  1,  1,  0,  1,  1,  1,  0,  1,  1,  1,  1,  0,  1,  1,  0,\n",
       "          1, -1], device='cuda:3'),\n",
       " tensor([ 1,  0,  1,  1,  0,  1,  1,  0,  1,  0,  1,  0,  1,  1,  0,  1,  1,  0,\n",
       "          1,  1,  0,  1,  1,  0,  1,  0,  1,  1,  1,  1,  0,  1, -1],\n",
       "        device='cuda:3'),\n",
       " tensor([ 1,  0,  1,  0,  1,  0,  1,  1,  0,  1,  0,  1,  0,  1,  1,  0,  1,  0,\n",
       "          1,  0,  1, -1], device='cuda:3'),\n",
       " tensor([ 1,  1,  1,  1,  0,  1,  0,  1,  1,  1,  1,  0,  1,  1,  0,  1,  0,  1,\n",
       "          1,  1,  0,  1,  0,  1,  1,  0,  1,  1,  0,  1,  0,  1,  1,  0,  1,  1,\n",
       "          1,  0,  0,  0,  1, -1], device='cuda:3'),\n",
       " tensor([ 1,  1,  0,  1,  0,  1,  1,  0,  1,  0,  1,  1,  0,  1,  0,  1,  1,  1,\n",
       "          1,  1,  0,  1, -1], device='cuda:3'),\n",
       " tensor([ 1,  1,  0,  1,  0,  1,  0,  1,  1,  0,  1,  1,  1,  0,  1,  1,  0,  1,\n",
       "          0,  1,  0,  1,  0,  1,  1,  0,  1,  1,  0,  1,  1,  0,  1,  0,  1,  0,\n",
       "          1,  0,  1,  1,  1,  1,  0,  0,  1,  1,  0,  0,  1,  1,  0,  0,  0,  0,\n",
       "          1,  1,  0,  1, -1], device='cuda:3'),\n",
       " tensor([ 1,  0,  1,  1,  1,  1,  0,  1,  1,  1,  1,  1,  1,  1,  1,  1,  0,  1,\n",
       "          1,  1,  1,  1,  0,  1,  1,  0,  1,  0,  1,  0,  1,  0,  1, -1],\n",
       "        device='cuda:3'),\n",
       " tensor([ 1,  1,  1,  0,  1,  1,  0,  1,  1,  0,  0,  0,  1,  1,  1,  0,  1,  1,\n",
       "          1,  0,  1,  0,  1,  0,  1, -1], device='cuda:3'),\n",
       " tensor([ 1,  0,  0,  1,  0,  1,  1,  0,  1,  0,  1,  0,  1,  0,  1,  0,  1,  1,\n",
       "          0,  1,  1,  0,  1,  1,  0,  1,  0,  1,  1,  0,  1,  0,  1,  1,  0,  1,\n",
       "          0,  1,  0,  1,  1,  0,  1,  1,  1,  0,  1,  0,  1,  1,  1,  0,  1,  0,\n",
       "          1,  1,  0,  1,  1,  0,  1, -1], device='cuda:3'),\n",
       " tensor([ 1,  0,  1,  0,  1,  1,  1,  0,  1,  1,  0,  1,  0,  0,  1,  1,  1,  1,\n",
       "          1,  0,  1,  0,  1,  1,  1,  1,  1,  0,  1,  0,  0,  0,  1, -1],\n",
       "        device='cuda:3'),\n",
       " tensor([ 1,  0,  1,  1,  0,  1,  1,  1,  0,  1,  0,  1,  0,  1,  0,  1,  1,  1,\n",
       "          0,  1,  1,  0,  1,  0,  1,  0,  1,  1,  0,  1,  0,  1,  1,  1,  1,  1,\n",
       "          1,  0,  1,  0,  1,  0,  1,  0,  1,  1,  0,  1,  0,  1, -1],\n",
       "        device='cuda:3'),\n",
       " tensor([ 1,  1,  0,  1,  1,  0,  1,  1,  0,  0,  0,  0,  1,  0,  1,  1,  1,  0,\n",
       "          1,  0,  0,  0,  1,  1,  0,  1,  0,  1,  1,  0,  1,  1,  0,  1,  1,  0,\n",
       "          1,  0,  1,  1,  1,  1,  1,  0,  1,  0,  1,  0,  1,  0,  1,  1, -1],\n",
       "        device='cuda:3'),\n",
       " tensor([ 1,  0,  1,  0,  1,  1,  1,  0,  1,  0,  0,  1,  1,  1,  1,  0,  1,  0,\n",
       "          1,  1,  0,  0,  0,  1, -1], device='cuda:3'),\n",
       " tensor([ 1,  0,  1,  1,  0,  1,  1,  0,  0,  0,  0,  0,  1,  0,  0,  0,  0,  0,\n",
       "          1,  0,  0,  0,  0,  0,  1,  1,  1,  0,  1,  0,  1,  1,  1,  0,  1,  1,\n",
       "          0,  1,  0,  1,  1,  1,  0,  1,  1,  0,  1,  1,  0,  1,  0,  1, -1],\n",
       "        device='cuda:3'),\n",
       " tensor([ 1,  1,  0,  1,  1,  0,  1,  1,  1,  0,  1,  1,  1,  0,  1,  1,  1,  0,\n",
       "          1,  1,  0,  1, -1], device='cuda:3'),\n",
       " tensor([ 1,  1,  0,  1,  1,  1,  1,  0,  0,  1,  0,  1,  1, -1],\n",
       "        device='cuda:3'),\n",
       " tensor([ 1,  0,  0,  1,  1,  0,  1,  1,  0,  1,  0,  1,  1,  1,  0,  1,  1,  0,\n",
       "          1,  1,  0,  1,  1,  0,  1,  1,  0,  1,  0,  1,  0,  1,  1,  0,  0,  1,\n",
       "          0,  1,  1,  0,  1,  0,  1,  0,  1,  0,  1,  1, -1], device='cuda:3'),\n",
       " tensor([ 1,  1,  0,  1,  1,  0,  1,  1,  0,  1,  0,  1,  1,  0,  1,  1,  1,  0,\n",
       "          1,  0,  1,  1,  1,  0,  1,  1,  1,  0,  1, -1], device='cuda:3'),\n",
       " tensor([ 1,  1,  1,  0,  1,  1,  0,  1,  1,  1,  0,  1,  1,  1,  0,  1,  1,  0,\n",
       "          1,  1, -1], device='cuda:3'),\n",
       " tensor([ 1,  0,  1,  1,  1,  1,  0,  1,  0,  1,  1,  0,  1,  0,  1,  1,  1,  0,\n",
       "          1,  1,  0,  1,  1,  0,  1,  0,  1,  1,  0,  1,  1,  0,  1, -1],\n",
       "        device='cuda:3'),\n",
       " tensor([ 1,  0,  0,  1,  1,  0,  0,  1,  1,  1,  0,  1,  0,  1,  1,  0,  1,  1,\n",
       "          0,  0,  0,  1,  1,  1,  1,  0,  0,  0,  1,  1,  0,  0,  1,  1,  1,  0,\n",
       "          1,  1,  1,  0,  1, -1], device='cuda:3'),\n",
       " tensor([ 1,  1,  1,  1,  0,  1,  0,  0,  1,  0,  1,  1,  0,  1,  0,  1,  1,  0,\n",
       "          1,  0,  0,  0,  1,  1,  0,  1,  0,  1,  0,  1,  0,  1, -1],\n",
       "        device='cuda:3'),\n",
       " tensor([ 1,  0,  0,  0,  1,  1,  1,  0,  0,  0,  1,  0,  1,  0,  1,  1,  0,  0,\n",
       "          1,  0,  1,  0,  1,  0,  0,  1,  0,  1,  1,  0,  1, -1],\n",
       "        device='cuda:3'),\n",
       " tensor([ 1,  0,  0,  0,  1,  1,  1,  0,  0,  1,  1,  1,  1,  0,  1, -1],\n",
       "        device='cuda:3'),\n",
       " tensor([ 1,  1,  1,  0,  0,  1,  1,  0,  1,  1,  0,  1,  1,  1,  1,  0,  0,  0,\n",
       "          1,  1,  0,  1,  0,  1,  1,  0,  1,  1,  1,  1,  0,  1,  1,  0,  1,  0,\n",
       "          1, -1], device='cuda:3'),\n",
       " tensor([ 1,  0,  0,  1,  0,  1,  1,  0,  0,  0,  0,  1,  0,  1,  0,  1,  0,  1,\n",
       "          1,  1,  0,  1,  0,  1,  0,  1,  0,  1,  0,  1,  0,  1,  1,  0,  1,  0,\n",
       "          1,  0,  1,  1,  0,  1,  1,  0,  1,  0,  1,  0,  1,  0,  1,  0,  1,  1,\n",
       "          0,  1,  0,  1,  0,  1,  0,  1,  1,  0,  1,  0,  1,  1,  0,  1,  0,  1,\n",
       "          0,  1,  0,  1,  1,  0,  1,  0,  1,  1,  0,  1,  1,  0,  1,  0,  1,  1,\n",
       "          0,  1,  1,  0,  1,  0,  1, -1], device='cuda:3'),\n",
       " tensor([ 1,  0,  1,  1,  1,  0,  1,  0,  1,  1,  0,  1,  0,  1,  1,  1,  0,  1,\n",
       "         -1], device='cuda:3'),\n",
       " tensor([ 1,  0,  1,  0,  1,  1,  0,  1,  0,  1,  1,  1,  0,  1,  1,  0,  1,  1,\n",
       "          1,  0,  1,  1,  0,  1,  1,  1,  0,  1,  0,  1,  1,  0,  1,  1,  1,  0,\n",
       "          1,  0,  1,  1,  0,  1,  1,  0,  1,  1,  0,  1,  0,  1,  1,  1,  0,  1,\n",
       "          1,  1,  1,  1,  0,  1,  0,  1,  1, -1], device='cuda:3'),\n",
       " tensor([ 1,  0,  1,  0,  1,  1,  0,  1,  0,  1,  0,  1,  1,  0,  1,  0,  1,  1,\n",
       "          0,  1,  1,  1,  1,  0,  1,  0,  1,  1,  1,  0,  1,  1,  0,  1,  1,  0,\n",
       "          1,  0,  1,  0,  1,  0,  1,  0,  1, -1], device='cuda:3'),\n",
       " tensor([ 1,  0,  1,  0,  1,  0,  1,  0,  1,  0,  1,  1,  0,  1,  0,  1,  0,  1,\n",
       "          1,  0,  1, -1], device='cuda:3'),\n",
       " tensor([ 1,  0,  0,  1,  1,  0,  1,  1,  1,  1,  0,  1,  1,  0,  1,  1,  0,  1,\n",
       "         -1], device='cuda:3'),\n",
       " tensor([ 1,  0,  0,  0,  1,  1,  1,  0,  0,  0,  1,  1,  1,  1,  0,  1,  1,  0,\n",
       "          1,  0,  1, -1], device='cuda:3'),\n",
       " tensor([ 1,  0,  1,  0,  1,  1,  1,  1,  0,  1,  0,  1,  1,  0,  1,  1,  0,  1,\n",
       "          1,  0,  1,  1,  0,  1,  0,  1, -1], device='cuda:3'),\n",
       " tensor([ 1,  1,  0,  1,  1,  0,  1,  1,  0,  1,  1,  0,  1,  0,  1,  0,  1,  1,\n",
       "          0,  1,  1,  0,  1, -1], device='cuda:3'),\n",
       " tensor([ 1,  0,  1,  0,  1,  1,  0,  1,  1,  0,  1,  1,  0,  1,  0,  1,  1,  0,\n",
       "          1,  0,  1,  0,  1,  1,  0,  1,  0,  1,  1,  0,  1,  1,  0,  1,  1,  0,\n",
       "          1,  0,  1,  0,  1,  1,  1,  1,  1,  1,  0,  1,  1,  0,  0,  1,  1,  0,\n",
       "          1,  0,  1, -1], device='cuda:3'),\n",
       " tensor([ 1,  1,  0,  1,  1,  0,  1,  0,  0,  0,  1,  0,  0,  0,  1,  1,  0,  0,\n",
       "          0,  1,  1,  1,  1,  0,  1,  1,  0,  1,  1, -1], device='cuda:3'),\n",
       " tensor([ 1,  0,  0,  0,  1,  1,  0,  1,  1,  1,  0,  1,  1,  0,  1,  1,  1,  1,\n",
       "          1,  0,  1,  1,  1, -1], device='cuda:3'),\n",
       " tensor([ 1,  1,  0,  0,  0,  1,  0,  1,  0,  1,  0,  0,  1,  0,  1,  0,  0,  0,\n",
       "          1,  1,  1,  1,  1,  1,  0,  1,  0,  1,  0,  1,  1,  1,  0,  0,  0,  1,\n",
       "          0,  1,  1,  1,  0,  1,  0,  1, -1], device='cuda:3'),\n",
       " tensor([ 1,  0,  0,  0,  1,  0,  1,  1,  1,  0,  1,  0,  1,  0,  1,  0,  1,  1,\n",
       "          0,  1,  0,  1,  0,  1,  1,  0,  1,  1,  1,  0,  1,  0,  1,  0,  1,  1,\n",
       "          0,  1, -1], device='cuda:3'),\n",
       " tensor([ 1,  0,  0,  1,  1,  0,  1,  1,  0,  1,  1,  0,  1,  1,  0,  1,  0,  1,\n",
       "          1,  0,  1,  1,  0,  1,  1,  0,  1,  0,  1,  0,  1,  0,  1,  0,  1,  1,\n",
       "          0,  1,  1,  0,  1,  1,  0,  1,  0,  1,  1,  0,  1,  0,  1,  1,  0,  1,\n",
       "          1, -1], device='cuda:3'),\n",
       " tensor([ 1,  0,  0,  0,  1,  1,  1,  0,  1,  0,  1,  1,  0,  0,  1,  0,  1,  0,\n",
       "          1,  0,  1,  0,  1,  1,  0,  0,  1,  0,  1,  0,  1, -1],\n",
       "        device='cuda:3'),\n",
       " tensor([ 1,  0,  0,  0,  1,  1,  1,  0,  1,  1,  1,  1,  0,  1,  0,  1,  0,  1,\n",
       "          1, -1], device='cuda:3'),\n",
       " tensor([ 1,  0,  1,  0,  1,  0,  1,  0,  1,  1,  1,  0,  1,  0,  1,  1,  1,  0,\n",
       "          1,  1,  1,  0,  1,  1,  0,  1,  1,  1,  0,  1,  1,  1,  1,  1,  1,  1,\n",
       "          0,  1, -1], device='cuda:3'),\n",
       " tensor([ 1,  0,  1,  0,  1,  0,  1,  1,  0,  0,  1,  1,  1,  0,  0,  0,  1,  1,\n",
       "          1,  0,  1,  1,  0,  1,  0,  1,  0,  1,  1,  1,  0,  1,  0,  1,  0,  1,\n",
       "          1,  1,  0,  1,  0,  1,  0,  1,  1,  1,  0,  1,  1,  0,  1,  0,  1,  1,\n",
       "          0,  1,  0,  1,  0,  1,  1,  0,  1, -1], device='cuda:3'),\n",
       " tensor([ 1,  0,  1,  1,  1,  0,  1,  0,  1,  0,  1,  0,  1,  0,  1,  0,  1,  0,\n",
       "          1,  0,  1,  0,  1,  0,  1, -1], device='cuda:3'),\n",
       " tensor([ 1,  0,  1,  0,  1,  1,  1,  0,  1,  0,  1,  1,  0,  1,  1,  0,  1,  1,\n",
       "          1,  0,  1,  1,  0,  1,  1,  1,  1,  1,  0,  1,  1,  0,  1,  0,  1,  0,\n",
       "          1,  0,  1,  1,  0,  1,  1,  0,  1,  1,  1,  0,  1, -1],\n",
       "        device='cuda:3'),\n",
       " tensor([ 1,  0,  1,  0,  1,  0,  1,  1,  0,  1,  0,  1,  0,  1,  1,  1,  1,  0,\n",
       "          1,  1,  0,  1,  1,  0,  1,  0,  1,  1,  1,  0,  1,  1,  0,  1,  0,  1,\n",
       "          0,  1,  1,  1,  0,  1,  1,  1,  0,  1, -1], device='cuda:3'),\n",
       " tensor([ 1,  0,  1,  0,  1,  1,  1,  1,  0,  1,  1,  0,  1,  1,  1,  0,  1,  1,\n",
       "          1,  0,  1,  1,  0,  1,  1,  1,  0,  1, -1], device='cuda:3'),\n",
       " tensor([ 1,  1,  0,  1,  1,  1,  1,  1,  0,  1,  1,  1,  0,  1,  1,  1,  1,  0,\n",
       "          1,  1,  0,  1,  0,  1, -1], device='cuda:3'),\n",
       " tensor([ 1,  0,  1,  0,  1,  1,  1,  1,  0,  0,  0,  1,  1,  1,  1,  0,  1,  0,\n",
       "          1,  1,  1,  1,  1,  1,  0,  1,  0,  1,  1, -1], device='cuda:3'),\n",
       " tensor([ 1,  1,  0,  1,  1,  0,  1,  1,  1,  0,  1,  1,  1,  1,  0,  1,  1,  1,\n",
       "          0,  1,  1,  0,  1,  0,  1,  1,  0,  1,  0,  1,  1,  1,  1,  0,  1,  1,\n",
       "          1,  1,  0,  1,  0,  1, -1], device='cuda:3'),\n",
       " tensor([ 1,  1,  1,  0,  1,  0,  1,  0,  1,  0,  0,  1,  0,  1,  1,  0,  1,  0,\n",
       "          1,  0,  1,  0,  0,  1,  0,  1,  0,  1,  1,  1,  1, -1],\n",
       "        device='cuda:3'),\n",
       " tensor([ 1,  0,  0,  0,  1,  1,  1,  0,  1,  0,  1,  1,  0,  1,  0,  1,  0,  1,\n",
       "          0,  1,  1,  0,  1,  0,  1,  1,  1,  0,  1,  1,  0,  1,  0,  1,  1,  1,\n",
       "          1,  1,  1,  0,  1,  0,  1,  0,  1,  1,  0,  1,  1,  0,  1,  0,  1,  0,\n",
       "          1,  0,  1,  1,  1,  0,  1,  1,  0,  1,  1,  0,  1,  1,  0,  1,  0,  1,\n",
       "          1,  1,  0,  0,  1,  1,  1,  0,  1,  1,  0,  1,  0,  1,  0,  1, -1],\n",
       "        device='cuda:3'),\n",
       " tensor([ 1,  0,  0,  0,  1,  1,  1,  0,  1,  0,  1,  0,  1,  0,  1,  0,  1,  1,\n",
       "          0,  1,  0,  1,  0,  1,  0,  1, -1], device='cuda:3'),\n",
       " tensor([ 1,  0,  0,  0,  1,  1,  1,  0,  0,  1,  1,  0,  0,  1,  0,  1,  1,  0,\n",
       "          1,  0,  1,  0,  1,  1,  1,  0,  1,  0,  1,  0,  1,  1,  1,  0,  1,  0,\n",
       "          1, -1], device='cuda:3'),\n",
       " tensor([ 1,  0,  1,  1,  1,  0,  1,  1,  0,  0,  1,  0,  1,  0,  1,  0,  1,  1,\n",
       "          1,  0,  1,  1,  1,  1,  0,  1,  1,  0,  1,  1,  1,  0,  1,  0,  1,  0,\n",
       "          1,  0,  1,  1,  0,  1,  1,  0,  1,  0,  1,  1,  1,  0,  1,  0,  1,  1,\n",
       "          0,  1,  0,  1,  0,  1,  0,  1,  0,  1,  0,  1, -1], device='cuda:3'),\n",
       " tensor([ 1,  0,  1,  1,  1,  0,  0,  1,  1,  0,  0,  1,  1,  1,  1,  0,  1,  0,\n",
       "          1,  1,  1,  1,  1,  1,  0,  1,  1,  0,  1, -1], device='cuda:3'),\n",
       " tensor([ 1,  0,  1,  1,  1,  0,  1,  1,  0,  1,  0,  1,  1,  0,  1,  0,  1,  1,\n",
       "          1,  0,  1,  0,  1,  0,  1,  1,  0,  1,  1,  0,  1,  1,  0,  1,  0,  1,\n",
       "          0,  1,  0,  1, -1], device='cuda:3'),\n",
       " tensor([ 1,  0,  0,  1,  1,  0,  0,  0,  1,  1,  0,  1,  1,  0,  1,  1,  0,  1,\n",
       "          0,  1,  0,  1,  1,  1,  0,  1,  1,  0,  1,  0,  0,  0,  1,  1,  1,  1,\n",
       "         -1], device='cuda:3'),\n",
       " tensor([ 1,  0,  0,  0,  1,  1,  0,  1,  1,  0,  1,  1,  1,  1,  0,  1,  1,  0,\n",
       "          1,  0,  1, -1], device='cuda:3'),\n",
       " tensor([ 1,  0,  1,  1,  0,  1,  1,  1,  0,  1,  0,  1,  0,  1,  1,  0,  1,  1,\n",
       "          0,  1,  1,  0,  1,  1,  1,  1,  0,  1,  0,  1,  1,  0,  1,  1,  1,  1,\n",
       "          1,  0,  1,  0,  1, -1], device='cuda:3'),\n",
       " tensor([ 1,  0,  1,  1,  1,  0,  1,  0,  1,  1,  0,  1,  1,  0,  1,  1,  0,  1,\n",
       "          1,  1,  1,  1, -1], device='cuda:3'),\n",
       " tensor([ 1,  0,  0,  1,  1,  1,  0,  1,  1,  0,  0,  0,  0,  0,  0,  0,  0,  0,\n",
       "          1,  1,  1,  0,  1,  1,  1,  1,  1,  1,  1,  1,  1,  1,  1,  1,  0,  1,\n",
       "          0,  1, -1], device='cuda:3'),\n",
       " tensor([ 1,  0,  1,  1,  1,  1,  0,  1,  0,  1,  0,  1,  1,  1,  0,  1,  0,  1,\n",
       "          1,  0,  1,  0,  1, -1], device='cuda:3'),\n",
       " tensor([ 1,  1,  1,  0,  1,  0,  1,  1,  1,  0,  1,  0,  1,  0,  1,  0,  1,  0,\n",
       "          1,  1,  0,  1,  1,  0,  1,  0,  1,  0,  1,  1,  1,  0,  1,  1,  0,  1,\n",
       "          0,  1,  1,  0,  1,  0,  1,  0,  1,  1,  0,  1,  0,  1,  0,  1,  1,  0,\n",
       "          1,  0,  1,  1,  1,  1,  1,  0,  1,  0,  1, -1], device='cuda:3'),\n",
       " tensor([ 1,  0,  1,  1,  0,  1,  0,  1,  0,  1,  0,  1,  0,  1,  1,  0,  1,  0,\n",
       "          1,  0,  1,  1,  0,  1,  0,  1,  0,  1,  1,  0,  1,  1,  0,  1,  1,  0,\n",
       "          1,  1,  1,  0,  1,  1,  1,  0,  1,  1,  1,  1,  0,  1,  1,  0,  1,  1,\n",
       "          1,  0,  1,  1,  1,  0,  1,  1,  1, -1], device='cuda:3'),\n",
       " tensor([ 1,  1,  0,  1,  0,  1,  1,  1,  0,  1,  0,  1,  1,  1,  0,  1,  0,  1,\n",
       "          1,  1,  0,  1,  0,  1, -1], device='cuda:3'),\n",
       " tensor([ 1,  0,  0,  1,  1,  0,  0,  1,  1,  0,  1,  1,  1,  1,  0,  1,  0,  1,\n",
       "          1,  1,  0,  1,  0,  0,  1,  1,  0,  0,  0,  0,  0,  1,  1,  0,  1,  0,\n",
       "          1,  1,  1,  0,  0,  1,  1,  0,  0,  0,  0,  0,  1,  1,  0,  1,  0,  1,\n",
       "          1,  0,  1,  1,  0,  0,  1,  1,  1,  0,  1,  0,  1,  0,  0,  0,  1,  1,\n",
       "          0,  0,  0,  1,  1,  0,  1,  0,  0,  0,  0,  0,  1, -1],\n",
       "        device='cuda:3'),\n",
       " tensor([ 1,  0,  1,  1,  0,  1,  1,  0,  1,  0,  1,  0,  1,  0,  1,  0,  1,  1,\n",
       "          0,  1,  1,  0,  1,  0,  1,  0,  1,  1,  0,  1,  1,  0,  1,  0,  1,  0,\n",
       "          1,  0,  1,  0,  1,  0,  1, -1], device='cuda:3'),\n",
       " tensor([ 1,  0,  1,  1,  0,  1,  0,  1,  1,  0,  1,  0,  1,  1,  0,  1,  1,  1,\n",
       "          1,  0,  1,  0,  1,  0,  1, -1], device='cuda:3'),\n",
       " tensor([ 1,  0,  0,  1,  1,  1,  0,  1,  0,  1,  1,  0,  1,  0,  1,  0,  1,  0,\n",
       "          1,  1,  0,  1,  0,  1,  0,  1,  1,  1,  0,  0,  1,  0,  1,  1,  0,  1,\n",
       "          0,  1,  0,  1,  1,  0,  1,  1,  1,  0,  1,  1,  1,  1,  0,  1,  1,  0,\n",
       "          1,  0,  1,  1,  0,  1,  0,  1,  1,  0,  1, -1], device='cuda:3'),\n",
       " tensor([ 1,  0,  1,  1,  0,  1,  0,  1,  0,  1,  1,  1,  1,  1,  0,  1,  1,  0,\n",
       "          1,  0,  1,  1, -1], device='cuda:3'),\n",
       " tensor([ 1,  0,  1,  0,  1,  1,  0,  1,  1,  1,  0,  1,  0,  1, -1],\n",
       "        device='cuda:3'),\n",
       " tensor([ 1,  0,  1,  0,  1,  0,  1,  1,  1,  1,  1,  1,  1,  1,  0,  1,  1,  0,\n",
       "          1,  1,  0,  1,  1,  1,  1,  1,  0,  1,  0,  1,  1,  1,  1,  1,  0,  1,\n",
       "          0,  1,  0,  1,  1,  0,  1,  1,  0,  1,  0,  1,  0,  1,  0,  1,  1,  1,\n",
       "          0,  1,  1,  0,  1,  1, -1], device='cuda:3'),\n",
       " tensor([ 1,  0,  1,  1,  0,  1,  1,  0,  1,  0,  1,  0,  1,  0,  1,  0,  1,  1,\n",
       "          0,  1,  0,  0,  0,  1,  1,  0,  1,  1,  0,  1,  1,  0,  1,  0,  1,  1,\n",
       "          0,  1,  1,  1,  0,  1,  1,  0,  1, -1], device='cuda:3'),\n",
       " tensor([ 1,  0,  0,  0,  1,  1,  0,  1,  1,  1,  1,  0,  1,  0,  1,  1,  0,  1,\n",
       "          0,  1,  1,  0,  0,  1,  1,  0,  1,  1,  0,  1, -1], device='cuda:3'),\n",
       " tensor([ 1,  1,  0,  1,  0,  1,  1,  1,  0,  0,  0,  0,  0,  0,  0,  0,  1,  1,\n",
       "          1,  0,  1,  0,  0,  1,  0,  1,  0,  1,  1,  0,  1,  0,  1,  1,  1,  0,\n",
       "          0,  0,  1,  1,  1,  0,  0,  0,  1,  1,  0,  1,  1,  1,  0,  1,  1,  1,\n",
       "          0,  1,  0,  1,  0,  1,  1,  1,  0,  1,  1,  0,  1,  1, -1],\n",
       "        device='cuda:3'),\n",
       " tensor([ 1,  0,  1,  1,  1,  0,  1,  0,  1,  0,  1,  0,  1,  1,  0,  1,  1,  0,\n",
       "          1,  0,  1,  1,  0,  1,  1,  1,  0,  1,  0,  1,  1,  1,  1,  0,  1,  0,\n",
       "          1,  0,  1,  0,  1, -1], device='cuda:3'),\n",
       " tensor([ 1,  0,  1,  0,  1,  1,  0,  1,  0,  1,  0,  1,  0,  1,  1,  1,  0,  1,\n",
       "         -1], device='cuda:3'),\n",
       " tensor([ 1,  1,  0,  1,  1,  0,  1,  0,  1,  0,  1,  0,  1,  1,  0,  1,  1,  1,\n",
       "          0,  1,  1,  0,  1,  0,  1,  1,  1,  0,  1,  1,  1,  0,  1,  1,  0,  1,\n",
       "          0,  1,  0,  1,  0,  1,  1,  1,  0,  1,  0,  1,  0,  1, -1],\n",
       "        device='cuda:3'),\n",
       " tensor([ 1,  0,  1,  1,  0,  0,  0,  1,  1,  1,  1,  1,  0,  1,  1,  1,  1,  1,\n",
       "          1,  0,  1,  1,  0,  1,  1,  0,  1,  1,  0,  1,  1,  1,  1, -1],\n",
       "        device='cuda:3'),\n",
       " tensor([ 1,  0,  1,  1,  0,  0,  0,  0,  0,  0,  0,  1,  0,  1,  1,  1,  0,  1,\n",
       "          1,  0,  1,  1,  0,  1,  0,  1,  0,  1, -1], device='cuda:3'),\n",
       " tensor([ 1,  1,  1,  0,  0,  1,  0,  1,  1,  0,  1,  1,  1,  0,  1,  1,  0,  1,\n",
       "          0,  1,  1,  1,  1,  0,  1,  0,  1,  1,  0,  1,  1,  0,  1,  1,  0,  0,\n",
       "          0,  1,  1,  0,  0,  0,  0,  0,  1,  1, -1], device='cuda:3'),\n",
       " tensor([ 1,  1,  1,  1,  1,  0,  0,  0,  1,  1,  1,  1,  1,  1,  1,  1,  1,  0,\n",
       "          1,  0,  0,  1,  1,  0,  1,  1,  0,  1,  1,  1,  1,  0,  1,  0,  1,  0,\n",
       "          1,  1,  1,  0,  1,  0,  1,  0,  1,  0,  1,  0,  1,  0,  1,  1, -1],\n",
       "        device='cuda:3'),\n",
       " tensor([ 1,  0,  1,  1,  0,  1,  1,  0,  1,  0,  1,  1,  1,  0,  1,  1,  0,  1,\n",
       "          1,  0,  1,  0,  1,  1,  0,  1,  1,  0,  1,  1,  1,  0,  1,  1, -1],\n",
       "        device='cuda:3'),\n",
       " tensor([ 1,  0,  1,  1,  0,  1,  0,  1,  1,  0,  1,  0,  1,  1,  1,  0,  1,  1,\n",
       "          0,  1,  0,  1,  1,  1,  0,  1,  1,  0,  0,  1,  0,  1,  1,  0,  1, -1],\n",
       "        device='cuda:3'),\n",
       " tensor([ 1,  0,  1,  1,  1,  1,  0,  1,  0,  1,  1,  0,  1,  1,  1,  0,  1,  1,\n",
       "          0,  1,  1,  0,  1,  1,  1,  1,  1,  0,  1,  0,  1,  1,  0,  0,  0,  1,\n",
       "          0,  0,  1,  1,  0,  1,  0,  1,  0,  1,  1,  0,  0,  0,  1,  0,  0,  1,\n",
       "         -1], device='cuda:3'),\n",
       " tensor([ 1,  0,  1,  0,  1,  1,  0,  1,  1,  0,  1,  0,  1,  1,  0,  0,  0,  1,\n",
       "          1,  0,  1,  1,  0,  1,  1, -1], device='cuda:3'),\n",
       " tensor([ 1,  1,  0,  1,  1,  1,  1,  0,  1,  0,  1,  0,  1,  1,  0,  1,  0,  1,\n",
       "          1,  1,  0,  1,  0,  1,  1,  0,  1,  1,  0,  1,  1,  0,  1,  0,  1,  1,\n",
       "          1,  0,  1, -1], device='cuda:3'),\n",
       " tensor([ 1,  1,  1,  1,  0,  1,  1,  1,  1,  1,  0,  1,  1,  1,  0,  1,  1,  0,\n",
       "          1,  1,  0,  1,  1,  0,  0,  0,  0,  1,  1,  0,  1,  1,  0,  1,  0,  1,\n",
       "          0,  1,  0,  1,  0,  1,  1,  0,  1,  1,  0,  1,  1,  0,  1,  0,  1,  0,\n",
       "          1, -1], device='cuda:3'),\n",
       " tensor([ 1,  0,  1,  1,  0,  1,  1,  1,  0,  1,  0,  1,  1,  1,  1,  1,  0,  1,\n",
       "          1,  1,  1,  1,  1,  0,  1,  1,  1,  1,  0,  1,  0,  1,  0,  1,  0,  1,\n",
       "         -1], device='cuda:3'),\n",
       " tensor([ 1,  0,  1,  0,  1,  1,  0,  1,  0,  1,  1,  0,  1,  0,  1,  0,  0,  1,\n",
       "          1,  1,  1,  0,  1,  0,  1,  1,  0,  0,  1,  1,  0,  1,  0,  1,  0,  1,\n",
       "          0,  1,  1,  1,  1,  1,  1,  1,  1,  1,  1,  1,  0,  1, -1],\n",
       "        device='cuda:3'),\n",
       " tensor([ 1,  0,  1,  1,  0,  1,  0,  1,  1,  0,  1,  1,  0,  1,  1,  0,  1,  1,\n",
       "          0,  1,  0,  1,  1,  1,  1,  1,  1,  0,  1,  1,  0,  1,  1,  0,  1,  1,\n",
       "          0,  1, -1], device='cuda:3'),\n",
       " tensor([ 1,  1,  0,  1,  0,  1,  1,  0,  1,  1,  0,  1,  1,  0,  1,  1,  0,  1,\n",
       "          0,  1,  1,  1,  1,  1,  1,  1,  1,  0,  1, -1], device='cuda:3'),\n",
       " tensor([ 1,  0,  1,  1,  1,  0,  1,  1,  0,  1,  0,  1,  1,  0,  1,  1,  0,  1,\n",
       "          1, -1], device='cuda:3'),\n",
       " tensor([ 1,  0,  0,  0,  0,  1,  1,  1,  0,  0,  1,  1,  1,  1,  1,  1,  0,  1,\n",
       "          0,  1,  1,  0,  0,  1,  0,  1, -1], device='cuda:3'),\n",
       " tensor([ 1,  0,  1,  0,  1,  0,  1,  1,  1,  1,  0,  1,  0,  1,  1,  0,  1,  0,\n",
       "          1,  1,  1,  1,  1,  1,  1,  0,  1,  0,  1,  1,  1,  1,  0,  0,  0,  0,\n",
       "          1,  1,  1,  1,  0,  1,  0,  1,  1,  1,  0,  1,  1,  1, -1],\n",
       "        device='cuda:3'),\n",
       " tensor([ 1,  0,  0,  0,  1,  1,  0,  1,  1,  1,  0,  1,  1,  0,  1,  0,  1,  1,\n",
       "          1,  0,  1,  1,  1,  0,  1,  0,  1,  1,  0,  1,  0,  1,  0,  1,  0,  1,\n",
       "         -1], device='cuda:3'),\n",
       " tensor([ 1,  1,  0,  1,  0,  1,  1,  1,  1,  0,  0,  0,  1,  1,  1,  1,  0,  1,\n",
       "          0,  1,  0,  1,  1,  0,  1,  0,  1,  0,  1,  0,  1,  1,  0,  1,  1,  0,\n",
       "          0,  1,  1, -1], device='cuda:3'),\n",
       " tensor([ 1,  0,  1,  1,  1,  0,  1,  1,  1,  0,  1,  1,  1,  0,  1,  0,  1,  1,\n",
       "          0,  1,  1,  1,  1,  1,  1,  1,  0,  1,  1,  1,  1,  0,  1, -1],\n",
       "        device='cuda:3'),\n",
       " tensor([ 1,  0,  1,  0,  1,  1,  0,  1,  1,  0,  1,  1,  0,  1,  0,  1,  0,  1,\n",
       "          1,  0,  1,  1,  1,  1,  0,  1,  1,  0,  1,  1,  1,  0,  1,  0,  1,  1,\n",
       "          0,  1, -1], device='cuda:3'),\n",
       " tensor([ 1,  0,  0,  0,  1,  1,  0,  1,  1,  0,  1,  0,  1,  0,  1,  0,  1,  0,\n",
       "          1,  0,  1,  1,  0,  1,  0,  1,  0,  1,  1,  1,  0,  1,  1,  0,  1,  0,\n",
       "          1,  0,  1,  0,  1, -1], device='cuda:3'),\n",
       " tensor([ 1,  0,  0,  0,  1,  1,  1,  1,  0,  1,  1,  1,  0,  1,  0,  1,  1,  0,\n",
       "          1,  0,  1,  0,  1,  0,  1,  0,  1,  0,  0,  0,  0,  0,  0,  1,  0,  1,\n",
       "          1,  1, -1], device='cuda:3'),\n",
       " tensor([ 1,  0,  1,  1,  0,  1,  0,  1,  0,  0,  1,  1,  1,  0,  1,  1,  1,  1,\n",
       "          1,  0,  1,  1,  1,  1,  0,  1,  1,  0,  1,  0,  1, -1],\n",
       "        device='cuda:3'),\n",
       " tensor([ 1,  0,  0,  0,  1,  1,  1,  0,  1,  1,  0,  1,  0,  1,  1,  1,  0,  1,\n",
       "          1,  0,  1,  1,  0,  1,  1,  0,  1,  0,  1,  1,  0,  1,  0,  1,  1,  0,\n",
       "          1,  0,  1,  0,  1,  0,  1,  1,  1,  1,  1,  0,  1,  0,  1,  1, -1],\n",
       "        device='cuda:3'),\n",
       " tensor([ 1,  0,  1,  0,  1,  1,  1,  1,  0,  1,  1,  1,  0,  1,  1,  0,  1,  0,\n",
       "          1,  1,  0,  1,  1,  0,  1,  1,  0,  1,  0,  1,  1,  1,  0,  1,  1, -1],\n",
       "        device='cuda:3'),\n",
       " tensor([ 1,  0,  1,  1,  1,  0,  0,  0,  1,  1,  1,  1,  1,  1,  0,  1,  0,  1,\n",
       "          0,  1,  1,  1,  1,  0,  1,  0,  1,  1,  1,  0,  1,  0,  1,  0,  1,  1,\n",
       "          0,  1,  1,  1,  0,  0,  1,  0,  1,  1,  1,  0,  1,  1, -1],\n",
       "        device='cuda:3'),\n",
       " tensor([ 1,  0,  1,  1,  1,  1,  1,  0,  1,  1,  1,  1,  0,  1,  1,  0,  1,  0,\n",
       "          1, -1], device='cuda:3'),\n",
       " tensor([ 1,  0,  0,  1,  0,  1,  1,  1,  0,  1,  0,  1,  1,  0,  1,  1,  1,  1,\n",
       "          1,  0,  0,  1,  0,  1,  1,  1,  1,  1,  0,  0,  1, -1],\n",
       "        device='cuda:3'),\n",
       " tensor([ 1,  0,  1,  0,  0,  1,  1,  0,  1,  1,  1,  1,  1,  1,  0,  0,  1,  0,\n",
       "          1,  0,  1,  1,  0,  1,  0,  1, -1], device='cuda:3'),\n",
       " tensor([ 1,  0,  0,  0,  1,  1,  1,  1,  0,  1,  0,  1,  0,  1,  0,  1,  1,  0,\n",
       "          1,  0,  1,  0,  1,  1,  0,  1,  0,  1,  1,  0,  1,  1,  0,  1,  0,  1,\n",
       "          1,  0,  1,  0,  1,  1,  0,  0,  1,  1, -1], device='cuda:3'),\n",
       " tensor([ 1,  0,  1,  1,  0,  1,  0,  1,  1,  1,  1,  0,  1,  0,  1,  1,  0,  1,\n",
       "          0,  1,  1,  0,  1,  1,  0,  1,  1,  0,  1,  1,  0,  1,  1,  0,  1,  1,\n",
       "          0,  1,  0,  1,  0,  1,  1, -1], device='cuda:3'),\n",
       " tensor([ 1,  1,  1,  0,  1,  1,  1,  0,  1,  1,  0,  1,  1,  0,  1,  0,  1,  1,\n",
       "          1,  0,  1, -1], device='cuda:3'),\n",
       " tensor([ 1,  0,  1,  1,  1,  1,  0,  1,  0,  1,  1,  0,  1,  0,  1,  0,  1,  1,\n",
       "          0,  1,  0,  1,  0,  1,  1,  0,  1,  0,  1,  0,  1,  1,  0,  1,  1,  0,\n",
       "          1, -1], device='cuda:3'),\n",
       " tensor([ 1,  1,  0,  0,  0,  1,  1,  1,  0,  1,  1,  0,  1,  1,  0,  1,  1,  0,\n",
       "          1,  1, -1], device='cuda:3'),\n",
       " tensor([ 1,  0,  1,  1,  0,  1,  0,  0,  1,  1,  1,  0,  0,  0,  1,  1,  1,  1,\n",
       "         -1], device='cuda:3'),\n",
       " tensor([ 1,  1,  0,  1,  0,  1,  0,  1,  0,  1,  0,  1,  0,  1,  1,  1,  1,  0,\n",
       "          1,  1,  0,  1,  1,  1,  1,  0,  0,  1,  1,  1,  1,  1,  1,  0,  0,  1,\n",
       "          1,  1, -1], device='cuda:3'),\n",
       " tensor([ 1,  0,  0,  0,  1,  1,  0,  1,  1,  0,  1,  1,  0,  1,  1,  0,  1,  1,\n",
       "          0,  1,  1,  0,  1,  1,  0,  1,  1, -1], device='cuda:3'),\n",
       " tensor([ 1,  1,  0,  1,  0,  1,  0,  1,  0,  1,  1,  1,  0,  1,  1,  0,  1,  1,\n",
       "          1,  1,  1,  1,  0,  1,  1,  0,  1,  1, -1], device='cuda:3'),\n",
       " tensor([ 1,  1,  1,  1,  0,  1,  1,  1,  0,  0,  1,  0,  1,  0,  1, -1],\n",
       "        device='cuda:3'),\n",
       " tensor([ 1,  1,  1,  0,  1,  0,  1,  1,  0,  1,  1,  0,  1,  1,  0,  1,  1,  0,\n",
       "          1,  0,  1,  1,  0,  1, -1], device='cuda:3'),\n",
       " tensor([ 1,  0,  0,  1,  1,  0,  1,  0,  1,  1,  1,  0,  1,  1,  0,  1,  1,  1,\n",
       "          1,  0,  1,  1,  1,  1,  0,  1,  0,  1,  1,  1,  1,  0,  1,  1,  0,  1,\n",
       "          0,  1,  1,  0,  1,  1,  1,  0,  1,  0,  1,  0,  1,  1,  1,  0,  1,  0,\n",
       "          1,  1,  0,  1,  1,  0,  1,  0,  1,  0,  1,  0,  1, -1],\n",
       "        device='cuda:3'),\n",
       " tensor([ 1,  0,  0,  0,  1,  1,  0,  1,  1,  0,  0,  1,  0,  1,  1,  0,  1, -1],\n",
       "        device='cuda:3'),\n",
       " tensor([ 1,  1,  1,  0,  1,  1,  0,  0,  0,  0,  0,  0,  0,  1,  0,  0,  0,  1,\n",
       "          1,  0,  1,  1,  0,  1, -1], device='cuda:3'),\n",
       " tensor([ 1,  1,  1,  1,  0,  1,  0,  1,  1,  0,  1,  0,  1,  0,  1,  1,  0,  1,\n",
       "          0,  1,  1,  1,  0,  1,  1,  1,  1,  0,  1,  0,  0,  1,  0,  1,  1, -1],\n",
       "        device='cuda:3'),\n",
       " tensor([ 1,  1,  0,  1,  0,  1,  1,  0,  1,  0,  1,  1,  0,  1,  1,  0,  1,  1,\n",
       "          0,  1,  0,  1,  1,  1,  0,  1,  1,  0,  1,  0,  1,  1,  1,  0,  1,  0,\n",
       "          1,  1, -1], device='cuda:3'),\n",
       " tensor([ 1,  0,  1,  0,  1,  1,  0,  1,  1,  1,  1,  1,  0,  1,  1,  0,  1,  1,\n",
       "          0,  1,  0,  1,  0,  1,  0,  0,  1,  1,  1,  0,  1,  1,  1,  0,  0,  1,\n",
       "          1,  1,  1,  0,  1,  1,  1,  0,  1,  0,  1,  1,  1,  1,  0,  1,  1,  0,\n",
       "          1,  1, -1], device='cuda:3'),\n",
       " tensor([ 1,  0,  1,  0,  1,  1,  1,  0,  1,  0,  1,  1,  0,  1,  1,  1,  0,  1,\n",
       "          1,  0,  1,  1,  1,  0,  1,  1,  0,  1,  1,  0,  1,  1,  0,  1,  1,  0,\n",
       "          1,  0,  1,  1,  0,  1,  1,  1,  0,  1,  1,  0,  1,  0,  1,  1,  1,  1,\n",
       "          0,  1,  0,  1,  0,  1, -1], device='cuda:3'),\n",
       " tensor([ 1,  0,  0,  0,  1,  1,  1,  0,  1,  1,  1,  1,  1,  1,  1,  0,  1,  0,\n",
       "          1,  0,  1,  1,  0,  1,  0,  1,  1,  1,  1,  0,  1,  0,  1,  0,  1,  0,\n",
       "          1,  0,  1, -1], device='cuda:3'),\n",
       " tensor([ 1,  0,  0,  0,  1,  1,  1,  0,  1,  1,  1,  1,  1,  1,  1,  0,  1,  0,\n",
       "          1,  1,  0,  1,  1,  0,  1,  0,  1, -1], device='cuda:3'),\n",
       " tensor([ 1,  0,  1,  1,  0,  1,  1,  1,  1,  0,  1,  1,  1,  0,  1,  1,  0,  1,\n",
       "         -1], device='cuda:3'),\n",
       " tensor([ 1,  0,  1,  0,  1,  0,  1,  1,  0,  1,  0,  1,  0,  1, -1],\n",
       "        device='cuda:3'),\n",
       " tensor([ 1,  0,  1,  1,  1,  0,  1,  0,  1,  1,  1,  0,  0,  0,  1,  1,  1,  1,\n",
       "          1,  1,  1,  0,  1,  0,  1,  1,  0,  1,  1,  0,  1,  0,  1,  1,  0,  1,\n",
       "          0,  1,  0,  1, -1], device='cuda:3'),\n",
       " tensor([ 1,  1,  0,  1,  0,  1,  1,  1,  0,  1,  0,  0,  1, -1],\n",
       "        device='cuda:3'),\n",
       " tensor([ 1,  1,  0,  1,  1,  0,  1,  0,  1,  1,  1,  1,  1,  0,  1,  1,  1,  1,\n",
       "          0,  0,  1,  0,  1,  1,  1,  0,  0,  0,  1,  1,  1,  1,  1,  1,  0,  0,\n",
       "          0,  1,  1,  1,  1,  0,  1,  1,  1,  0,  1,  0,  1,  0,  1,  1,  0,  1,\n",
       "          1,  1,  1,  0,  0,  0,  1,  1,  1,  0,  1,  1,  1,  0,  1, -1],\n",
       "        device='cuda:3'),\n",
       " tensor([ 1,  1,  1,  1,  1,  1,  1,  0,  1,  0,  1,  0,  1,  1,  1,  0,  1,  0,\n",
       "          1,  0,  1,  1,  0,  1,  0,  1,  1,  0,  1,  0,  1,  0,  1,  1,  1,  0,\n",
       "          1,  0,  1,  0,  1,  0,  1,  1,  0,  1,  0,  1,  1,  0,  1,  0,  1,  0,\n",
       "          1,  1,  1,  1,  1,  0,  1,  0,  1,  1, -1], device='cuda:3'),\n",
       " tensor([ 1,  1,  1,  0,  1,  1,  1,  0,  1,  0,  1,  0,  1,  1,  0,  1,  1,  0,\n",
       "          1,  0,  1,  1,  0,  1,  0,  1, -1], device='cuda:3'),\n",
       " tensor([ 1,  0,  1,  0,  1,  1,  1,  1,  0,  1,  0,  1,  1,  0,  1,  0,  1,  0,\n",
       "          1,  0,  1,  1,  1,  0,  1,  0,  1,  0,  1, -1], device='cuda:3'),\n",
       " tensor([ 1,  0,  0,  0,  1,  1,  1,  0,  0,  1,  1,  0,  1,  1,  0,  1,  0,  1,\n",
       "          0,  1,  1,  1,  0,  1,  1,  1,  1,  0,  1,  1,  0,  1,  0,  1,  1,  1,\n",
       "          1,  1,  0,  0,  0,  0,  1,  1,  0,  1,  1,  0,  0,  1,  0,  1,  1,  0,\n",
       "          1,  0,  1,  0,  1,  1,  0,  0,  1,  0,  1,  1,  0,  1,  1,  1,  0,  1,\n",
       "          0,  1,  1,  0,  1,  1,  0,  1,  0,  1,  0,  1,  1,  1,  0,  1,  1,  0,\n",
       "          1,  1,  1,  0,  1,  1,  1,  0,  1,  0,  1,  0,  1, -1],\n",
       "        device='cuda:3'),\n",
       " tensor([ 1,  0,  0,  0,  1,  1,  1,  0,  1,  0,  0,  0,  0,  0,  1,  1,  1,  0,\n",
       "          1,  1,  0,  1,  1,  0,  1,  1,  0,  1, -1], device='cuda:3'),\n",
       " tensor([ 1,  0,  1,  0,  1,  1,  0,  0,  0,  1,  1,  0,  1,  1,  0,  1,  1,  1,\n",
       "          0,  1,  0,  0,  0,  1,  0,  1,  1,  0,  0,  0,  1,  0,  1,  1,  0,  0,\n",
       "          0,  1,  1, -1], device='cuda:3'),\n",
       " tensor([ 1,  0,  1,  1,  0,  1,  0,  1,  1,  0,  1,  0,  1,  1,  1,  1,  0,  1,\n",
       "          0,  1,  1,  0,  1,  0,  1,  0,  1,  1,  1,  1, -1], device='cuda:3'),\n",
       " tensor([ 1,  0,  1,  1,  0,  1,  1,  0,  0,  0,  1,  1,  0,  1,  1,  0,  1,  1,\n",
       "          1,  0,  0,  0,  1,  1,  1,  0,  1,  0,  0,  0,  0,  0,  1,  1,  1,  1,\n",
       "          1,  0,  1,  1,  1,  1,  0,  1, -1], device='cuda:3'),\n",
       " tensor([ 1,  0,  1,  0,  1,  0,  0,  1,  1,  0,  1,  1,  1,  0,  0,  1,  1,  0,\n",
       "          1, -1], device='cuda:3'),\n",
       " tensor([ 1,  0,  1,  0,  1,  1,  0,  0,  1,  1,  0,  0,  1, -1],\n",
       "        device='cuda:3'),\n",
       " tensor([ 1,  0,  0,  0,  1,  1,  1,  0,  1,  0,  1,  0,  1,  0,  1,  1,  1,  0,\n",
       "          1,  1,  0,  1,  0,  0,  1,  1,  0,  1,  1,  0,  1,  1,  1,  0,  1,  1,\n",
       "          0,  1,  1,  1,  0,  1,  1,  0,  1,  1,  1, -1], device='cuda:3'),\n",
       " tensor([ 1,  0,  1,  0,  1,  0,  0,  1,  1,  0,  1,  1,  1,  0,  0,  1,  1,  0,\n",
       "          1, -1], device='cuda:3'),\n",
       " tensor([ 1,  0,  1,  0,  1,  1,  0,  0,  0,  1,  1,  1,  1,  0,  1,  1,  1,  0,\n",
       "          1,  0,  1,  0,  1,  1, -1], device='cuda:3'),\n",
       " tensor([ 1,  0,  1,  0,  1,  1,  0,  0,  0,  1,  1,  1,  1,  0,  1,  1,  1,  1,\n",
       "          1,  0,  0,  0,  0,  0,  0,  1,  1,  0,  0,  1,  1, -1],\n",
       "        device='cuda:3'),\n",
       " tensor([ 1,  0,  1,  1,  0,  1,  1,  1,  0,  0,  1,  1,  1,  0,  1,  0,  1,  1,\n",
       "          0,  1,  0,  1, -1], device='cuda:3'),\n",
       " tensor([ 1,  1,  1,  0,  1,  1,  1,  1,  0,  1,  1,  1,  1,  1,  1,  0,  0,  0,\n",
       "          1,  1, -1], device='cuda:3'),\n",
       " tensor([ 1,  1,  0,  1,  0,  1,  0,  1,  1,  0,  1,  1,  0,  1,  0,  1,  1,  1,\n",
       "          0,  1,  0,  1,  1,  0,  1,  1,  0,  1,  0,  1,  1,  1,  1,  0,  1,  0,\n",
       "          1,  0,  1,  0,  1,  0,  1,  0,  1,  0,  1,  1,  0,  1, -1],\n",
       "        device='cuda:3'),\n",
       " tensor([ 1,  1,  0,  1,  1,  0,  1,  1,  1,  0,  1,  0,  1,  1,  0,  0,  1,  1,\n",
       "         -1], device='cuda:3'),\n",
       " tensor([ 1,  0,  1,  0,  1,  1,  0,  1,  0,  1,  0,  1,  1,  1,  0,  1,  0,  1,\n",
       "          1,  0,  1,  0,  1,  0,  1,  1,  0,  1,  0,  1,  1,  0,  1,  1,  0,  1,\n",
       "          1,  1,  1,  0,  1,  0,  1,  0,  1,  1,  0,  1,  1,  0,  1,  0,  1,  1,\n",
       "          0,  1, -1], device='cuda:3'),\n",
       " tensor([ 1,  0,  1,  0,  1,  1,  0,  1,  1,  0,  1,  0,  1,  0,  1,  1,  1,  0,\n",
       "          1, -1], device='cuda:3'),\n",
       " tensor([ 1,  1,  1,  1,  0,  1,  0,  1,  1,  1,  1,  0,  1,  0,  1,  1,  1,  1,\n",
       "          0,  1,  1,  0,  1,  0,  1,  1,  1, -1], device='cuda:3'),\n",
       " tensor([ 1,  0,  1,  1,  1,  1,  1,  0,  1,  1,  1,  1,  0,  1, -1],\n",
       "        device='cuda:3'),\n",
       " tensor([ 1,  1,  1,  1,  1,  1,  0,  1,  1,  0,  1,  1,  1,  0,  1,  1,  0,  1,\n",
       "          0,  1,  1,  0,  1,  1,  1,  0,  1,  1, -1], device='cuda:3'),\n",
       " tensor([ 1,  0,  1,  0,  1,  1,  1,  0,  1,  1,  0,  1,  0,  1,  1,  1,  1,  0,\n",
       "          1,  1,  0,  1,  1,  1,  0,  1,  1,  0,  1,  1,  0,  1,  1,  1,  1,  0,\n",
       "          1, -1], device='cuda:3'),\n",
       " tensor([ 1,  1,  1,  0,  1,  1,  0,  1,  1,  0,  1,  0,  1,  1,  1,  0,  1, -1],\n",
       "        device='cuda:3'),\n",
       " tensor([ 1,  1,  1,  0,  0,  1,  0,  1,  1,  0,  1,  0,  1,  0,  0,  0,  1,  0,\n",
       "          0,  0,  1,  1,  0,  1,  0,  1,  0,  1,  0,  0,  0,  0,  1, -1],\n",
       "        device='cuda:3'),\n",
       " tensor([ 1,  1,  1,  0,  0,  0,  1,  1,  1,  1,  1,  0,  1,  1,  1,  0,  1,  0,\n",
       "          1,  0,  1,  0,  1,  1,  0,  1,  0,  1, -1], device='cuda:3'),\n",
       " tensor([ 1,  1,  0,  1,  1,  1,  1,  1,  0,  1,  0,  1,  1,  0,  1,  1,  0,  1,\n",
       "          0,  1,  1,  0,  1,  0,  1,  0,  1,  0,  1,  1,  0,  1,  0,  1,  0,  1,\n",
       "          0,  1,  0,  1,  1,  0,  1,  0,  1, -1], device='cuda:3'),\n",
       " tensor([ 1,  0,  1,  0,  0,  1,  1,  0,  1,  1,  0,  1,  1,  0,  1,  1,  0,  1,\n",
       "          1,  0,  1,  1,  0,  1,  1,  1,  0,  1,  1,  1,  1,  1,  0,  1,  1,  0,\n",
       "          1,  0,  1,  0,  1,  1,  0,  1,  1,  0,  1,  1,  0,  0,  1,  1,  0,  1,\n",
       "          1,  0,  1,  1,  0,  1,  1,  0,  1,  1,  1,  1,  0,  1,  1, -1],\n",
       "        device='cuda:3'),\n",
       " tensor([ 1,  0,  1,  0,  1,  1,  0,  1,  1,  1,  0,  1,  1,  0,  1,  1,  0,  1,\n",
       "          1,  0,  1,  1,  1,  0,  1,  0,  1,  1,  0,  1,  1,  1,  0,  1,  0,  1,\n",
       "          0,  1,  1,  0,  1,  0,  1,  1,  1,  0,  1,  1,  1,  1,  0,  1,  1,  1,\n",
       "          0,  1,  1,  1,  0,  1,  1,  1,  0,  1,  0,  1,  0,  1,  1,  0,  1,  0,\n",
       "          1,  0,  1,  0,  1,  1,  0,  1,  1,  0,  1,  0,  1,  1,  1,  0,  1,  1,\n",
       "          0,  1,  0,  1,  1,  1,  0,  1,  1,  0,  1,  0,  1,  0,  1,  1,  1,  0,\n",
       "          1,  1,  0,  1,  0,  1,  0,  1,  1,  1,  1,  0,  1,  0,  1, -1],\n",
       "        device='cuda:3'),\n",
       " tensor([ 1,  0,  1,  0,  1,  1,  0,  1,  1,  0,  1,  1,  1,  0,  1,  1,  1,  0,\n",
       "          1,  1,  0,  1,  1,  1,  1,  0,  1,  1,  1,  0,  1,  0,  1,  0,  1, -1],\n",
       "        device='cuda:3'),\n",
       " tensor([ 1,  0,  1,  1,  0,  1,  0,  1,  1,  0,  0,  0,  1,  0,  1,  1,  1,  1,\n",
       "          0,  1,  0,  1,  0,  1,  1,  0,  1,  1,  0,  1,  0,  1,  1,  0,  0,  0,\n",
       "          1,  1,  1,  0,  1,  1,  1,  1,  0,  1,  1,  0,  1,  0,  1,  0,  1,  0,\n",
       "          1,  1,  0,  1,  0,  1,  1,  0,  1,  0,  1,  1,  0,  1,  0,  1,  1,  0,\n",
       "          1,  0,  1,  0,  1,  0,  1,  1,  0,  0,  0,  1,  1,  0,  1,  0,  1,  1,\n",
       "          0,  1,  0,  1, -1], device='cuda:3'),\n",
       " tensor([ 1,  0,  1,  1,  1,  0,  0,  0,  1,  1,  0,  1,  1,  1,  0,  0,  0,  1,\n",
       "          1,  0,  1,  1,  0,  1,  1,  0,  1,  1,  0,  1,  0,  1,  0,  1,  1,  1,\n",
       "          0,  1,  1,  1,  0,  1,  0,  1,  1, -1], device='cuda:3'),\n",
       " tensor([ 1,  0,  0,  0,  1,  1,  0,  1,  0,  1,  1,  1,  1,  0,  1,  1,  1,  0,\n",
       "          0,  0,  0,  1,  1, -1], device='cuda:3'),\n",
       " tensor([ 1,  0,  0,  0,  1,  1,  1,  1,  0,  1,  1,  1,  0,  1,  0,  1,  1,  1,\n",
       "          0,  1,  1,  0,  1,  1,  0,  1,  0,  1,  0,  1,  1, -1],\n",
       "        device='cuda:3'),\n",
       " tensor([ 1,  0,  1,  1,  1,  1,  1,  1,  0,  1,  0,  1,  0,  1,  0,  1, -1],\n",
       "        device='cuda:3'),\n",
       " tensor([ 1,  1,  1,  1,  1,  0,  1,  0,  1,  0,  1,  0,  1,  1,  1,  1,  1,  1,\n",
       "          1,  1,  0,  1,  0,  1,  1,  1,  0,  1, -1], device='cuda:3'),\n",
       " tensor([ 1,  0,  1,  0,  1,  1,  0,  1,  0,  1,  0,  1,  1,  0,  1,  1,  0,  1,\n",
       "          1,  0,  1,  1,  1,  0,  1, -1], device='cuda:3'),\n",
       " tensor([ 1,  1,  0,  1,  0,  1,  1,  0,  1,  0,  1,  1,  1,  1,  0,  1,  1,  0,\n",
       "          1,  0,  0,  0,  1,  1,  0,  1,  0,  1,  0,  1,  0,  1,  1,  0,  1,  0,\n",
       "          1,  0,  1,  1,  0,  1,  1,  1,  0,  1,  1,  0,  1,  0,  1,  0,  1,  1,\n",
       "          1,  0,  1,  1,  1, -1], device='cuda:3'),\n",
       " tensor([ 1,  1,  1,  1,  1,  0,  1,  1,  0,  0,  1,  1,  0,  1,  1,  1,  0,  1,\n",
       "          1,  1,  0,  1,  0,  1,  0,  0,  1,  0,  1,  0,  1, -1],\n",
       "        device='cuda:3'),\n",
       " tensor([ 1,  0,  1,  1,  1,  0,  0,  0,  1,  1,  1,  1,  0,  1,  1,  1,  0,  1,\n",
       "          1,  0,  1,  0,  1,  1,  0,  1,  0,  1,  1,  1,  0,  1,  1,  1,  1, -1],\n",
       "        device='cuda:3'),\n",
       " tensor([ 1,  1,  1,  0,  1,  1,  0,  1,  1,  0,  1,  0,  1, -1],\n",
       "        device='cuda:3'),\n",
       " tensor([ 1,  0,  1,  1,  0,  1,  1,  0,  1,  1,  0,  1,  1,  1,  1,  0,  1,  1,\n",
       "          1,  1,  0,  1,  1, -1], device='cuda:3'),\n",
       " tensor([ 1,  0,  1,  0,  1,  1,  1,  0,  1,  0,  1,  1,  1,  1,  1,  0,  1,  0,\n",
       "          1,  1,  1,  0,  1,  1,  0,  1,  0,  1,  0,  1, -1], device='cuda:3'),\n",
       " tensor([ 1,  0,  0,  0,  1,  1,  1,  1,  1,  1,  1,  0,  1,  0,  1,  1,  1,  1,\n",
       "          1,  1,  0,  1,  1,  0,  1,  1,  0,  1,  0,  1,  1,  0,  1, -1],\n",
       "        device='cuda:3'),\n",
       " tensor([ 1,  1,  1,  0,  1,  1,  1,  0,  1,  1,  0,  1,  0,  1,  1,  1,  0,  1,\n",
       "          1,  1,  0,  1,  1,  1,  1,  1,  1,  0,  1,  1,  0,  1,  1,  0,  1,  0,\n",
       "          1,  0,  1,  1,  1,  0,  1, -1], device='cuda:3'),\n",
       " tensor([ 1,  0,  1,  0,  1,  1,  1,  1,  0,  1,  0,  1,  1,  1,  1,  0,  1,  1,\n",
       "          1,  0,  1,  0,  1,  1,  0,  1,  1,  0,  1,  1,  0,  0,  1,  1,  0,  0,\n",
       "          1,  1,  0,  0,  0,  1,  1,  0,  0,  1,  1,  0,  0,  1,  1,  0,  0,  1,\n",
       "          1,  0,  0,  0,  1,  1,  0,  0,  1,  1,  0,  0,  1,  1,  0,  0,  1,  1,\n",
       "          0,  1,  1,  1,  1,  0,  1,  0,  1,  0,  1,  1,  0,  0,  0,  1, -1],\n",
       "        device='cuda:3'),\n",
       " tensor([ 1,  1,  1,  0,  0,  0,  1,  0,  1,  0,  1,  1,  1,  0,  1,  1,  0,  1,\n",
       "          0,  1,  1,  1,  0,  1,  1,  0,  1,  0,  1,  0,  1,  1,  0,  1,  1,  0,\n",
       "          1,  0,  1,  1,  0,  1,  0,  1,  0,  1,  1,  0,  1,  1,  1, -1],\n",
       "        device='cuda:3'),\n",
       " tensor([ 1,  1,  1,  0,  1,  0,  1,  1,  1,  1,  0,  1,  0,  1,  0,  1,  0,  1,\n",
       "          1,  1,  1,  1,  0,  1,  0,  1,  0,  1,  0,  1,  0,  1,  0,  1,  1,  0,\n",
       "          1,  1,  0,  1,  0,  1,  1,  0,  1,  1,  0,  1,  1,  0,  1,  0,  1,  0,\n",
       "          1,  1,  1,  0,  1,  0,  1,  1,  0,  1,  0,  0,  1,  1,  0,  1,  0,  1,\n",
       "          0,  1,  0,  1,  1,  1,  0,  1,  0,  1,  0,  1,  0,  1,  0,  1,  1,  0,\n",
       "          0,  1,  1,  0,  1,  1,  0,  1,  1,  0,  0,  0,  1,  1,  0,  1,  1,  0,\n",
       "          1,  0,  0,  0,  1,  0,  1, -1], device='cuda:3'),\n",
       " tensor([ 1,  0,  1,  0,  0,  0,  1,  1,  0,  1,  1,  1,  0,  1,  0,  1,  1,  0,\n",
       "          0,  0,  0,  0,  1,  1,  0,  1,  0,  1,  0,  1,  0,  1,  0,  1,  1,  0,\n",
       "          1, -1], device='cuda:3'),\n",
       " tensor([ 1,  0,  1,  0,  1,  0,  1,  1,  1,  1,  1,  1,  1,  1,  1,  0,  1,  0,\n",
       "          1,  0,  1,  0,  1,  0,  1,  0,  1,  0,  1, -1], device='cuda:3'),\n",
       " tensor([ 1,  0,  1,  1,  0,  1,  0,  1,  0,  1,  0,  1,  1,  1,  1,  0,  1,  1,\n",
       "          0,  1,  0,  1,  0,  1,  0,  1,  1,  0,  1, -1], device='cuda:3'),\n",
       " tensor([ 1,  0,  1,  1,  1,  0,  1,  0,  1,  1,  0,  1,  1,  0,  1,  1,  1,  0,\n",
       "          0,  0,  1,  1,  1,  1,  0,  1,  1,  1,  0,  1,  1,  0,  1,  1,  0,  1,\n",
       "          0,  1,  1,  0,  1,  1,  0,  1,  1, -1], device='cuda:3'),\n",
       " tensor([ 1,  0,  1,  1,  1,  0,  1,  1,  0,  1,  1,  1,  1,  1,  0,  1,  0,  1,\n",
       "          1,  0,  1,  1,  1,  0,  1,  0,  1,  1,  0,  1,  0,  1,  1,  1,  1,  1,\n",
       "          1,  1,  1,  1,  0,  1, -1], device='cuda:3'),\n",
       " tensor([ 1,  0,  1,  0,  1,  1,  0,  0,  0,  1,  1,  1,  1,  1,  1,  1,  0,  0,\n",
       "          0,  1,  1,  1,  1,  0,  1,  1,  1,  0,  1,  0,  1,  1,  0,  1,  0,  1,\n",
       "          0,  1,  0,  1,  0,  1,  1, -1], device='cuda:3'),\n",
       " tensor([ 1,  0,  1,  0,  1,  0,  1,  0,  1,  1,  0,  1,  1,  0,  1,  1,  0,  1,\n",
       "          1,  0,  1,  1,  0,  1,  0,  1,  1,  0,  1,  1,  1,  0,  1,  0,  1,  1,\n",
       "          1,  1,  1,  1,  0,  1,  1, -1], device='cuda:3'),\n",
       " tensor([ 1,  0,  1,  0,  1,  1,  0,  1,  1,  1,  0,  1,  1,  0,  1,  0,  1,  0,\n",
       "          1,  1,  1,  0,  1,  0,  1, -1], device='cuda:3'),\n",
       " tensor([ 1,  0,  1,  1,  0,  1,  1,  0,  1,  0,  1,  1,  0,  1,  1,  1,  0,  1,\n",
       "          0,  1,  0,  1,  1,  0,  1,  1,  0,  1,  1,  1,  1,  0,  1,  0,  1,  0,\n",
       "          1,  0,  1,  1,  1,  0,  1,  1,  0,  0,  1,  1, -1], device='cuda:3'),\n",
       " tensor([ 1,  1,  0,  1,  1,  0,  1,  0,  1,  0,  1,  1,  1,  1,  1,  1,  1,  0,\n",
       "          1,  1,  0,  1, -1], device='cuda:3'),\n",
       " tensor([ 1,  0,  0,  1,  1,  0,  1,  0,  1,  1,  0,  1,  0,  1,  1,  1,  1,  0,\n",
       "          0,  1,  0,  1, -1], device='cuda:3'),\n",
       " tensor([ 1,  0,  1,  1,  1,  1,  1,  1,  1,  0,  1,  1,  1,  0,  1,  1,  1,  0,\n",
       "          1,  0,  1,  1,  1,  1,  1,  0,  1,  0,  1, -1], device='cuda:3'),\n",
       " tensor([ 1,  0,  1,  1,  1,  1,  1,  0,  1,  1,  0,  1,  0,  1,  1,  0,  1,  0,\n",
       "          1,  1,  0,  1,  1,  0,  1,  1,  0,  1,  1, -1], device='cuda:3'),\n",
       " tensor([ 1,  0,  1,  0,  1,  1,  1,  1,  0,  1,  1,  1,  0,  1,  1,  1,  0,  1,\n",
       "          1,  0,  1,  0,  1,  1,  1,  0,  1,  1,  0,  1,  1,  1,  0,  1,  1, -1],\n",
       "        device='cuda:3'),\n",
       " tensor([ 1,  0,  1,  1,  1,  1,  0,  0,  0,  1,  1,  0,  1,  0,  1,  1,  1,  1,\n",
       "          1,  0,  1,  0,  0,  1,  0,  1, -1], device='cuda:3'),\n",
       " tensor([ 1,  0,  0,  0,  1,  1,  1,  1,  1,  1,  1,  0,  0,  0,  1,  1,  0,  1,\n",
       "          0,  1,  1,  0,  1,  1,  0,  1, -1], device='cuda:3'),\n",
       " tensor([ 1,  0,  1,  0,  1,  1,  1,  0,  1,  0,  1,  1,  1,  1,  0,  1,  1,  1,\n",
       "          0,  1,  1,  0,  1,  1,  0,  1, -1], device='cuda:3'),\n",
       " tensor([ 1,  1,  1,  0,  1,  0,  1,  1,  0,  1,  0,  1,  0,  1,  1,  0,  1,  1,\n",
       "          0,  1,  1,  1,  1,  0,  1,  1,  1,  1,  1,  0,  0,  0,  1,  1,  0,  1,\n",
       "         -1], device='cuda:3'),\n",
       " tensor([ 1,  0,  1,  0,  1,  1,  1,  1,  0,  1,  0,  1,  1,  0,  0,  0,  1,  1,\n",
       "          0,  0,  0,  1,  0,  1,  1,  1,  1,  0,  1,  0,  1,  1,  1,  1,  0,  0,\n",
       "          0,  1,  0,  1,  1,  1,  0,  1,  0,  1,  1,  0,  0,  0,  1,  1,  1,  1,\n",
       "          0,  1,  0,  1,  1,  0,  1,  0,  1,  1,  0,  1,  1,  0,  1,  0,  1,  1,\n",
       "          0,  1, -1], device='cuda:3'),\n",
       " tensor([ 1,  0,  1,  0,  1,  1,  1,  1,  0,  1,  0,  1,  0,  1,  1,  1,  0,  1,\n",
       "          0,  1,  1,  0,  0,  0,  1,  1,  0,  1,  1,  1,  0,  1,  0,  1,  1,  1,\n",
       "         -1], device='cuda:3'),\n",
       " tensor([ 1,  0,  1,  0,  1,  0,  0,  1,  0,  0,  1,  0,  1,  0,  1,  1,  0,  1,\n",
       "          0,  1,  0,  1,  0,  1,  0,  1,  1, -1], device='cuda:3'),\n",
       " tensor([ 1,  1,  0,  1,  1,  0,  1,  1,  0,  1,  1,  0,  0,  1,  0,  1,  0,  1,\n",
       "          0,  1,  1,  0,  1,  1,  0,  1,  1,  1,  0,  1,  1,  1,  0,  1,  0,  1,\n",
       "          1,  1,  1,  0,  0,  0,  0,  0,  1,  0,  0,  0,  0,  0,  0,  0,  0,  1,\n",
       "          1, -1], device='cuda:3'),\n",
       " tensor([ 1,  0,  1,  1,  0,  1,  0,  1,  1,  1,  1,  1,  0,  1,  0,  1,  0,  1,\n",
       "         -1], device='cuda:3'),\n",
       " tensor([ 1,  0,  1,  0,  1,  1,  0,  0,  1,  1,  1,  0,  0,  0,  1,  0,  0,  0,\n",
       "          1,  1,  1,  1,  0,  0,  1,  0,  1,  1,  0,  1,  1,  0,  1,  1,  0,  0,\n",
       "          0,  0,  1,  0,  0,  0,  1,  1, -1], device='cuda:3'),\n",
       " tensor([ 1,  1,  1,  1,  1,  0,  1,  0,  0,  0,  1,  0,  1,  1,  1,  0,  1,  0,\n",
       "          1,  1,  1,  1,  0,  1,  0,  1,  0,  0,  1,  0,  1,  1,  0,  1,  1,  0,\n",
       "          1, -1], device='cuda:3'),\n",
       " tensor([ 1,  1,  1,  0,  1,  0,  1,  1,  1,  0,  1,  0,  1,  1,  0,  1, -1],\n",
       "        device='cuda:3'),\n",
       " tensor([ 1,  0,  1,  0,  1,  0,  1,  1,  0,  0,  1,  0,  1,  1,  0,  1,  0,  1,\n",
       "          1,  0,  0,  0,  1,  1,  1,  1,  1,  1,  0,  1,  1,  0,  1,  1,  1,  1,\n",
       "          0,  1,  0,  0,  1,  0,  1, -1], device='cuda:3'),\n",
       " tensor([ 1,  0,  0,  0,  1,  1,  1,  1,  1,  1,  1,  0,  1,  0,  0,  0,  1, -1],\n",
       "        device='cuda:3'),\n",
       " tensor([ 1,  1,  1,  0,  1,  0,  1,  0,  1,  1,  1,  0,  1,  0,  1,  0,  1,  1,\n",
       "          1,  1,  0,  1,  1,  0,  1,  0,  1,  0,  1,  1,  0,  1,  1,  0,  1,  1,\n",
       "          1,  0,  1,  1,  1,  1,  0,  0,  1,  0,  1,  1,  0,  1, -1],\n",
       "        device='cuda:3'),\n",
       " tensor([ 1,  0,  0,  1,  0,  1,  1,  1,  0,  0,  1,  0,  1,  0,  1,  0,  1,  1,\n",
       "          0,  1,  1,  1,  0,  1,  1,  0,  1,  0,  0,  1,  0,  1,  1,  0,  1,  0,\n",
       "          1,  1,  0,  1,  0,  1,  1,  0,  1,  0,  1,  0,  1,  1,  0,  1, -1],\n",
       "        device='cuda:3'),\n",
       " tensor([ 1,  0,  1,  1,  0,  0,  0,  1,  0,  1,  1,  0,  0,  0,  1,  1,  1,  1,\n",
       "          1,  1,  1,  1,  1,  1,  0,  1,  1,  1,  1,  0,  1,  1,  1,  0,  1,  0,\n",
       "          1,  1,  1,  1,  0,  0,  1,  1,  0,  0,  1,  1,  0,  1,  1,  1,  1,  0,\n",
       "          1,  0,  1,  0,  1,  0,  1,  1, -1], device='cuda:3'),\n",
       " tensor([ 1,  0,  0,  0,  1,  1,  1,  0,  1,  0,  1,  0,  1,  0,  1,  1,  1,  1,\n",
       "          0,  1,  1,  0,  1,  1,  1,  0,  1,  1,  1,  1,  0,  1,  0,  1,  0,  1,\n",
       "          0,  1,  0,  1,  0,  1,  1,  1,  0,  1,  0,  1,  1,  1,  1,  0,  0,  0,\n",
       "          1,  1,  0,  1,  0,  1,  0,  1, -1], device='cuda:3'),\n",
       " tensor([ 1,  0,  1,  1,  1,  0,  1,  1,  1,  1,  0,  1,  0,  1,  1,  0,  1,  1,\n",
       "          0,  1,  0,  1,  1,  0,  1,  1,  0,  1,  0,  1, -1], device='cuda:3'),\n",
       " tensor([ 1,  0,  0,  1,  0,  1,  1,  0,  1,  0,  1,  1,  1,  0,  1,  0,  1,  1,\n",
       "          0,  1,  0,  1,  1,  1,  0,  1,  1,  1,  0,  1,  0,  1,  0,  1,  0,  1,\n",
       "          1,  1,  0,  1,  0,  1,  1,  1,  1,  1,  1,  1,  0,  1,  1,  0,  1, -1],\n",
       "        device='cuda:3'),\n",
       " tensor([ 1,  0,  0,  0,  1,  0,  1,  0,  1,  1,  0,  0,  0,  1,  0,  1,  1,  0,\n",
       "          1,  0,  1,  0,  1,  1,  1, -1], device='cuda:3'),\n",
       " tensor([ 1,  0,  1,  1,  0,  1,  0,  1,  1,  0,  1,  0,  1,  0,  1, -1],\n",
       "        device='cuda:3'),\n",
       " tensor([ 1,  0,  0,  0,  1,  1,  1,  0,  1,  0,  1,  0,  1,  0,  1,  0,  1,  1,\n",
       "          0,  0,  0,  1,  0,  1,  0,  1,  1,  0,  1,  0,  1,  0,  1,  1,  0,  1,\n",
       "         -1], device='cuda:3'),\n",
       " tensor([ 1,  0,  0,  0,  1,  1,  0,  1,  1,  0,  1,  0,  1,  1,  0,  1,  0,  1,\n",
       "          1,  0,  0,  0,  1,  0,  1,  0,  1,  1,  1,  0,  1,  1,  1,  0,  1,  1,\n",
       "          0,  1,  0,  1,  0,  1,  1,  1,  0,  1,  0,  1,  1,  0,  0,  0,  1,  1,\n",
       "          0,  0,  0,  1,  1,  1,  1,  1,  1,  1,  1,  0,  1,  1,  1,  1,  1,  0,\n",
       "          1,  0,  1,  0,  1,  0,  1,  1,  1,  0,  1,  0,  1,  1,  0,  1,  1,  0,\n",
       "          1,  1,  0,  1,  0,  1, -1], device='cuda:3'),\n",
       " tensor([ 1,  0,  1,  1,  1,  0,  1,  1,  0,  0,  0,  1,  1,  0,  1,  1,  0,  1,\n",
       "          0,  1,  0,  1,  1,  0,  0,  0,  0,  1,  1,  0,  1,  1,  1,  0,  0,  0,\n",
       "          1,  1,  1, -1], device='cuda:3'),\n",
       " tensor([ 1,  1,  0,  1,  1,  1,  0,  0,  0,  0,  1,  1,  0,  1,  0,  0,  0,  1,\n",
       "          1,  1,  0,  1,  1, -1], device='cuda:3'),\n",
       " tensor([ 1,  0,  1,  1,  0,  0,  0,  1,  1,  1,  0,  1,  0,  1,  0,  1,  0,  1,\n",
       "          1,  0,  1,  1,  0,  1,  1,  1,  0,  1,  1,  1,  0,  0,  1,  0,  1, -1],\n",
       "        device='cuda:3'),\n",
       " tensor([ 1,  0,  0,  1,  1,  0,  1,  1,  0,  1,  0,  0,  1, -1],\n",
       "        device='cuda:3'),\n",
       " tensor([ 1,  1,  0,  1,  0,  1,  1,  0,  1,  0,  1,  0,  0,  1, -1],\n",
       "        device='cuda:3'),\n",
       " tensor([ 1,  0,  1,  0,  0,  1,  1,  1,  0,  0,  0,  0,  1,  1,  1,  0,  0,  1,\n",
       "          1,  1,  0,  0,  1,  1,  0,  1,  0,  1,  1,  0,  1,  1,  0,  1,  1,  1,\n",
       "          0,  0,  1,  0,  1,  0,  1,  1,  1,  1,  1,  0,  1,  0,  0,  0,  1,  1,\n",
       "          1,  1,  1,  1,  1,  0,  0,  1,  0,  1,  0,  1, -1], device='cuda:3'),\n",
       " tensor([ 1,  0,  1,  0,  1,  1,  0,  0,  0,  1,  1,  1,  1,  0,  1,  0,  1,  0,\n",
       "          1,  1,  1,  0,  0,  0,  1,  1, -1], device='cuda:3'),\n",
       " tensor([ 1,  1,  0,  1,  1,  1,  1,  0,  1,  1,  1,  1,  1,  1,  0,  1,  0,  1,\n",
       "          1,  0,  0,  1,  1,  1,  0,  1,  1,  1,  1, -1], device='cuda:3'),\n",
       " tensor([ 1,  0,  0,  1,  1,  0,  1,  0,  1,  1,  0,  1,  0,  1,  1,  1,  1,  0,\n",
       "          1,  1,  1,  1,  0,  1,  0,  1,  1,  1,  1,  0,  1,  1,  1,  1,  0,  1,\n",
       "          0,  1,  1,  0,  1,  0,  1, -1], device='cuda:3'),\n",
       " tensor([ 1,  1,  1,  0,  1,  1,  0,  1,  1,  1,  0,  0,  1,  0,  1,  1,  1,  0,\n",
       "          1,  0,  1,  1,  1,  1,  0,  0,  0,  1,  1,  1,  0,  1,  0,  1,  1,  0,\n",
       "          1, -1], device='cuda:3'),\n",
       " tensor([ 1,  0,  0,  1,  1,  0,  1,  1,  1,  0,  1,  1,  1,  0,  1,  1, -1],\n",
       "        device='cuda:3'),\n",
       " tensor([ 1,  0,  1,  0,  1,  1,  0,  1,  1,  0,  0,  0,  1,  1,  0,  0,  0,  1,\n",
       "          1,  1,  1,  1,  1,  1,  0,  1,  1,  0,  0,  1,  0,  1,  1,  0,  1,  1,\n",
       "          1,  1,  1,  0,  1,  1,  0,  1,  0,  1,  1, -1], device='cuda:3'),\n",
       " tensor([ 1,  1,  0,  1,  1,  0,  1,  1,  1,  0,  0,  0,  1,  1,  0,  1,  1,  0,\n",
       "          0,  0,  0,  1,  1,  0,  0,  1,  1,  1,  0,  1,  1,  0,  0,  0,  0,  0,\n",
       "          1,  1,  0,  0,  1,  0,  1,  1,  0,  1,  1,  0,  1,  1,  0,  0,  1,  0,\n",
       "          1,  1,  0,  1,  1,  0,  0,  0,  1,  1,  1,  1,  0,  1, -1],\n",
       "        device='cuda:3'),\n",
       " tensor([ 1,  0,  1,  1,  0,  1,  1,  0,  1,  1,  1,  1,  0,  1,  1,  0,  1,  1,\n",
       "          1,  0,  1,  1,  0,  1, -1], device='cuda:3'),\n",
       " tensor([ 1,  0,  1,  1,  1,  0,  1,  1,  0,  1,  1,  1,  0,  1,  0,  1,  1,  0,\n",
       "          1,  0,  1,  1,  0,  1,  1,  1,  0,  1,  0,  1,  0,  1,  1,  1,  1,  0,\n",
       "          1,  1,  0,  1,  0,  1,  0,  1,  1,  1,  0,  1,  1,  1,  0,  1,  1,  0,\n",
       "          1,  1, -1], device='cuda:3'),\n",
       " tensor([ 1,  0,  1,  1,  0,  1,  0,  1,  1,  0,  1,  0,  1,  0,  1,  1,  0,  1,\n",
       "          1,  1,  1,  1,  0,  1,  1,  1,  1, -1], device='cuda:3'),\n",
       " tensor([ 1,  0,  1,  0,  1,  1,  1,  0,  0,  1,  1,  0,  1,  1,  1,  1,  0,  1,\n",
       "          1,  1,  1,  1,  0,  1,  0,  1,  0,  1,  1,  0,  1,  1,  1,  1,  0,  1,\n",
       "          0,  1,  1,  0,  1,  0,  1,  1,  1,  1,  0,  1,  1,  1,  0,  1,  0,  1,\n",
       "          1,  0,  1,  0,  1,  1,  1,  0,  1,  1,  0,  1,  0,  1,  1,  1,  0,  1,\n",
       "          1,  1,  1,  1,  1,  1,  0,  1,  1,  1,  0,  1, -1], device='cuda:3'),\n",
       " tensor([ 1,  1,  0,  1,  1,  1,  1,  0,  1,  0,  0,  0,  1,  1,  1,  1,  1,  0,\n",
       "          1,  0,  1,  1,  0,  1,  1,  1,  1,  1,  0,  1,  0,  1,  1,  0,  1,  1,\n",
       "          0,  1,  1,  0,  1, -1], device='cuda:3'),\n",
       " tensor([ 1,  0,  1,  0,  1,  0,  1,  0,  1,  0,  1,  0,  1,  1,  1,  1,  0,  1,\n",
       "          0,  1,  0,  1,  0,  1,  1,  1,  1,  0,  1,  1, -1], device='cuda:3'),\n",
       " tensor([ 1,  1,  1,  1,  0,  1,  1,  0,  1,  0,  1,  1,  0,  1,  0,  1,  1,  1,\n",
       "          0,  1,  1,  0,  1,  1,  0,  1,  1,  0,  1,  0,  1,  0,  1, -1],\n",
       "        device='cuda:3'),\n",
       " tensor([ 1,  0,  1,  1,  0,  1,  1,  0,  1,  0,  1,  0,  1,  1,  0,  1,  1,  1,\n",
       "          0,  1,  0,  1,  1,  1,  1,  0,  1,  0,  1,  0,  1,  0,  0,  0,  1,  0,\n",
       "          1,  1,  0,  1,  1,  1,  1,  1,  0,  0,  0,  1, -1], device='cuda:3'),\n",
       " tensor([ 1,  0,  1,  1,  0,  1,  1,  0,  1,  1,  0,  1,  0,  1,  0,  1,  1,  1,\n",
       "          1,  0,  1,  0,  1,  0,  1,  0,  1,  0,  1,  0,  1,  1,  0,  1,  0,  1,\n",
       "          1,  1,  1,  0,  1,  0,  1,  0,  1,  0,  1,  1,  0,  1,  1,  0,  1,  0,\n",
       "          1,  0,  1,  1,  0,  0,  0,  0,  1,  1,  0,  1, -1], device='cuda:3'),\n",
       " tensor([ 1,  0,  1,  1,  0,  1,  0,  1,  0,  1,  1,  1,  0,  1,  1,  1,  0,  1,\n",
       "          0,  1,  0,  1, -1], device='cuda:3'),\n",
       " tensor([ 1,  0,  1,  0,  1,  1,  0,  1,  0,  0,  1,  1,  1,  0,  1,  1,  0,  1,\n",
       "          1,  0,  1,  0,  1,  1,  0,  1,  0,  1,  1,  0,  1,  1,  0,  1,  0,  1,\n",
       "          0,  1, -1], device='cuda:3'),\n",
       " tensor([ 1,  0,  1,  1,  1,  0,  1,  0,  1,  0,  1,  1,  0,  1,  1,  0,  1,  0,\n",
       "          1,  0,  1,  0,  1,  1,  1,  0,  1, -1], device='cuda:3'),\n",
       " tensor([ 1,  0,  1,  1,  0,  1,  0,  1,  1,  1,  1,  0,  1, -1],\n",
       "        device='cuda:3'),\n",
       " tensor([ 1,  0,  1,  0,  1,  1,  1,  0,  1,  1,  0,  1,  1,  1,  1,  1,  1,  0,\n",
       "          1,  1,  0,  1,  1,  0,  1,  1,  0,  1,  0,  1,  1,  0,  1,  1,  1,  0,\n",
       "          1,  1,  1,  0,  1,  1,  0,  1, -1], device='cuda:3'),\n",
       " tensor([ 1,  1,  0,  0,  0,  1,  1,  1,  0,  1,  0,  1,  1,  1,  0,  1,  1,  0,\n",
       "          1,  1,  1,  0,  0,  0,  0,  1,  0,  1,  1,  1,  0,  1,  1,  1,  1,  0,\n",
       "          1,  1, -1], device='cuda:3'),\n",
       " tensor([ 1,  1,  1,  1,  1,  1,  1,  0,  1,  1,  1,  0,  1,  1,  0,  1,  1,  1,\n",
       "          0,  0,  1,  0,  1,  0,  1,  0,  1,  0,  0,  1,  0,  1,  0,  0,  1,  1,\n",
       "          1,  1,  0,  1,  1,  1,  0,  0,  0,  1,  1,  0,  1,  1,  0,  1,  1,  0,\n",
       "          1, -1], device='cuda:3'),\n",
       " tensor([ 1,  1,  1,  1,  1,  0,  1,  1,  0,  1,  1,  0,  1,  0,  1,  0,  1,  1,\n",
       "          1,  1,  0,  0,  0,  1,  1,  0,  1,  0,  1, -1], device='cuda:3'),\n",
       " tensor([ 1,  0,  1,  0,  1,  0,  1,  1,  1,  0,  1,  1,  0,  1,  0,  1,  0,  1,\n",
       "         -1], device='cuda:3'),\n",
       " tensor([ 1,  0,  1,  0,  1,  0,  1,  1,  0,  1,  1,  1,  0,  1,  0,  1,  1,  0,\n",
       "          1,  0,  1,  1,  0,  1,  0,  1,  1,  1,  0,  1,  1,  1,  1,  1,  0,  1,\n",
       "          0,  1,  1,  0,  1,  0,  1,  1,  0,  1,  1,  0,  1,  1,  0,  1,  1,  1,\n",
       "          1,  0,  1,  1,  1,  1,  0,  0,  0,  1,  1,  0,  1,  1,  1,  0,  1,  0,\n",
       "          1,  0,  1,  0,  1,  0,  1, -1], device='cuda:3'),\n",
       " tensor([ 1,  1,  0,  1,  0,  1,  1,  0,  1,  1,  1,  0,  1,  0,  1,  1,  1,  1,\n",
       "          1,  0,  1,  1,  0,  1,  0,  1,  0,  1, -1], device='cuda:3'),\n",
       " tensor([ 1,  1,  0,  0,  0,  1,  1,  1,  1,  1,  0,  1,  1,  1,  0,  1,  1,  0,\n",
       "          0,  0,  0,  1,  0,  1,  1,  1,  0,  1,  0,  1,  1,  0,  1,  1,  0,  1,\n",
       "          1,  1,  1,  0,  1,  1,  1,  1,  0,  0,  0,  0,  0,  0,  0,  0,  0,  0,\n",
       "          0,  1,  0,  0,  0,  0,  0,  0,  0,  0,  0,  0,  0,  0,  0,  1, -1],\n",
       "        device='cuda:3'),\n",
       " tensor([ 1,  1,  0,  0,  0,  1,  1,  1,  0,  0,  1,  1,  0,  0,  0,  0,  0,  1,\n",
       "          0,  0,  0,  0,  0,  0,  0,  0,  0,  1,  1,  0,  1,  1,  0,  1,  1,  1,\n",
       "          1,  0,  0,  0,  1,  1,  1,  0,  1,  0,  1,  1,  1,  1,  1,  1,  0,  0,\n",
       "          1,  0,  1,  0,  1,  1,  0,  1, -1], device='cuda:3'),\n",
       " tensor([ 1,  1,  1,  0,  1,  1,  0,  1,  0,  1,  0,  1,  1,  0,  1,  1,  0,  1,\n",
       "          1,  1,  0,  1,  1,  1,  0,  0,  0,  1,  1,  0,  1,  1,  1,  1,  0,  1,\n",
       "          0,  1,  1,  0,  1,  1,  1,  0,  1,  0,  1, -1], device='cuda:3'),\n",
       " tensor([ 1,  0,  0,  1,  1,  1,  0,  1,  0,  1,  0,  1,  1,  1,  1,  1,  1,  0,\n",
       "          1,  1,  0,  1,  1,  0,  1,  1,  0,  1,  1, -1], device='cuda:3'),\n",
       " tensor([ 1,  1,  1,  0,  1,  0,  1,  1,  0,  1,  1,  0,  1,  0,  1,  1,  1,  0,\n",
       "          1,  1,  0,  1,  1,  0,  1,  1,  0,  1,  0,  1,  1,  1,  1,  0,  1,  1,\n",
       "          1,  0,  1,  1,  1,  1,  0,  1,  0,  1,  1, -1], device='cuda:3'),\n",
       " tensor([ 1,  0,  0,  0,  1,  1,  1,  1,  1,  1,  0,  1,  0,  1,  1, -1],\n",
       "        device='cuda:3'),\n",
       " tensor([ 1,  0,  0,  0,  1,  1,  1,  0,  1,  1,  0,  1,  1,  0,  1,  1,  0,  1,\n",
       "          0,  1,  1,  0,  1,  1,  0,  1,  0,  1,  0,  1,  1,  0,  1,  0,  1,  1,\n",
       "          0,  1,  1,  0,  1,  1,  1,  0,  1,  1,  0,  1,  1,  0,  1, -1],\n",
       "        device='cuda:3'),\n",
       " tensor([ 1,  1,  0,  1,  1,  0,  1,  0,  1,  1,  1,  0,  1,  1,  0,  1,  0,  1,\n",
       "          0,  1,  1,  1,  0,  1,  1,  1,  0,  1,  0,  1, -1], device='cuda:3'),\n",
       " tensor([ 1,  1,  1,  1,  0,  1,  1,  1,  1,  1,  0,  1,  1,  1,  0,  1,  1,  0,\n",
       "          0,  0,  0,  0,  1,  1,  0,  1,  0,  1,  1,  1,  1,  1,  0,  1,  0,  1,\n",
       "          0,  1,  1,  1,  0,  1,  1,  0,  0,  0,  1,  0,  0,  0,  1,  1,  1,  1,\n",
       "          0,  1,  0,  1,  1,  1,  0,  1,  1,  1,  1,  0,  1,  1,  1,  0,  1,  1,\n",
       "          1,  0,  1, -1], device='cuda:3'),\n",
       " tensor([ 1,  0,  1,  1,  0,  1,  1,  1,  0,  1,  1,  0,  1,  1,  0,  1,  0,  1,\n",
       "          1,  1,  0,  1,  1,  0,  1,  0,  1,  1,  0,  1,  1,  0,  1,  1,  0,  1,\n",
       "          0,  1,  0,  1,  0,  1, -1], device='cuda:3'),\n",
       " tensor([ 1,  0,  0,  0,  1,  1,  1,  1,  0,  1,  1,  1,  0,  0,  1,  1,  0,  0,\n",
       "          0,  1,  1,  0,  1,  1,  0,  1,  1,  1,  0,  1,  0,  1, -1],\n",
       "        device='cuda:3'),\n",
       " tensor([ 1,  0,  1,  1,  0,  0,  1,  1,  1,  1,  0,  1,  0,  1,  1,  0,  1,  0,\n",
       "          1,  0,  1,  1, -1], device='cuda:3'),\n",
       " tensor([ 1,  0,  0,  1,  1,  0,  1,  1,  0,  1,  0,  1,  0,  1,  1,  0,  1,  1,\n",
       "          0,  1, -1], device='cuda:3'),\n",
       " tensor([ 1,  0,  1,  0,  1,  1,  1,  1,  1,  0,  1,  0,  1,  1,  1,  1,  0,  1,\n",
       "          0,  1,  0,  1,  0,  1,  0,  1,  1,  0,  1,  0,  1, -1],\n",
       "        device='cuda:3'),\n",
       " tensor([ 1,  1,  0,  1,  0,  1,  1,  0,  1,  1,  0,  1,  1,  0,  1,  0,  0,  0,\n",
       "          1,  1,  1,  0,  1, -1], device='cuda:3'),\n",
       " tensor([ 1,  0,  1,  0,  0,  0,  0,  1,  1,  1,  1,  1,  0,  1,  0,  1,  1,  1,\n",
       "          1,  0,  1,  0,  1,  1,  1,  0,  1,  1,  0,  1,  0,  1,  0,  1, -1],\n",
       "        device='cuda:3'),\n",
       " tensor([ 1,  1,  1,  0,  1,  0,  1,  1,  0,  1,  0,  1,  1,  0,  0,  0,  1,  1,\n",
       "          0,  1, -1], device='cuda:3'),\n",
       " tensor([ 1,  1,  0,  1,  1,  0,  1,  0,  0,  0,  1,  1,  0,  1,  1,  1,  0,  1,\n",
       "          0,  1,  1,  1,  1,  0,  0,  1,  1,  0,  1,  1,  0,  1, -1],\n",
       "        device='cuda:3'),\n",
       " tensor([ 1,  0,  0,  0,  0,  1,  0,  1,  1,  0,  1,  1,  1,  1,  0,  1,  0,  0,\n",
       "          0,  0,  0,  1,  1,  0,  0,  0,  0,  1,  1,  1,  1,  0,  1,  0,  1,  1,\n",
       "          1,  0,  1, -1], device='cuda:3'),\n",
       " tensor([ 1,  1,  1,  1,  0,  0,  0,  1,  1,  0,  1,  1,  1,  1,  0,  1,  0,  1,\n",
       "          0,  1,  1,  1,  0,  1,  0,  1,  0,  1,  0,  1,  1,  0,  1,  0,  0,  1,\n",
       "          0,  1,  0,  1,  0,  1,  0,  1,  1,  1,  0,  1,  1,  0,  1,  0,  1,  0,\n",
       "          1,  0,  1, -1], device='cuda:3'),\n",
       " tensor([ 1,  0,  0,  1,  1,  0,  1,  0,  1,  1,  0,  0,  1,  1,  0,  1,  0,  1,\n",
       "          1,  1,  1,  1,  1,  1,  0,  1,  1,  1,  0,  1,  0,  1,  1,  0,  0,  1,\n",
       "          1,  0,  1,  0,  1,  1,  0,  1,  1,  0,  1,  0,  1,  1,  0,  0,  0,  0,\n",
       "          1,  0,  0,  0,  0,  0,  0,  0,  0,  1,  1,  1,  0,  1,  1,  0,  1,  1,\n",
       "         -1], device='cuda:3'),\n",
       " tensor([ 1,  1,  1,  0,  1,  0,  1,  0,  1,  0,  1,  1,  0,  1,  1,  0,  1,  1,\n",
       "          0,  0,  0,  1,  1,  0,  1,  1,  1,  1,  1,  0,  1, -1],\n",
       "        device='cuda:3'),\n",
       " tensor([ 1,  0,  1,  0,  0,  1,  1,  1,  1,  0,  1,  1,  0,  1,  0,  1,  1,  1,\n",
       "          1,  0,  1,  1,  1,  1,  0,  1,  0,  1,  1,  0,  1,  1,  0,  0,  1,  1,\n",
       "          1,  0,  1,  0,  1,  1,  0,  1,  1,  0,  1, -1], device='cuda:3'),\n",
       " tensor([ 1,  0,  0,  0,  1,  1,  1,  1,  1,  0,  0,  0,  1,  0,  1,  0,  1,  1,\n",
       "          1,  1,  0,  1,  1,  0,  0,  0,  1,  0,  1,  0,  0,  0,  0,  1,  1,  1,\n",
       "          0,  1,  0,  1,  1,  0,  1,  0,  1,  1,  0,  1,  0,  1,  0,  1,  1,  0,\n",
       "          1, -1], device='cuda:3'),\n",
       " tensor([ 1,  0,  1,  1,  0,  0,  0,  1,  0,  1,  0,  1,  1,  0,  1,  1,  1,  1,\n",
       "          0,  1,  0,  1,  0,  1,  1,  1,  0,  1,  0,  1,  0,  1,  1,  0,  1,  1,\n",
       "          1,  0,  1,  1,  1,  0,  1,  0,  1,  1,  0,  1,  1,  0,  1,  0,  1,  0,\n",
       "          1,  1,  1,  0,  1,  0,  1,  1,  0,  1,  1,  1,  0,  0,  0,  1,  0,  1,\n",
       "          1,  0,  1,  1,  1,  1,  0,  1,  0,  0,  0,  1,  1,  0,  1,  1,  0,  1,\n",
       "          1,  0,  1,  1,  1,  0,  0,  0,  1,  1,  0,  1,  0,  1,  1,  1,  0,  1,\n",
       "          1,  1,  1,  0,  1,  0,  1,  1,  0,  1,  1,  0,  1,  1,  1,  1,  1,  1,\n",
       "          1,  0,  1,  1,  0,  0,  0,  1,  0,  1,  1,  0,  1,  1,  1,  0,  1,  1,\n",
       "          0,  1,  0,  1,  1,  0,  0,  0,  1,  0,  1,  1, -1], device='cuda:3'),\n",
       " tensor([ 1,  0,  0,  0,  1,  0,  1,  1,  1,  1,  0,  1,  0,  1,  0,  1,  1,  0,\n",
       "          1,  0,  1, -1], device='cuda:3'),\n",
       " tensor([ 1,  0,  1,  1,  0,  0,  0,  1,  1,  1,  0,  1,  0,  1,  0,  1,  1,  0,\n",
       "          0,  0,  1,  1,  1,  1,  1,  1,  0,  1,  1,  0,  0,  0,  1,  1,  0,  1,\n",
       "          0,  1,  1,  0,  1,  0,  0,  0,  1,  1,  1,  1,  1,  0,  1,  0,  1,  1,\n",
       "          0,  1, -1], device='cuda:3'),\n",
       " tensor([ 1,  0,  1,  0,  1,  0,  1,  0,  1,  1,  0,  1,  0,  1,  1,  0,  1,  1,\n",
       "          0,  1,  1,  0,  1,  1,  0,  1,  0,  1,  1,  1,  1,  0,  1,  0,  1,  1,\n",
       "          0,  1,  1,  0,  1,  1,  1,  0,  1,  1,  0,  1, -1], device='cuda:3'),\n",
       " tensor([ 1,  0,  0,  0,  1,  1,  1,  0,  0,  0,  1,  1,  0,  1,  0,  0,  1,  0,\n",
       "          1,  0,  1,  1,  1,  0,  1,  0,  1,  1,  0,  1,  0,  1,  1,  1,  0,  0,\n",
       "          0,  1,  1,  0,  1,  1,  1,  0,  0,  0,  1,  1,  0,  1, -1],\n",
       "        device='cuda:3'),\n",
       " tensor([ 1,  1,  1,  1,  0,  1,  1,  0,  0,  0,  0,  1,  1,  0,  1,  1,  0,  1,\n",
       "          0,  1,  1,  1,  1, -1], device='cuda:3'),\n",
       " tensor([ 1,  1,  0,  1,  1,  0,  1,  1,  0,  1,  0,  1,  1,  0,  1,  0,  1,  1,\n",
       "          0,  1,  1,  0,  1,  0,  1,  1,  0,  1,  0,  1,  1,  0,  1,  1,  0,  1,\n",
       "          1,  0,  1,  0,  1,  1,  0,  1,  0,  1,  0,  1,  1,  1,  1,  0,  1,  1,\n",
       "          1,  1,  0,  1,  1,  1,  1,  0,  1,  1,  0,  1,  0,  1,  0,  1, -1],\n",
       "        device='cuda:3'),\n",
       " tensor([ 1,  0,  1,  0,  1,  1,  1,  0,  1,  0,  1,  1,  1,  1,  1,  1,  0,  1,\n",
       "          1,  1,  1,  1,  0,  1,  0,  1,  1,  1,  0,  1,  1,  1,  0,  1,  1,  1,\n",
       "          1,  1,  0,  1,  0,  1,  1,  0,  1,  1,  0,  1, -1], device='cuda:3'),\n",
       " tensor([ 1,  1,  0,  1,  0,  1,  1,  1,  0,  0,  0,  1,  1,  1,  1,  1,  1,  0,\n",
       "          1,  1,  0,  1,  0,  1, -1], device='cuda:3'),\n",
       " tensor([ 1,  0,  1,  0,  1,  1,  1,  0,  1,  0,  1,  1,  0,  1,  0,  1,  0,  1,\n",
       "          0,  1,  0,  1,  1,  0,  1,  1,  0,  1,  0,  1,  0,  1,  0,  1,  1,  0,\n",
       "          1,  0,  1,  0,  1,  0,  1,  0,  1,  1,  0,  1,  0,  1,  1,  1,  1,  0,\n",
       "          1,  1,  0,  1,  0,  1, -1], device='cuda:3'),\n",
       " tensor([ 1,  0,  1,  1,  0,  1,  1,  0,  1,  0,  1,  1,  0,  1,  1,  0,  1,  1,\n",
       "          1,  0,  1,  0,  1,  1,  0,  1, -1], device='cuda:3'),\n",
       " tensor([ 1,  0,  1,  0,  1,  1,  0,  1,  1,  0,  1,  0,  1,  1,  1,  1,  0,  1,\n",
       "          1,  0,  1,  1,  1,  1,  1,  0,  1,  0,  1,  0,  1,  1,  0,  1,  1,  1,\n",
       "          1,  0,  1,  0,  1,  0,  1,  1, -1], device='cuda:3'),\n",
       " tensor([ 1,  0,  1,  1,  0,  1,  0,  1,  0,  1,  1,  0,  1, -1],\n",
       "        device='cuda:3'),\n",
       " tensor([ 1,  0,  1,  0,  1,  0,  1,  0,  1,  1,  1,  1,  0,  1,  0,  1,  1,  1,\n",
       "          0,  1,  0,  1, -1], device='cuda:3'),\n",
       " tensor([ 1,  0,  1,  0,  1,  1,  1,  0,  1,  0,  1,  1,  0,  1,  1,  1,  1,  0,\n",
       "          0,  1,  0,  1,  1,  1,  0,  1,  0,  1,  1,  0,  1,  1,  0,  1,  1,  0,\n",
       "          1,  1,  1,  1,  1,  0,  1,  0,  1,  1,  1,  0,  0,  0,  0,  0,  0,  0,\n",
       "          1,  0,  0,  0,  0,  1,  1,  1,  1,  0,  1,  0,  1,  1,  0,  1,  0,  1,\n",
       "          0,  1,  0,  0,  1,  0,  1,  1,  0,  1,  0,  1,  1,  0,  1,  1,  1,  0,\n",
       "          1,  0,  1,  0,  0,  0,  1,  0,  0,  1,  1,  1,  1,  0,  1,  0,  1,  1,\n",
       "          0,  1,  1,  0,  1, -1], device='cuda:3'),\n",
       " tensor([ 1,  0,  0,  1,  1,  0,  0,  1,  1,  1,  1,  0,  1,  0,  0,  0,  1,  1,\n",
       "         -1], device='cuda:3'),\n",
       " tensor([ 1,  0,  1,  1,  0,  1,  1,  0,  1,  0,  1,  1,  0,  1, -1],\n",
       "        device='cuda:3'),\n",
       " tensor([ 1,  0,  1,  0,  1,  1,  0,  1,  1,  1,  0,  1,  1,  1,  0,  1,  1,  0,\n",
       "          1,  1,  0,  1,  1,  0,  1,  0,  1, -1], device='cuda:3'),\n",
       " tensor([ 1,  0,  0,  0,  1,  1,  1,  0,  1,  1,  0,  1,  0,  1,  1,  1,  1,  0,\n",
       "          1,  0,  0,  0,  1,  0,  1,  0,  1, -1], device='cuda:3'),\n",
       " tensor([ 1,  1,  0,  1,  0,  1,  1,  0,  1,  0,  1,  1,  0,  1,  0,  1,  0,  1,\n",
       "          1,  1,  0,  1,  1,  1,  0,  1,  0,  1,  1,  0,  1,  0,  1,  1,  1,  0,\n",
       "          1,  0,  1,  1,  0,  1,  1,  0,  1,  0,  1,  1,  0,  1,  0,  1,  0,  1,\n",
       "         -1], device='cuda:3'),\n",
       " tensor([ 1,  1,  0,  1,  0,  1,  0,  1,  1,  0,  1,  1,  0,  1,  0,  1,  1,  0,\n",
       "          1,  1,  0,  1,  1, -1], device='cuda:3'),\n",
       " tensor([ 1,  0,  0,  0,  1,  1,  1,  1,  1,  1,  1,  1,  1,  0,  1,  0,  1,  0,\n",
       "          1,  0,  1,  1,  0,  1,  0,  1,  1,  0,  1,  1,  1, -1],\n",
       "        device='cuda:3'),\n",
       " tensor([ 1,  1,  0,  1,  0,  1,  0,  1,  0,  1,  1,  0,  0,  1,  0,  0,  1,  1,\n",
       "          1,  1,  1,  1,  1,  0,  1,  0,  1,  1,  0,  1,  1,  0,  1, -1],\n",
       "        device='cuda:3'),\n",
       " tensor([ 1,  0,  1,  1,  1,  0,  1,  0,  1,  0,  1,  1,  1,  1,  1,  0,  1,  0,\n",
       "          1,  1,  1,  0,  1, -1], device='cuda:3'),\n",
       " tensor([ 1,  0,  0,  0,  1,  1,  0,  0,  1,  1,  0,  1,  0,  1,  1,  1,  1,  0,\n",
       "          0,  1,  1,  0,  1,  0,  1,  0,  1, -1], device='cuda:3'),\n",
       " tensor([ 1,  0,  0,  1,  1,  1,  0,  1,  1,  0,  1,  0,  0,  1,  1,  0,  1,  0,\n",
       "          1,  0,  1,  1,  1,  1,  0,  0,  0,  1,  1,  1,  0,  1,  0,  1,  1,  0,\n",
       "          1,  1,  1,  1,  0,  1,  1,  1,  0,  0,  1,  0,  1,  1,  0,  1,  0,  1,\n",
       "         -1], device='cuda:3'),\n",
       " tensor([ 1,  0,  0,  0,  1,  1,  0,  1,  0,  1,  1,  0,  1,  1,  1,  0,  1,  1,\n",
       "          0,  1,  0,  1,  1,  0,  1,  1,  1,  0,  1,  1,  0,  1,  1,  0,  0,  1,\n",
       "         -1], device='cuda:3'),\n",
       " tensor([ 1,  0,  0,  1,  1,  1,  1,  1,  1,  0,  1,  0,  1,  1,  1,  0,  1,  1,\n",
       "          1,  0,  1,  1,  0,  1,  0,  1,  1,  1,  0,  1,  0,  1,  1,  0,  1,  1,\n",
       "          1,  1,  0,  1,  1, -1], device='cuda:3'),\n",
       " tensor([ 1,  1,  1,  1,  1,  1,  1,  1,  0,  1,  0,  1,  1,  1,  1,  0,  1,  0,\n",
       "          1, -1], device='cuda:3'),\n",
       " tensor([ 1,  1,  1,  1,  1,  1,  1,  0,  1,  0,  1,  1,  1,  1,  0,  1,  1,  1,\n",
       "          0,  1,  1,  1,  1,  1,  0,  1,  0,  1, -1], device='cuda:3'),\n",
       " tensor([ 1,  0,  1,  1,  1,  1,  1,  0,  1,  1,  0,  1,  0,  1,  0,  1,  1,  0,\n",
       "          1,  1,  1,  1,  0,  1,  0,  1,  1,  0,  1,  0,  1,  0,  1, -1],\n",
       "        device='cuda:3'),\n",
       " tensor([ 1,  0,  1,  0,  1,  1,  0,  0,  1,  0,  0,  0,  0,  1,  0,  1,  0,  1,\n",
       "          1,  1,  1,  0,  1,  1,  0,  0,  1,  1,  0,  1,  1,  0,  1,  1,  0,  1,\n",
       "          1,  1,  0,  1,  1,  0,  0,  1,  1,  0,  0,  1,  0,  1,  0,  1,  1,  0,\n",
       "          0,  1,  1,  0,  1,  0,  1,  0,  1,  0,  1,  1,  1,  0,  1,  0,  1,  0,\n",
       "          1, -1], device='cuda:3'),\n",
       " tensor([ 1,  1,  0,  1,  0,  1,  1,  0,  1,  1,  1,  1,  1,  0,  1,  0,  1,  0,\n",
       "          1,  1,  0,  1,  1,  0,  1,  0,  1,  1,  0,  1,  1,  0,  1,  0,  1,  1,\n",
       "          0,  1,  0,  1, -1], device='cuda:3'),\n",
       " tensor([ 1,  0,  1,  1,  0,  1,  0,  1,  1,  0,  0,  1,  1,  1,  0,  0,  1,  1,\n",
       "          1,  0,  0,  1,  1,  1, -1], device='cuda:3'),\n",
       " tensor([ 1,  0,  1,  1,  1,  1,  0,  1,  0,  1,  0,  1,  1,  0,  1,  1,  0,  1,\n",
       "          1,  0,  1,  1,  0,  1,  1,  0,  1,  0,  1,  1,  0,  1,  0,  1,  0,  1,\n",
       "         -1], device='cuda:3'),\n",
       " tensor([ 1,  0,  1,  0,  1,  1,  1,  1,  1,  0,  1,  0,  1,  1,  0,  1,  0,  1,\n",
       "          0,  1,  1,  0,  1,  0,  1,  0,  1,  0,  1,  1,  1,  0,  1,  0,  1,  1,\n",
       "          0,  1,  0,  1,  1,  0,  1,  0,  1,  0,  1,  1,  0,  1,  0,  1, -1],\n",
       "        device='cuda:3'),\n",
       " tensor([ 1,  0,  1,  0,  1,  0,  1,  0,  1,  0,  1,  0,  1,  1,  0,  1,  1, -1],\n",
       "        device='cuda:3'),\n",
       " tensor([ 1,  0,  0,  0,  1,  1,  0,  1,  1,  1,  1,  0,  1,  0,  1,  1,  0,  1,\n",
       "          1,  0,  1,  1,  1,  0,  1,  1,  0,  1,  0,  1,  0,  1,  1,  1,  1,  0,\n",
       "          0,  1,  0,  1,  0,  1,  1,  1,  1, -1], device='cuda:3'),\n",
       " tensor([ 1,  0,  1,  1,  1,  0,  1,  0,  1,  1,  0,  1,  1,  1,  0,  1,  1,  0,\n",
       "          1,  1,  0,  1,  1,  1,  0,  1,  1,  1,  1,  1,  1,  1,  1, -1],\n",
       "        device='cuda:3'),\n",
       " tensor([ 1,  0,  0,  0,  1,  1,  0,  1,  1,  0,  1,  0,  1,  0,  1,  1,  0,  1,\n",
       "          0,  1,  0,  1,  0,  1,  1,  0,  1,  1,  1,  1,  0,  1,  0,  1,  1,  0,\n",
       "          1,  0,  1,  0,  1,  1,  1,  0,  0,  1, -1], device='cuda:3'),\n",
       " tensor([ 1,  0,  1,  0,  1,  1,  1,  0,  1,  0,  1,  0,  1,  1,  1,  0,  1,  0,\n",
       "          1,  1,  0,  1,  1,  1,  0,  1,  1,  0,  1,  0,  1,  0,  1,  1,  0,  1,\n",
       "          1,  0,  1,  0,  1,  0,  1, -1], device='cuda:3'),\n",
       " tensor([ 1,  0,  1,  0,  1,  1,  0,  1,  0,  1,  0,  1,  1,  0,  0,  0,  1,  1,\n",
       "          1,  1,  0,  1,  1,  0,  1,  1,  0,  1,  0,  1,  0,  1, -1],\n",
       "        device='cuda:3'),\n",
       " tensor([ 1,  0,  1,  1,  0,  1,  0,  1,  1,  0,  1,  1,  0,  1,  0,  1,  1,  0,\n",
       "          1, -1], device='cuda:3'),\n",
       " tensor([ 1,  0,  0,  0,  1,  1,  1,  1,  1,  0,  1,  0,  1,  0,  1,  1,  1,  1,\n",
       "          0,  1,  1,  1,  0,  1,  1,  1,  0,  1,  0,  1,  0,  1,  0,  1,  1,  0,\n",
       "          1,  0,  1,  1,  1,  1,  1,  1,  0,  1,  0,  1,  1,  0,  1,  0,  1,  1,\n",
       "          1, -1], device='cuda:3'),\n",
       " tensor([ 1,  0,  1,  0,  1,  0,  1,  1,  1,  1,  1,  1,  0,  1,  0,  1,  1,  0,\n",
       "          1,  1,  1,  0,  1,  0,  1,  1,  1,  0,  0,  0,  1,  1,  0,  1,  1,  1,\n",
       "          1,  1,  1,  0,  1, -1], device='cuda:3'),\n",
       " tensor([ 1,  1,  1,  0,  1,  1,  1,  1,  0,  1,  0,  1,  0,  0,  0,  1,  1,  0,\n",
       "          1,  1,  1,  1,  0,  1,  0,  1,  0,  1, -1], device='cuda:3'),\n",
       " tensor([ 1,  0,  1,  0,  1,  0,  1,  1,  0,  1,  0,  1,  1,  1,  1,  1,  0,  1,\n",
       "          0,  1,  0,  1,  1,  0,  1,  0,  1,  1,  1,  0,  1,  1,  0,  1,  1,  1,\n",
       "          0,  1,  0,  1,  1,  0,  1,  1,  1,  0,  1,  0,  1,  1,  1,  1,  1,  0,\n",
       "          1,  1,  0,  1,  1,  1,  1,  0,  1,  0,  1,  1,  0,  1,  0,  1, -1],\n",
       "        device='cuda:3'),\n",
       " tensor([ 1,  1,  1,  0,  1,  1,  0,  1,  0,  0,  1,  1,  1,  0,  1,  0,  1,  1,\n",
       "          1,  0,  1,  1,  0,  1,  0,  1,  0,  1,  1,  0,  0,  1,  1,  0,  1,  0,\n",
       "          1, -1], device='cuda:3'),\n",
       " tensor([ 1,  0,  1,  1,  0,  1,  1,  0,  1,  1,  1,  1,  0,  1,  1,  0,  1,  1,\n",
       "          0,  1,  1,  0,  1, -1], device='cuda:3'),\n",
       " tensor([ 1,  0,  1,  0,  1,  0,  1,  0,  1,  1,  0,  1,  1,  1,  0,  1,  0,  1,\n",
       "          1,  0,  1,  1,  1,  0,  1,  1,  1,  1,  1,  0,  1,  0,  1,  1,  0,  1,\n",
       "          1,  1,  0,  1,  0,  1,  1,  0,  1,  0,  1,  0,  1,  0,  1,  1,  1,  1,\n",
       "          1,  1,  0,  1,  1, -1], device='cuda:3'),\n",
       " tensor([ 1,  1,  1,  0,  0,  0,  1,  1,  0,  1,  0,  1,  1,  1,  0,  0,  0,  1,\n",
       "          1,  0,  1,  0,  1,  0,  1,  1,  1,  1,  1,  0,  1,  1,  0,  1, -1],\n",
       "        device='cuda:3'),\n",
       " tensor([ 1,  1,  1,  1,  0,  1,  1,  0,  1,  1,  0,  1,  0,  1,  1,  0,  1,  0,\n",
       "          1,  0,  1,  1,  0,  1,  1,  0,  1, -1], device='cuda:3'),\n",
       " tensor([ 1,  1,  1,  0,  1,  0,  1,  0,  1,  0,  1,  1,  0,  1,  1,  0,  1,  0,\n",
       "          1,  0,  1,  1,  0,  1, -1], device='cuda:3'),\n",
       " tensor([ 1,  1,  0,  1,  0,  1,  1,  1,  0,  1,  1,  0,  1,  1,  1,  0,  1,  1,\n",
       "          0,  1,  1,  0,  1,  0,  1,  0,  1,  1,  0,  1,  1,  1,  1,  0,  1,  0,\n",
       "          1,  1,  1,  1,  0,  1,  0,  1,  1,  0,  1,  0,  1,  0,  1, -1],\n",
       "        device='cuda:3'),\n",
       " tensor([ 1,  0,  0,  1,  1,  1,  0,  1,  1,  0,  1,  0,  1,  0,  1,  1,  1,  1,\n",
       "          1,  0,  1,  1,  0,  1, -1], device='cuda:3'),\n",
       " tensor([ 1,  1,  0,  0,  1,  0,  1,  1,  0,  0,  1,  1,  0,  0,  1,  1,  1,  0,\n",
       "          1,  1,  0,  1,  1,  0,  0,  1,  1,  0,  0,  1,  1,  1, -1],\n",
       "        device='cuda:3'),\n",
       " tensor([ 1,  0,  1,  0,  1,  0,  1,  1,  0,  0,  0,  1,  1,  1,  0,  1,  1,  0,\n",
       "          0,  0,  1,  0,  0,  1,  0,  1,  0,  1, -1], device='cuda:3'),\n",
       " tensor([ 1,  0,  1,  1,  1,  1,  0,  1,  1,  0,  1,  1,  0,  0,  1,  1,  1,  0,\n",
       "          1,  1,  1,  1,  1,  0,  1,  0,  0,  1,  1,  1,  0,  1,  1,  0,  1,  1,\n",
       "          0,  0,  1,  1,  1,  0,  1,  0,  1, -1], device='cuda:3'),\n",
       " tensor([ 1,  0,  0,  0,  1,  1,  1,  0,  0,  0,  1,  1,  1,  1,  0,  1,  0,  0,\n",
       "          1,  0,  1,  1,  0,  1,  1,  0,  1, -1], device='cuda:3'),\n",
       " tensor([ 1,  0,  0,  0,  1,  1,  0,  1,  1,  0,  1,  0,  1,  1,  1,  1,  0,  1,\n",
       "          1,  0,  1,  0,  1,  1,  0,  1,  0,  1,  1,  1,  1,  0,  1,  0,  1,  0,\n",
       "          1,  1,  0,  1, -1], device='cuda:3'),\n",
       " tensor([ 1,  0,  1,  0,  1,  0,  1,  1,  1,  0,  0,  1,  1,  1,  0,  1,  1,  0,\n",
       "          1,  1,  1,  1,  0,  1,  1,  0,  1,  0,  1,  1,  0,  0,  1,  1,  0,  1,\n",
       "          0,  1,  1,  1,  0,  1,  1,  0,  1,  1,  1,  0,  0,  0,  1,  1,  0,  1,\n",
       "          1,  0,  1,  1,  0,  1,  0,  0,  0,  0,  1,  0,  1,  0,  1,  1,  0,  1,\n",
       "         -1], device='cuda:3'),\n",
       " tensor([ 1,  0,  0,  0,  1,  0,  1,  0,  0,  1,  1,  0,  1,  1,  1,  0,  1,  1,\n",
       "          1, -1], device='cuda:3'),\n",
       " tensor([ 1,  0,  1,  0,  1,  0,  0,  1,  1,  0,  1,  0,  1,  1,  0,  1,  1,  0,\n",
       "          1,  1,  0,  0,  0,  1,  1,  0,  0,  0,  0,  1,  0,  1,  0,  1,  0,  1,\n",
       "          0,  1,  0,  1,  1,  0,  1,  1,  1,  1,  1,  1,  1,  0,  1, -1],\n",
       "        device='cuda:3'),\n",
       " tensor([ 1,  1,  1,  0,  1,  1,  0,  1,  1,  1,  1,  0,  1,  1,  0,  1,  0,  1,\n",
       "          1,  0,  1,  0,  1,  0,  1, -1], device='cuda:3'),\n",
       " tensor([ 1,  1,  0,  1,  1,  1,  1,  1,  1,  0,  1,  1,  1,  0,  1,  0,  1,  0,\n",
       "          1,  0,  1,  1,  1,  1,  0,  1,  1,  0,  1,  1,  1,  1,  0,  1,  1,  0,\n",
       "          1,  1,  0,  1,  0,  1,  1,  0,  1,  1,  0,  1,  0,  1,  0,  1,  0,  1,\n",
       "         -1], device='cuda:3'),\n",
       " tensor([ 1,  0,  1,  0,  0,  1,  1,  1,  1,  0,  1,  1,  1, -1],\n",
       "        device='cuda:3'),\n",
       " tensor([ 1,  0,  0,  1,  0,  1,  1,  0,  1,  1,  0,  0,  0,  1,  1,  0,  1,  0,\n",
       "          1,  1,  0,  0,  0,  1,  1,  0,  1,  0,  1,  0,  1, -1],\n",
       "        device='cuda:3'),\n",
       " tensor([ 1,  0,  0,  0,  1,  1,  1,  0,  0,  1,  1,  0,  1,  0,  1,  1,  0,  1,\n",
       "          0,  1,  1,  1,  1,  0,  1,  0,  1,  1,  0,  1, -1], device='cuda:3'),\n",
       " tensor([ 1,  1,  0,  1,  1,  0,  1,  0,  1,  0,  1,  1,  0,  1,  0,  1,  0,  1,\n",
       "          0,  1, -1], device='cuda:3'),\n",
       " tensor([ 1,  0,  1,  1,  0,  1,  1,  0,  1,  0,  1,  0,  0,  1, -1],\n",
       "        device='cuda:3'),\n",
       " tensor([ 1,  0,  1,  1,  0,  1,  1,  0,  1,  1,  1,  0,  0,  1,  0,  1,  0,  1,\n",
       "          0,  1,  1,  0,  0,  0,  1,  1,  0,  1, -1], device='cuda:3'),\n",
       " tensor([ 1,  0,  1,  1,  0,  1,  0,  1,  1,  0,  1,  0,  1,  1,  1,  0,  1,  0,\n",
       "          1,  1,  0,  1,  0,  1,  1,  1,  1,  0,  1,  0,  1,  1,  0,  1,  1,  1,\n",
       "          0,  1,  1,  0,  1,  1,  1,  0,  1,  1,  0,  1,  1, -1],\n",
       "        device='cuda:3'),\n",
       " tensor([ 1,  1,  1,  1,  1,  1,  1,  1,  1,  1,  0,  1,  0,  1,  0,  1,  1,  1,\n",
       "          1, -1], device='cuda:3'),\n",
       " tensor([ 1,  0,  0,  0,  1,  1,  1,  1,  0,  1,  1,  1,  0,  1,  0,  1,  1,  0,\n",
       "          1,  1,  1,  0,  1,  0,  1,  0,  1,  1,  0,  1,  0,  1,  1,  1,  1, -1],\n",
       "        device='cuda:3'),\n",
       " tensor([ 1,  1,  1,  1,  0,  0,  0,  1,  0,  1,  1,  0,  1,  1,  0,  1,  0,  1,\n",
       "          1,  0,  1,  0,  1,  0,  1,  1,  0,  1,  0,  1,  0,  1,  1,  0,  1,  0,\n",
       "          1,  0,  1,  1,  1,  0,  1,  0,  1, -1], device='cuda:3'),\n",
       " tensor([ 1,  0,  1,  1,  1,  0,  1,  1,  0,  1,  0,  1,  0,  1,  0,  1,  0,  1,\n",
       "          0,  1, -1], device='cuda:3'),\n",
       " tensor([ 1,  0,  0,  0,  1,  1,  1,  1,  0,  0,  1,  1,  1,  0,  1,  1,  0,  0,\n",
       "          0,  1,  0,  0,  1,  0,  0,  1,  1,  0,  1,  0,  1,  1,  0,  1,  1,  0,\n",
       "          1, -1], device='cuda:3'),\n",
       " tensor([ 1,  0,  1,  1,  0,  1,  0,  1,  1,  1,  1,  1,  0,  1,  1,  1,  0,  1,\n",
       "          0,  1,  1,  1,  1,  1,  1,  1,  0,  1,  1,  0,  1,  1,  0,  1,  1,  0,\n",
       "          1,  1,  0,  1,  1,  0,  1, -1], device='cuda:3'),\n",
       " tensor([ 1,  0,  0,  1,  1,  0,  1,  1,  1,  0,  1,  0,  1,  0,  1,  1,  0,  1,\n",
       "          1,  1,  0,  1,  1,  1,  0,  1,  0,  1,  0,  1,  1,  1,  0,  1, -1],\n",
       "        device='cuda:3'),\n",
       " tensor([ 1,  0,  1,  1,  0,  1,  0,  1,  0,  1,  0,  1,  1,  0,  1,  1,  0,  1,\n",
       "          0,  1,  1,  0,  1,  1,  0,  1,  1,  0,  0,  0,  1,  1,  0,  1,  1,  0,\n",
       "          1,  1,  0,  1,  1,  1, -1], device='cuda:3'),\n",
       " tensor([ 1,  0,  0,  1,  1,  1,  0,  0,  0,  0,  0,  0,  1,  0,  0,  0,  0,  0,\n",
       "          0,  0,  1,  1,  1,  1,  0,  0,  0,  0,  1,  0,  1,  1,  1,  0,  0,  0,\n",
       "          0,  1,  1,  1,  1,  0,  1,  1,  0,  1,  0,  0,  0,  0,  1,  0,  0,  0,\n",
       "          1,  1,  0,  0,  0,  0,  1,  0,  0,  0,  1,  1,  1,  0,  0,  0,  1,  1,\n",
       "          0,  1,  0,  0,  0,  0,  0,  0,  1,  1,  0,  1,  0,  1,  1,  1,  0,  0,\n",
       "          0,  1,  0,  0,  0,  1,  1,  1,  1,  0,  0,  0,  1,  0,  0,  0,  0,  0,\n",
       "          0,  1,  1,  1, -1], device='cuda:3'),\n",
       " tensor([ 1,  0,  1,  0,  1,  0,  1,  1,  1,  0,  0,  0,  0,  0,  1,  0,  0,  0,\n",
       "          0,  0,  0,  0,  1, -1], device='cuda:3'),\n",
       " tensor([ 1,  0,  0,  0,  0,  0,  1,  1,  0,  1,  1,  1,  0,  1,  1,  1,  1,  0,\n",
       "          1,  1,  1,  0,  1,  1,  0,  1,  1,  0,  1,  1,  0,  0,  1,  1,  0,  0,\n",
       "          1,  1,  0,  0,  1,  1,  0,  1,  1,  0,  0,  0,  1,  1,  0,  1,  1,  0,\n",
       "          1,  1,  0,  0,  1,  1,  0,  0,  1,  1,  0,  1,  1,  0,  0,  1,  1,  0,\n",
       "          1,  1,  0,  1,  1,  0,  0,  1,  1,  0,  1,  1,  0,  1,  1,  0,  0,  1,\n",
       "          1,  0,  1,  1,  1,  1,  1,  0,  1,  1, -1], device='cuda:3'),\n",
       " tensor([ 1,  0,  1,  1,  0,  0,  0,  1,  1,  0,  1,  1,  0,  1,  1,  0,  0,  1,\n",
       "          1, -1], device='cuda:3'),\n",
       " tensor([ 1,  1,  0,  1,  1,  0,  1,  0,  1,  0,  0,  0,  1,  1,  0,  0,  0,  1,\n",
       "          1,  1,  1,  0,  1,  0,  1, -1], device='cuda:3'),\n",
       " tensor([ 1,  1,  1,  1,  0,  1,  0,  0,  1,  1,  0,  0,  0,  1,  1,  0,  0,  0,\n",
       "          1,  1,  1,  1,  0,  1,  1,  1,  1,  0,  1,  0,  1,  1,  1,  0,  0,  1,\n",
       "          1,  0,  0,  1,  1,  0,  0,  1, -1], device='cuda:3'),\n",
       " tensor([ 1,  0,  1,  0,  1,  1,  1,  0,  1,  0,  1,  0,  1,  0,  1,  0,  1,  1,\n",
       "          0,  1,  1,  0,  1,  1,  0,  1,  0,  1,  1,  0,  1,  1,  0,  1,  0,  1,\n",
       "          0,  1,  0,  1,  1,  0,  1,  0,  1,  1,  0,  1,  1, -1],\n",
       "        device='cuda:3'),\n",
       " tensor([ 1,  0,  1,  0,  1,  0,  1,  1,  0,  0,  0,  1,  1,  1,  0,  1,  1,  1,\n",
       "          1,  0,  1,  0,  1,  0,  1,  0,  0,  1,  1,  1,  0,  0,  1,  1,  0,  1,\n",
       "          1,  0,  1,  0,  1,  0,  1, -1], device='cuda:3'),\n",
       " tensor([ 1,  1,  0,  1,  1,  0,  1,  0,  1,  1,  0,  1,  1,  0,  1,  1,  1,  0,\n",
       "          1,  0,  1,  0,  1,  1,  0,  1,  0,  1,  0,  1,  1,  0,  1,  0,  1,  0,\n",
       "          1,  0,  1,  1,  0,  1,  0,  1,  1,  1,  0,  1,  1,  0,  1,  0,  1,  1,\n",
       "          1,  0,  1,  1,  0,  1,  0,  1, -1], device='cuda:3'),\n",
       " tensor([ 1,  0,  1,  1,  0,  1,  0,  1,  0,  1,  1,  0,  1, -1],\n",
       "        device='cuda:3'),\n",
       " tensor([ 1,  0,  1,  1,  0,  1,  1,  0,  0,  1,  0,  1,  1,  0,  0,  0,  1,  0,\n",
       "          1,  1,  1,  0,  1,  1,  0,  1,  1,  1,  0,  0,  1,  0,  1, -1],\n",
       "        device='cuda:3'),\n",
       " tensor([ 1,  0,  1,  1,  1,  0,  1,  0,  1,  1,  0,  1,  1,  0,  1,  1,  1,  1,\n",
       "          1,  1,  1,  1,  0,  1,  1,  0,  1,  1,  0,  1,  1,  0,  1, -1],\n",
       "        device='cuda:3'),\n",
       " tensor([ 1,  1,  0,  1,  1,  1,  0,  0,  0,  0,  1,  0,  1, -1],\n",
       "        device='cuda:3'),\n",
       " tensor([ 1,  0,  1,  0,  1,  1,  1,  1,  1,  1,  1,  1,  1,  1,  0,  1,  1,  0,\n",
       "          1,  1,  1,  0,  1,  0,  1,  0,  1,  1,  1,  0,  1, -1],\n",
       "        device='cuda:3'),\n",
       " tensor([ 1,  0,  1,  1,  1,  0,  1,  0,  1,  1,  1,  1,  1,  1,  0,  1,  1,  1,\n",
       "         -1], device='cuda:3'),\n",
       " tensor([ 1,  0,  0,  0,  1,  1,  0,  1,  1,  0,  1,  0,  1,  0,  0,  0,  0,  1,\n",
       "          0,  1,  0,  1,  1,  1,  0,  1,  0,  1,  0,  1, -1], device='cuda:3'),\n",
       " tensor([ 1,  0,  0,  0,  1,  1,  0,  0,  0,  1,  0,  1,  0,  1,  0,  1,  0,  1,\n",
       "          0,  1,  0,  1,  1,  0,  1,  0,  1,  0,  1,  1,  0,  0,  0,  1,  0,  1,\n",
       "          1,  1,  1,  0,  1,  0,  1,  1,  1,  0,  0,  0,  1,  1,  1,  1,  0,  1,\n",
       "          0,  1,  0,  1,  1,  0,  1,  1,  1,  1,  0,  1,  0,  1,  1,  1,  1,  0,\n",
       "          0,  0,  1,  1,  1,  1,  1,  0,  0,  1,  0,  1,  0,  1,  1,  0,  1,  0,\n",
       "          0,  0,  1,  0,  1,  0,  1,  1,  0,  1, -1], device='cuda:3'),\n",
       " tensor([ 1,  0,  1,  0,  1,  1,  1,  0,  1,  1,  1,  1,  1,  1,  1,  1,  0,  1,\n",
       "          1,  1,  0,  1, -1], device='cuda:3'),\n",
       " tensor([ 1,  0,  1,  1,  0,  1,  0,  1,  1,  0,  1,  0,  1,  1,  0,  1,  0,  1,\n",
       "          1,  0,  1,  0,  1,  1,  1,  0,  1,  1,  1,  0,  1,  1,  1,  1,  0,  1,\n",
       "          0,  1,  1,  1,  1,  0,  1,  0,  1,  1, -1], device='cuda:3'),\n",
       " tensor([ 1,  1,  1,  0,  1,  1,  1,  1,  0,  1,  1,  0,  1,  1,  0,  1,  1,  0,\n",
       "          1,  0,  1,  1,  0,  1,  1,  0,  1, -1], device='cuda:3'),\n",
       " tensor([ 1,  0,  1,  1,  1,  0,  1,  0,  1,  0,  1,  1,  1,  1,  0,  1,  0,  1,\n",
       "          1,  0,  1,  1,  0,  1,  1,  1, -1], device='cuda:3'),\n",
       " tensor([ 1,  1,  1,  1,  0,  1,  0,  1,  1,  0,  1,  1,  0,  1,  0,  1,  0,  1,\n",
       "          0,  1,  1,  1,  1,  1,  0,  1,  0,  1, -1], device='cuda:3'),\n",
       " tensor([ 1,  1,  1,  0,  1,  1,  1,  0,  1,  0,  1,  1,  0,  1,  0,  1,  0,  1,\n",
       "          1,  0,  1,  1,  1,  1,  1,  0,  1,  0,  1,  0,  1,  1,  0,  1, -1],\n",
       "        device='cuda:3'),\n",
       " tensor([ 1,  0,  1,  1,  0,  1,  1,  0,  1,  0,  1,  1,  0,  1,  0,  1,  0,  1,\n",
       "          1,  1,  0,  1,  1,  0,  1,  1,  0,  1,  0,  1,  0,  1,  0,  1,  0,  0,\n",
       "          1,  0,  1,  1,  0,  1,  0,  1,  1,  0,  1,  0,  1,  1,  0,  1,  0,  1,\n",
       "          1,  0,  1,  0,  1,  0,  1,  1,  0,  1, -1], device='cuda:3'),\n",
       " tensor([ 1,  0,  1,  1,  1,  1,  1,  0,  1,  0,  1,  0,  1,  1,  0,  1,  1,  0,\n",
       "          1,  1,  1,  1,  1,  0,  1,  1,  1,  0,  1,  0,  1,  0,  1,  1,  0,  1,\n",
       "          1,  1,  1,  0,  1,  0,  1,  1,  0,  1,  1,  1,  0,  1,  0,  1,  0,  1,\n",
       "          1, -1], device='cuda:3'),\n",
       " tensor([ 1,  0,  1,  1,  1,  1,  1,  1,  0,  1,  1,  0,  1,  0,  1,  0,  1,  0,\n",
       "          1,  1,  0,  1,  0,  1,  1,  1,  0,  1,  1,  1,  1,  0,  1,  1,  0,  1,\n",
       "          0,  1,  1,  1,  1,  1,  0,  1,  0,  1,  1,  1,  0,  1, -1],\n",
       "        device='cuda:3'),\n",
       " tensor([ 1,  0,  0,  0,  1,  1,  1,  1,  0,  1,  1,  1,  1,  1,  0,  1,  1,  0,\n",
       "          0,  1,  0,  1,  1,  0,  1,  0,  1,  0,  1,  0,  1,  1,  1,  1,  0,  1,\n",
       "          0,  1,  1,  1,  1, -1], device='cuda:3'),\n",
       " tensor([ 1,  0,  1,  0,  1,  1,  0,  1,  1,  1,  1,  1,  1,  1,  0,  1,  1,  0,\n",
       "          1,  1,  0,  0,  0,  1,  1, -1], device='cuda:3'),\n",
       " tensor([ 1,  0,  1,  1,  1,  0,  1,  1,  0,  1,  1,  0,  0,  1,  1,  0,  1,  1,\n",
       "         -1], device='cuda:3'),\n",
       " tensor([ 1,  1,  0,  1,  1,  1,  0,  1,  0,  1,  1,  0,  1,  0,  1,  0,  1,  0,\n",
       "          1,  0,  1,  1,  0,  1,  0,  1,  1,  0,  1, -1], device='cuda:3'),\n",
       " tensor([ 1,  0,  1,  0,  1,  1,  0,  1,  1,  1,  0,  1,  0,  1,  0,  1,  0,  1,\n",
       "          0,  1,  1,  0,  1,  0,  1,  1,  1,  0,  1, -1], device='cuda:3'),\n",
       " tensor([ 1,  0,  1,  0,  1,  1,  0,  1,  0,  1,  1,  0,  1,  1,  0,  1,  1,  0,\n",
       "          1,  1,  0,  1,  1,  1,  0,  1,  1,  0,  1,  0,  1,  0,  1,  1,  0,  1,\n",
       "         -1], device='cuda:3'),\n",
       " tensor([ 1,  0,  1,  1,  0,  1,  1,  0,  1,  1,  1,  0,  1,  1,  1,  0,  1,  0,\n",
       "          1,  1,  0,  1,  0,  1,  0,  1,  0,  1,  1,  0,  1,  0,  1,  0,  1,  1,\n",
       "          0,  1,  1,  1,  0,  1,  0,  1,  1,  0,  1,  0,  1,  1,  0,  1, -1],\n",
       "        device='cuda:3'),\n",
       " tensor([ 1,  1,  1,  0,  1,  1,  0,  1,  1,  1,  1,  0,  1,  1,  0,  1,  0,  1,\n",
       "          1,  0,  1, -1], device='cuda:3'),\n",
       " tensor([ 1,  0,  1,  0,  1,  0,  1,  0,  1,  0,  1,  0,  1,  1,  0,  1,  1,  0,\n",
       "          1,  1,  0,  1,  1,  0,  1,  0,  0,  1,  0,  1,  1,  0,  1, -1],\n",
       "        device='cuda:3'),\n",
       " tensor([ 1,  0,  1,  0,  1,  0,  1,  1,  0,  1,  1,  0,  1,  1,  0,  1,  1,  1,\n",
       "          1,  1,  1,  0,  1,  0,  1, -1], device='cuda:3'),\n",
       " tensor([ 1,  0,  0,  0,  1,  1,  1,  0,  1,  0,  1,  0,  1,  1,  1,  1,  0,  1,\n",
       "          0,  1,  1,  0,  1,  1,  0,  1, -1], device='cuda:3'),\n",
       " tensor([ 1,  0,  1,  1,  1,  0,  1,  0,  1,  1,  1,  0,  1,  0,  1,  1,  0,  1,\n",
       "          0,  1,  0,  1,  0,  1,  1,  0,  1,  0,  1,  1,  0,  1,  0,  1,  0,  1,\n",
       "          1,  0,  1,  0,  1,  1,  0,  1,  1,  1, -1], device='cuda:3'),\n",
       " tensor([ 1,  0,  0,  1,  0,  1,  1,  0,  1,  0,  0,  1,  1,  1,  0,  1,  0,  1,\n",
       "          1,  0,  1,  0,  1,  1,  0,  1,  1,  1,  0,  1,  0,  1,  0,  1,  1,  0,\n",
       "          1,  0,  1,  0,  1,  0,  1,  0,  1,  1,  0,  1,  1,  1,  0,  1,  0,  1,\n",
       "          1,  0,  1,  0,  1,  1,  0,  1,  1,  0,  1,  1,  0,  1,  1,  1,  1,  1,\n",
       "          0,  1,  1,  0,  1,  1,  1,  0,  1,  0,  1,  0,  1,  0,  1,  1,  0,  1,\n",
       "          0,  1,  1,  0,  1,  0,  1,  1,  0,  1,  0,  1, -1], device='cuda:3'),\n",
       " tensor([ 1,  1,  1,  0,  1,  1,  0,  1,  1,  1,  0,  1,  0,  1,  0,  1,  0,  1,\n",
       "          1,  0,  1,  1,  1,  0,  1,  0,  1,  1,  0,  1,  0,  1,  1,  0,  1,  0,\n",
       "          1,  0,  1,  1,  0,  1,  0,  1,  0,  1,  0,  1,  0,  1, -1],\n",
       "        device='cuda:3'),\n",
       " tensor([ 1,  0,  1,  1,  1,  0,  1,  1,  0,  1,  0,  1,  0,  1,  1,  1,  0,  1,\n",
       "          0,  1,  1,  0,  1, -1], device='cuda:3'),\n",
       " tensor([ 1,  0,  0,  0,  1,  0,  1,  1,  0,  1,  0,  1,  1,  0,  1,  0,  1,  1,\n",
       "          1,  0,  1,  1,  1,  0,  1,  0,  1,  1,  1,  1,  1,  1,  0,  1,  0,  1,\n",
       "         -1], device='cuda:3'),\n",
       " tensor([ 1,  0,  1,  0,  1,  0,  1,  1,  0,  1,  1,  0,  0,  0,  1,  0,  1,  1,\n",
       "          1,  0,  1,  0,  1,  0,  1,  1,  0,  0,  0,  1,  0,  1,  1,  0,  1,  0,\n",
       "          1,  1,  0,  1,  1,  1,  0,  1,  1,  0,  0,  0,  1,  0,  1,  0,  1,  1,\n",
       "          0,  1,  0,  1,  1,  0,  1,  0,  1,  0,  1,  0,  1,  0,  1,  0,  1,  0,\n",
       "          1,  0,  1,  0,  1,  0,  1, -1], device='cuda:3'),\n",
       " tensor([ 1,  0,  1,  1,  0,  1,  0,  1,  1,  0,  0,  1,  0,  1,  1,  0,  0,  0,\n",
       "          1,  0,  1,  0,  1,  0,  1,  1,  0,  1,  0,  1,  1,  1,  1,  1,  0,  1,\n",
       "          1,  1,  0,  1,  1, -1], device='cuda:3'),\n",
       " tensor([ 1,  1,  1,  1,  1,  1,  0,  1,  0,  1,  1,  0,  1,  1,  1,  1,  0,  1,\n",
       "          0,  1, -1], device='cuda:3'),\n",
       " tensor([ 1,  0,  1,  0,  1,  1,  0,  0,  0,  0,  0,  1,  0,  0,  0,  1,  0,  0,\n",
       "          0,  0,  0,  0,  1,  1,  1,  1,  0,  1,  0,  1,  1,  1,  0,  1,  0,  1,\n",
       "          0,  1,  1,  1,  1,  0,  1, -1], device='cuda:3')]"
      ]
     },
     "execution_count": 48,
     "metadata": {},
     "output_type": "execute_result"
    }
   ],
   "source": [
    "collecty"
   ]
  },
  {
   "cell_type": "code",
   "execution_count": 49,
   "metadata": {},
   "outputs": [],
   "source": [
    "allpreds = torch.cat(collectpreds)"
   ]
  },
  {
   "cell_type": "code",
   "execution_count": 254,
   "metadata": {},
   "outputs": [
    {
     "data": {
      "text/plain": [
       "torch.Size([21713])"
      ]
     },
     "execution_count": 254,
     "metadata": {},
     "output_type": "execute_result"
    }
   ],
   "source": [
    "allpreds.size()"
   ]
  },
  {
   "cell_type": "code",
   "execution_count": 50,
   "metadata": {},
   "outputs": [],
   "source": [
    "classes = torch.cat(collecty)"
   ]
  },
  {
   "cell_type": "code",
   "execution_count": 51,
   "metadata": {},
   "outputs": [
    {
     "data": {
      "text/plain": [
       "(tensor([1, 0, 1,  ..., 0, 1, 1], device='cuda:3'),\n",
       " tensor([ 1,  0,  1,  ...,  0,  1, -1], device='cuda:3'))"
      ]
     },
     "execution_count": 51,
     "metadata": {},
     "output_type": "execute_result"
    }
   ],
   "source": [
    "allpreds, classes"
   ]
  },
  {
   "cell_type": "code",
   "execution_count": 52,
   "metadata": {},
   "outputs": [
    {
     "data": {
      "text/plain": [
       "torch.Size([19707])"
      ]
     },
     "execution_count": 52,
     "metadata": {},
     "output_type": "execute_result"
    }
   ],
   "source": [
    "classes.size()"
   ]
  },
  {
   "cell_type": "code",
   "execution_count": 53,
   "metadata": {},
   "outputs": [],
   "source": [
    "classes = classes.float()\n",
    "allpreds = allpreds.float()"
   ]
  },
  {
   "cell_type": "code",
   "execution_count": 54,
   "metadata": {},
   "outputs": [
    {
     "data": {
      "text/plain": [
       "(tensor(10900., device='cuda:3'),\n",
       " tensor(611., device='cuda:3'),\n",
       " tensor(6486., device='cuda:3'),\n",
       " tensor(708., device='cuda:3'))"
      ]
     },
     "execution_count": 54,
     "metadata": {},
     "output_type": "execute_result"
    }
   ],
   "source": [
    "tp = sum(classes * allpreds)\n",
    "fp = sum(classes * (~allpreds.bool()).float())\n",
    "tn = sum((~classes.bool()).float() * (~allpreds.bool()).float())\n",
    "fn = sum((~classes.bool()).float() * allpreds)\n",
    "\n",
    "tp, fp, tn, fn"
   ]
  },
  {
   "cell_type": "code",
   "execution_count": 55,
   "metadata": {},
   "outputs": [
    {
     "data": {
      "text/plain": [
       "tensor(0.9295, device='cuda:3')"
      ]
     },
     "execution_count": 55,
     "metadata": {},
     "output_type": "execute_result"
    }
   ],
   "source": [
    "accuracy = (tp + tn) / (tp + fp + tn + fn)\n",
    "accuracy"
   ]
  },
  {
   "cell_type": "code",
   "execution_count": 56,
   "metadata": {},
   "outputs": [
    {
     "data": {
      "text/plain": [
       "tensor(0.9390, device='cuda:3')"
      ]
     },
     "execution_count": 56,
     "metadata": {},
     "output_type": "execute_result"
    }
   ],
   "source": [
    "recall = tp / (tp + fn)\n",
    "recall"
   ]
  },
  {
   "cell_type": "code",
   "execution_count": 57,
   "metadata": {},
   "outputs": [
    {
     "data": {
      "text/plain": [
       "tensor(0.9469, device='cuda:3')"
      ]
     },
     "execution_count": 57,
     "metadata": {},
     "output_type": "execute_result"
    }
   ],
   "source": [
    "precision = tp / (tp + fp)\n",
    "precision"
   ]
  },
  {
   "cell_type": "code",
   "execution_count": 58,
   "metadata": {},
   "outputs": [
    {
     "data": {
      "text/plain": [
       "tensor(0.9429, device='cuda:3')"
      ]
     },
     "execution_count": 58,
     "metadata": {},
     "output_type": "execute_result"
    }
   ],
   "source": [
    "f1 = (2 * recall * precision) / (recall + precision)\n",
    "f1"
   ]
  },
  {
   "cell_type": "markdown",
   "metadata": {},
   "source": [
    "## Model2 part 1\n",
    " Sentence generation (15 points).\n",
    "Convert the model in Demo 2.1 into a character-based sentence generator. (Strip out the word segmentation objective.) The model should, given a start symbol, produce a variety of sentences that terminate with a stop symbol (you will have to add these to the data). The sentences that it generates should be of reasonable average length compared to the sentences in the training corpus (this needn't be precise)."
   ]
  },
  {
   "cell_type": "code",
   "execution_count": 89,
   "metadata": {},
   "outputs": [],
   "source": [
    "class Segmenter1(nn.Module):\n",
    "    def __init__(self, vocab_size, emb_size):\n",
    "        super().__init__()\n",
    "        \n",
    "        self.vocab_size = vocab_size\n",
    "        self.emb_size = emb_size\n",
    "        \n",
    "        self.emb = nn.Embedding(self.vocab_size, self.emb_size, 0)\n",
    "        self.lstm = nn.LSTM(self.emb_size, 150, batch_first=True)\n",
    "        #adding so many zeroes in the out put\n",
    "        self.sig1 = nn.Sigmoid()\n",
    "        #torch.nn.Linear(in_features, out_features, bias=True, device=None, dtype=None)\n",
    "        #here I need change the out_features to vocab size ,to get probability for each character of the vocab. \n",
    "        self.lin = nn.Linear(150, self.vocab_size)\n",
    "        self.softmax = nn.LogSoftmax(2)\n",
    "        \n",
    "    def forward(self, x, lengths):\n",
    "        embs = self.emb(x)\n",
    "        packed = pack_padded_sequence(embs, lengths.to(\"cpu\"), batch_first=True, enforce_sorted=False)\n",
    "        output1, _ = self.lstm(packed)\n",
    "        unpacked, _ = pad_packed_sequence(output1, batch_first=True)\n",
    "        output2 = self.sig1(unpacked)\n",
    "        output3 = self.lin(output2)\n",
    "        return self.softmax(output3)\n",
    "        "
   ]
  },
  {
   "cell_type": "code",
   "execution_count": 91,
   "metadata": {},
   "outputs": [],
   "source": [
    "def train1(X, lengths, y, vocab_size, emb_size, batch_size, epochs, device, model=None):\n",
    "    b = Batcher(X, lengths, y, device, batch_size=batch_size, max_iter=epochs)\n",
    "    if not model:\n",
    "        m = Segmenter1(vocab_size, emb_size).to(device)\n",
    "    else:\n",
    "        m = model\n",
    "    loss = nn.NLLLoss(ignore_index=-1)\n",
    "    optimizer = optim.Adam(m.parameters(), lr=0.005)\n",
    "    epoch = 0\n",
    "    \n",
    "    \n",
    "    for split in b:\n",
    "        tot_loss = 0\n",
    "        for batch in split:\n",
    "            optimizer.zero_grad()\n",
    "            #batch[1] represent the sentence's length\n",
    "            o = m(batch[0], batch[1])\n",
    "            l = loss(o[:, :-1, :].permute(0,2,1), batch[0][:, 1:max(batch[1])])\n",
    "            \n",
    "            \n",
    "            tot_loss += l\n",
    "            \n",
    "            l.backward()\n",
    "            optimizer.step()\n",
    "        print(\"Total loss in epoch {} is {}.\".format(epoch, tot_loss))\n",
    "        epoch += 1\n",
    "    \n",
    "    return m"
   ]
  },
  {
   "cell_type": "code",
   "execution_count": 92,
   "metadata": {},
   "outputs": [
    {
     "name": "stdout",
     "output_type": "stream",
     "text": [
      "Total loss in epoch 0 is 257.7660217285156.\n",
      "Total loss in epoch 1 is 207.2502899169922.\n",
      "Total loss in epoch 2 is 202.6263885498047.\n",
      "Total loss in epoch 3 is 196.0125274658203.\n",
      "Total loss in epoch 4 is 196.49452209472656.\n",
      "Total loss in epoch 5 is 191.0537109375.\n",
      "Total loss in epoch 6 is 189.6737060546875.\n",
      "Total loss in epoch 7 is 188.6050567626953.\n",
      "Total loss in epoch 8 is 186.0637969970703.\n",
      "Total loss in epoch 9 is 185.1094207763672.\n",
      "Total loss in epoch 10 is 184.87437438964844.\n",
      "Total loss in epoch 11 is 180.33682250976562.\n",
      "Total loss in epoch 12 is 180.42459106445312.\n",
      "Total loss in epoch 13 is 176.43946838378906.\n",
      "Total loss in epoch 14 is 178.02694702148438.\n",
      "Total loss in epoch 15 is 176.5436553955078.\n",
      "Total loss in epoch 16 is 174.09523010253906.\n",
      "Total loss in epoch 17 is 174.81236267089844.\n",
      "Total loss in epoch 18 is 171.57899475097656.\n",
      "Total loss in epoch 19 is 177.17396545410156.\n",
      "Total loss in epoch 20 is 169.50892639160156.\n",
      "Total loss in epoch 21 is 172.04469299316406.\n",
      "Total loss in epoch 22 is 169.0382843017578.\n",
      "Total loss in epoch 23 is 169.0520477294922.\n",
      "Total loss in epoch 24 is 167.87887573242188.\n",
      "Total loss in epoch 25 is 168.43544006347656.\n",
      "Total loss in epoch 26 is 167.5985870361328.\n",
      "Total loss in epoch 27 is 165.7908935546875.\n",
      "Total loss in epoch 28 is 160.51321411132812.\n",
      "Total loss in epoch 29 is 162.67388916015625.\n",
      "Total loss in epoch 30 is 163.96005249023438.\n",
      "Total loss in epoch 31 is 160.234619140625.\n",
      "Total loss in epoch 32 is 158.3855438232422.\n",
      "Total loss in epoch 33 is 158.20913696289062.\n",
      "Total loss in epoch 34 is 156.64566040039062.\n",
      "Total loss in epoch 35 is 156.8852081298828.\n",
      "Total loss in epoch 36 is 155.71324157714844.\n",
      "Total loss in epoch 37 is 154.52569580078125.\n",
      "Total loss in epoch 38 is 154.91783142089844.\n",
      "Total loss in epoch 39 is 153.63267517089844.\n",
      "Total loss in epoch 40 is 153.59857177734375.\n",
      "Total loss in epoch 41 is 149.18014526367188.\n",
      "Total loss in epoch 42 is 152.13380432128906.\n",
      "Total loss in epoch 43 is 153.79315185546875.\n",
      "Total loss in epoch 44 is 153.02215576171875.\n",
      "Total loss in epoch 45 is 150.6903533935547.\n",
      "Total loss in epoch 46 is 149.87985229492188.\n",
      "Total loss in epoch 47 is 147.73480224609375.\n",
      "Total loss in epoch 48 is 149.3403778076172.\n",
      "Total loss in epoch 49 is 149.43698120117188.\n",
      "Total loss in epoch 50 is 146.5868682861328.\n",
      "Total loss in epoch 51 is 146.23220825195312.\n",
      "Total loss in epoch 52 is 145.73008728027344.\n",
      "Total loss in epoch 53 is 143.04515075683594.\n",
      "Total loss in epoch 54 is 145.97686767578125.\n",
      "Total loss in epoch 55 is 142.13816833496094.\n",
      "Total loss in epoch 56 is 141.85614013671875.\n",
      "Total loss in epoch 57 is 141.24453735351562.\n",
      "Total loss in epoch 58 is 141.5270233154297.\n",
      "Total loss in epoch 59 is 142.4838104248047.\n",
      "Total loss in epoch 60 is 143.86300659179688.\n",
      "Total loss in epoch 61 is 141.8617706298828.\n",
      "Total loss in epoch 62 is 138.80824279785156.\n",
      "Total loss in epoch 63 is 138.13185119628906.\n",
      "Total loss in epoch 64 is 140.83807373046875.\n",
      "Total loss in epoch 65 is 136.851318359375.\n",
      "Total loss in epoch 66 is 139.2356414794922.\n",
      "Total loss in epoch 67 is 138.80516052246094.\n",
      "Total loss in epoch 68 is 138.13499450683594.\n",
      "Total loss in epoch 69 is 139.00799560546875.\n",
      "Total loss in epoch 70 is 134.3123321533203.\n",
      "Total loss in epoch 71 is 135.44955444335938.\n",
      "Total loss in epoch 72 is 134.92991638183594.\n",
      "Total loss in epoch 73 is 136.02989196777344.\n",
      "Total loss in epoch 74 is 130.6825714111328.\n",
      "Total loss in epoch 75 is 132.64915466308594.\n",
      "Total loss in epoch 76 is 135.75704956054688.\n",
      "Total loss in epoch 77 is 135.2380828857422.\n",
      "Total loss in epoch 78 is 134.65408325195312.\n",
      "Total loss in epoch 79 is 131.44638061523438.\n",
      "Total loss in epoch 80 is 131.1359405517578.\n",
      "Total loss in epoch 81 is 129.9649200439453.\n",
      "Total loss in epoch 82 is 131.72274780273438.\n",
      "Total loss in epoch 83 is 131.15858459472656.\n",
      "Total loss in epoch 84 is 130.0115203857422.\n",
      "Total loss in epoch 85 is 129.78221130371094.\n",
      "Total loss in epoch 86 is 128.7107391357422.\n",
      "Total loss in epoch 87 is 129.28013610839844.\n",
      "Total loss in epoch 88 is 126.49217987060547.\n",
      "Total loss in epoch 89 is 127.8644027709961.\n",
      "Total loss in epoch 90 is 128.2935333251953.\n",
      "Total loss in epoch 91 is 128.06324768066406.\n",
      "Total loss in epoch 92 is 126.4066162109375.\n",
      "Total loss in epoch 93 is 128.7042999267578.\n",
      "Total loss in epoch 94 is 125.44296264648438.\n",
      "Total loss in epoch 95 is 124.67354583740234.\n",
      "Total loss in epoch 96 is 125.2730941772461.\n",
      "Total loss in epoch 97 is 124.2294692993164.\n",
      "Total loss in epoch 98 is 125.4189682006836.\n",
      "Total loss in epoch 99 is 124.250244140625.\n"
     ]
    }
   ],
   "source": [
    "\n",
    "model2 = train1(train_X_tensor, train_lengths_tensor, train_y_tensor, len(int_index), 200, 50, 100, device)\n"
   ]
  },
  {
   "cell_type": "code",
   "execution_count": 21,
   "metadata": {},
   "outputs": [],
   "source": [
    "torch.save(model2, 'model2.pt')"
   ]
  },
  {
   "cell_type": "code",
   "execution_count": 337,
   "metadata": {},
   "outputs": [],
   "source": [
    "#model2 = torch.load('model2').to('cpu')"
   ]
  },
  {
   "cell_type": "markdown",
   "metadata": {},
   "source": [
    "PART1 REPORT:\n",
    "for getting the probability for each character in the vocabs, the  size of the output of the linear layer must be equal to the size of the vocabularies,So I changed it in the code. \n",
    "In train part:\n",
    "we dont need the second dimension of the output in the model cause it would be the end token ,which we did it in the loss part and also we should get rid of the first element which is the start token that i added at first.\n"
   ]
  },
  {
   "cell_type": "markdown",
   "metadata": {},
   "source": [
    "## Evaluation"
   ]
  },
  {
   "cell_type": "code",
   "execution_count": 22,
   "metadata": {},
   "outputs": [
    {
     "data": {
      "text/plain": [
       "Segmenter1(\n",
       "  (emb): Embedding(3649, 200, padding_idx=0)\n",
       "  (lstm): LSTM(200, 150, batch_first=True)\n",
       "  (sig1): Sigmoid()\n",
       "  (lin): Linear(in_features=150, out_features=3649, bias=True)\n",
       "  (softmax): LogSoftmax(dim=2)\n",
       ")"
      ]
     },
     "execution_count": 22,
     "metadata": {},
     "output_type": "execute_result"
    }
   ],
   "source": [
    "model2.to(device)"
   ]
  },
  {
   "cell_type": "code",
   "execution_count": 29,
   "metadata": {},
   "outputs": [
    {
     "data": {
      "text/plain": [
       "Segmenter1(\n",
       "  (emb): Embedding(3649, 200, padding_idx=0)\n",
       "  (lstm): LSTM(200, 150, batch_first=True)\n",
       "  (sig1): Sigmoid()\n",
       "  (lin): Linear(in_features=150, out_features=3649, bias=True)\n",
       "  (softmax): LogSoftmax(dim=2)\n",
       ")"
      ]
     },
     "execution_count": 29,
     "metadata": {},
     "output_type": "execute_result"
    }
   ],
   "source": [
    "model2.eval()"
   ]
  },
  {
   "cell_type": "code",
   "execution_count": 53,
   "metadata": {},
   "outputs": [],
   "source": [
    "with torch.no_grad():\n",
    "    rawpredictions = model2(test_X_tensor, test_lengths_tensor)"
   ]
  },
  {
   "cell_type": "code",
   "execution_count": 57,
   "metadata": {},
   "outputs": [],
   "source": [
    "\n",
    "predictions = torch.argmax(rawpredictions, 2)\n",
    "\n"
   ]
  },
  {
   "cell_type": "code",
   "execution_count": 58,
   "metadata": {},
   "outputs": [],
   "source": [
    "collectpreds = []\n",
    "collecty = []\n",
    "\n"
   ]
  },
  {
   "cell_type": "code",
   "execution_count": 61,
   "metadata": {},
   "outputs": [],
   "source": [
    "for i in range(test_X_tensor.size(0)):\n",
    "    collectpreds.append(predictions[i][:test_lengths_tensor[i]])\n",
    "    collecty.append(test_y_tensor[i][:test_lengths_tensor[i]])\n",
    "    \n"
   ]
  },
  {
   "cell_type": "code",
   "execution_count": 62,
   "metadata": {},
   "outputs": [],
   "source": [
    "allpreds = torch.cat(collectpreds).float()\n",
    "classes = torch.cat(collecty).float()"
   ]
  },
  {
   "cell_type": "code",
   "execution_count": 63,
   "metadata": {},
   "outputs": [],
   "source": [
    "tp2 = sum(classes * allpreds)\n",
    "fp2 = sum(classes * (~allpreds.bool()).float())\n",
    "tn2 = sum((~classes.bool()).float() * (~allpreds.bool()).float())\n",
    "fn2 = sum((~classes.bool()).float() * allpreds)"
   ]
  },
  {
   "cell_type": "code",
   "execution_count": 64,
   "metadata": {},
   "outputs": [
    {
     "data": {
      "text/plain": [
       "tensor(0.6000, device='cuda:3')"
      ]
     },
     "execution_count": 64,
     "metadata": {},
     "output_type": "execute_result"
    }
   ],
   "source": [
    "accuracy2 = (tp2 + tn2) / (tp2 + fp2 + tn2 + fn2)\n",
    "accuracy2"
   ]
  },
  {
   "cell_type": "code",
   "execution_count": 65,
   "metadata": {},
   "outputs": [
    {
     "data": {
      "text/plain": [
       "tensor(0.6000, device='cuda:3')"
      ]
     },
     "execution_count": 65,
     "metadata": {},
     "output_type": "execute_result"
    }
   ],
   "source": [
    "recall2 = tp2 / (tp2 + fn2)\n",
    "recall2"
   ]
  },
  {
   "cell_type": "code",
   "execution_count": 66,
   "metadata": {},
   "outputs": [
    {
     "data": {
      "text/plain": [
       "tensor(1.0000, device='cuda:3')"
      ]
     },
     "execution_count": 66,
     "metadata": {},
     "output_type": "execute_result"
    }
   ],
   "source": [
    "precision2 = tp2 / (tp2 + fp2)\n",
    "precision2"
   ]
  },
  {
   "cell_type": "code",
   "execution_count": 67,
   "metadata": {},
   "outputs": [
    {
     "data": {
      "text/plain": [
       "tensor(0.7500, device='cuda:3')"
      ]
     },
     "execution_count": 67,
     "metadata": {},
     "output_type": "execute_result"
    }
   ],
   "source": [
    "f1_2 = (2 * recall2 * precision2) / (recall2 + precision2)\n",
    "f1_2"
   ]
  },
  {
   "cell_type": "markdown",
   "metadata": {},
   "source": [
    "## Generating sentence\n",
    "at first we get the list of the possible lengths of the sentences and the possible character in them and getting the random index to them and generating the orginal tensor and passing it through the models.\n",
    "The function \"generating_sentence\" creates a random sentence given the start symbol and a random point (from possible first characters in the train sentences). The length of the sentence is a random choice from the train_sentences length, or shorter if the model produces a stop symbol."
   ]
  },
  {
   "cell_type": "code",
   "execution_count": 70,
   "metadata": {},
   "outputs": [
    {
     "name": "stdout",
     "output_type": "stream",
     "text": [
      "tensor([43, 61, 27, 17, 31, 46, 28, 32, 32, 79, 67, 35, 23, 27, 21, 61, 35, 30,\n",
      "        31, 23, 25, 63, 40, 22, 65, 82, 43, 25, 25, 70, 59, 22, 59, 30, 19, 43,\n",
      "        37, 46, 40, 24, 46, 33, 48, 71, 25, 77, 18, 27, 30, 28],\n",
      "       device='cuda:3')\n"
     ]
    }
   ],
   "source": [
    "b = Batcher(train_X_tensor, train_lengths_tensor, train_y_tensor, device, batch_size=50, max_iter=30)\n",
    "lengths = []\n",
    "    \n",
    "    \n",
    "for split in b:\n",
    "    for batch in split:\n",
    "        lengths.append(batch[1])\n",
    "\n",
    "print(lengths[0]) \n",
    "\n",
    "# getting list of possible lengths of sentences\n",
    "leng = []\n",
    "for x in lengths:\n",
    "    leng.extend(x.tolist())"
   ]
  },
  {
   "cell_type": "code",
   "execution_count": 72,
   "metadata": {},
   "outputs": [],
   "source": [
    "\n",
    "\n",
    "sentences = train_sentences.extend(test_sentences)\n",
    "# getting the possible part of the sentences\n",
    "arg = []\n",
    "for a, _ in train_sentences:\n",
    "    arg.extend(a[1])"
   ]
  },
  {
   "cell_type": "code",
   "execution_count": 73,
   "metadata": {},
   "outputs": [],
   "source": [
    "\n",
    "\n",
    "def generating_sentences(lengths, args, char_index, model):\n",
    "  \n",
    "    \n",
    "    # getting random sentence length\n",
    "    sent_len = torch.tensor(random.choice(lengths)).to(device).unsqueeze(0)\n",
    "    sent_len = sent_len.int().to(device)\n",
    "    \n",
    "    # getting index of random seed\n",
    "    point = random.choice(args)\n",
    "    point_idx = char_index[point]\n",
    "\n",
    "    # generating the original tensor\n",
    "    original = torch.zeros(sent_len)\n",
    "    original[0] = char_index['$']\n",
    "    original[1] = point_idx\n",
    "    original = original.long().unsqueeze(0).to(device)\n",
    "    \n",
    "    # passing it through the model\n",
    "    for e in range(int(sent_len)-3):\n",
    "        out = model(original, sent_len)\n",
    "        m = torch.argmax(out, dim=2)\n",
    "#         print(m)\n",
    "        original[0][e+2] = m[0][e+2]\n",
    "        \n",
    "        if m[0][e+2] == char_index['&']:\n",
    "            break\n",
    "    \n",
    "    original = original.squeeze(0)\n",
    "    if char_index['&'] not in original:\n",
    "        original[int(sent_len)-1] = char_index['&']\n",
    "    \n",
    "    inlist = original.tolist()\n",
    "    text = ''\n",
    "    for num in inlist:\n",
    "        char = str(list(char_index.keys())[list(char_index.values()).index(num)])\n",
    "        text += char\n",
    "        if char == '&':\n",
    "            break\n",
    "        \n",
    "    return text"
   ]
  },
  {
   "cell_type": "code",
   "execution_count": 32,
   "metadata": {},
   "outputs": [
    {
     "data": {
      "text/plain": [
       "'$組，此稱入了家。&'"
      ]
     },
     "execution_count": 32,
     "metadata": {},
     "output_type": "execute_result"
    }
   ],
   "source": [
    " generating_sentences(leng, arg, char_index, model2)"
   ]
  },
  {
   "cell_type": "code",
   "execution_count": 74,
   "metadata": {},
   "outputs": [
    {
     "data": {
      "text/plain": [
       "'$裕到車，道上車上車上車為道，為道中通。&'"
      ]
     },
     "execution_count": 74,
     "metadata": {},
     "output_type": "execute_result"
    }
   ],
   "source": [
    " generating_sentences(leng, arg, char_index, model2)"
   ]
  },
  {
   "cell_type": "code",
   "execution_count": 60,
   "metadata": {},
   "outputs": [
    {
     "data": {
      "text/plain": [
       "'$0瀑0瀑0瀑0瀑0瀑0瀑0瀑0瀑0&'"
      ]
     },
     "execution_count": 60,
     "metadata": {},
     "output_type": "execute_result"
    }
   ],
   "source": [
    " generating_sentences(leng, arg, char_index, model1)"
   ]
  },
  {
   "cell_type": "markdown",
   "metadata": {},
   "source": [
    "## Part 2 - Dual MODEL (10 points)\n",
    "Copy the notebook from part 1 and augment the copy by adding back the word segmentation objective, as a second objective with its own loss. (You could also in theory do Part 1 and Part 2 in reverse, by adding sentence generation with dual objectives first and then stripping out the word segmentation objective; this is equivalent.)\n",
    "Note that multiple losses can be combined by simple, possibly weighted addition -- backpropagation works entirely correctly on the combined loss."
   ]
  },
  {
   "cell_type": "code",
   "execution_count": 70,
   "metadata": {},
   "outputs": [],
   "source": [
    "class Segmenter_D(nn.Module):\n",
    "    def __init__(self, vocab_size, emb_size):\n",
    "        super().__init__()\n",
    "        \n",
    "        self.vocab_size = vocab_size\n",
    "        self.emb_size = emb_size\n",
    "        \n",
    "        self.emb = nn.Embedding(self.vocab_size, self.emb_size, 0)\n",
    "        self.lstm = nn.LSTM(self.emb_size, 150, batch_first=True)\n",
    "       \n",
    "        self.sig1 = nn.Sigmoid()\n",
    "       #here Im ganna add another linear layer with an vocabulary size output.\n",
    "        self.lin = nn.Linear(150, 2)\n",
    "        self.lin1 = nn.Linear(150, self.vocab_size)\n",
    "        self.softmax = nn.LogSoftmax(2)\n",
    "        \n",
    "    def forward(self, x, lengths):\n",
    "        embs = self.emb(x)\n",
    "        packed = pack_padded_sequence(embs, lengths.to(\"cpu\"), batch_first=True, enforce_sorted=False)\n",
    "        output1, _ = self.lstm(packed)\n",
    "        unpacked, _ = pad_packed_sequence(output1, batch_first=True)\n",
    "        output2 = self.sig1(unpacked)\n",
    "         #here it should return two tensors,for segmentation and prediction objective.so I added another output ,one for pred and one for seg.\n",
    "        output3 = self.lin(output2)\n",
    "        output4 = self.lin1(unpacked)#it is unoacked just for prediction\n",
    "       \n",
    "        return (self.softmax(output3), self.softmax(output4))\n",
    "        "
   ]
  },
  {
   "cell_type": "code",
   "execution_count": 71,
   "metadata": {},
   "outputs": [],
   "source": [
    "def train_D(X, lengths, y, vocab_size, emb_size, batch_size, epochs, device, model=None):\n",
    "    b = Batcher(X, lengths, y, device, batch_size=batch_size, max_iter=epochs)\n",
    "    if not model:\n",
    "        m = Segmenter_D(vocab_size, emb_size).to(device)\n",
    "    else:\n",
    "        m = model\n",
    "    loss = nn.NLLLoss(ignore_index=-1)\n",
    "    optimizer = optim.Adam(m.parameters(), lr=0.005)\n",
    "    epoch = 0\n",
    "    \n",
    "    \n",
    "    for split in b:\n",
    "        tot_loss = 0\n",
    "        for batch in split:\n",
    "            optimizer.zero_grad()\n",
    "            # batch[1] represent the length of the sentences\n",
    "            o1, o2 = m(batch[0], batch[1])\n",
    "            l_seg = loss(o1.permute(0,2,1), batch[2][:, :max(batch[1])])\n",
    "            l_pred = loss(o2[:, :-1, :].permute(0,2,1), batch[0][:, 1:max(batch[1])])\n",
    "            \n",
    "            l = l_seg + l_pred\n",
    "            tot_loss += l\n",
    "            \n",
    "            \n",
    "            l.backward()\n",
    "            optimizer.step()\n",
    "        print(\"Total loss in epoch {} is {}.\".format(epoch, tot_loss))\n",
    "        epoch += 1\n",
    "    \n",
    "    return m"
   ]
  },
  {
   "cell_type": "code",
   "execution_count": 72,
   "metadata": {},
   "outputs": [
    {
     "name": "stdout",
     "output_type": "stream",
     "text": [
      "Total loss in epoch 0 is 619.8128051757812.\n",
      "Total loss in epoch 1 is 536.9685668945312.\n",
      "Total loss in epoch 2 is 482.8258361816406.\n",
      "Total loss in epoch 3 is 435.83648681640625.\n",
      "Total loss in epoch 4 is 392.4460144042969.\n",
      "Total loss in epoch 5 is 351.130126953125.\n",
      "Total loss in epoch 6 is 311.6767883300781.\n",
      "Total loss in epoch 7 is 273.5425109863281.\n",
      "Total loss in epoch 8 is 238.85426330566406.\n",
      "Total loss in epoch 9 is 205.63714599609375.\n",
      "Total loss in epoch 10 is 179.96754455566406.\n",
      "Total loss in epoch 11 is 158.31637573242188.\n",
      "Total loss in epoch 12 is 141.25906372070312.\n",
      "Total loss in epoch 13 is 130.99331665039062.\n",
      "Total loss in epoch 14 is 121.13825988769531.\n",
      "Total loss in epoch 15 is 115.8875732421875.\n",
      "Total loss in epoch 16 is 110.62325286865234.\n",
      "Total loss in epoch 17 is 103.56726837158203.\n",
      "Total loss in epoch 18 is 101.0179672241211.\n",
      "Total loss in epoch 19 is 95.95426177978516.\n",
      "Total loss in epoch 20 is 93.17222595214844.\n",
      "Total loss in epoch 21 is 89.60919952392578.\n",
      "Total loss in epoch 22 is 89.99579620361328.\n",
      "Total loss in epoch 23 is 88.63356018066406.\n",
      "Total loss in epoch 24 is 84.87124633789062.\n",
      "Total loss in epoch 25 is 83.79205322265625.\n",
      "Total loss in epoch 26 is 80.80475616455078.\n",
      "Total loss in epoch 27 is 78.65410614013672.\n",
      "Total loss in epoch 28 is 76.91474151611328.\n",
      "Total loss in epoch 29 is 75.36790466308594.\n",
      "Total loss in epoch 30 is 74.04389953613281.\n",
      "Total loss in epoch 31 is 71.29871368408203.\n",
      "Total loss in epoch 32 is 71.9437484741211.\n",
      "Total loss in epoch 33 is 70.2088851928711.\n",
      "Total loss in epoch 34 is 72.44131469726562.\n",
      "Total loss in epoch 35 is 68.56929779052734.\n",
      "Total loss in epoch 36 is 68.49510955810547.\n",
      "Total loss in epoch 37 is 66.11155700683594.\n",
      "Total loss in epoch 38 is 63.49686050415039.\n",
      "Total loss in epoch 39 is 62.494144439697266.\n",
      "Total loss in epoch 40 is 62.11064529418945.\n",
      "Total loss in epoch 41 is 62.1674690246582.\n",
      "Total loss in epoch 42 is 61.94731903076172.\n",
      "Total loss in epoch 43 is 62.64642333984375.\n",
      "Total loss in epoch 44 is 61.90471649169922.\n",
      "Total loss in epoch 45 is 62.24118423461914.\n",
      "Total loss in epoch 46 is 63.98527526855469.\n",
      "Total loss in epoch 47 is 59.7411994934082.\n",
      "Total loss in epoch 48 is 58.527801513671875.\n",
      "Total loss in epoch 49 is 57.69839859008789.\n",
      "Total loss in epoch 50 is 55.8911018371582.\n",
      "Total loss in epoch 51 is 55.4615478515625.\n",
      "Total loss in epoch 52 is 54.78901290893555.\n",
      "Total loss in epoch 53 is 56.071964263916016.\n",
      "Total loss in epoch 54 is 58.69236373901367.\n",
      "Total loss in epoch 55 is 57.21647644042969.\n",
      "Total loss in epoch 56 is 55.63039016723633.\n",
      "Total loss in epoch 57 is 56.37058639526367.\n",
      "Total loss in epoch 58 is 54.21316909790039.\n",
      "Total loss in epoch 59 is 54.11793899536133.\n",
      "Total loss in epoch 60 is 53.968196868896484.\n",
      "Total loss in epoch 61 is 52.69072723388672.\n",
      "Total loss in epoch 62 is 50.94657897949219.\n",
      "Total loss in epoch 63 is 50.0079460144043.\n",
      "Total loss in epoch 64 is 50.51454162597656.\n",
      "Total loss in epoch 65 is 49.20553970336914.\n",
      "Total loss in epoch 66 is 50.323429107666016.\n",
      "Total loss in epoch 67 is 49.751068115234375.\n",
      "Total loss in epoch 68 is 49.77427291870117.\n",
      "Total loss in epoch 69 is 51.134159088134766.\n",
      "Total loss in epoch 70 is 52.19398880004883.\n",
      "Total loss in epoch 71 is 53.81520080566406.\n",
      "Total loss in epoch 72 is 52.26539993286133.\n",
      "Total loss in epoch 73 is 53.082088470458984.\n",
      "Total loss in epoch 74 is 50.562538146972656.\n",
      "Total loss in epoch 75 is 52.51901626586914.\n",
      "Total loss in epoch 76 is 50.73642349243164.\n",
      "Total loss in epoch 77 is 49.87870788574219.\n",
      "Total loss in epoch 78 is 47.770042419433594.\n",
      "Total loss in epoch 79 is 47.81768035888672.\n",
      "Total loss in epoch 80 is 47.14016342163086.\n",
      "Total loss in epoch 81 is 46.895206451416016.\n",
      "Total loss in epoch 82 is 47.62590026855469.\n",
      "Total loss in epoch 83 is 47.35591506958008.\n",
      "Total loss in epoch 84 is 46.90140151977539.\n",
      "Total loss in epoch 85 is 46.52106475830078.\n",
      "Total loss in epoch 86 is 47.68380355834961.\n",
      "Total loss in epoch 87 is 47.44722366333008.\n",
      "Total loss in epoch 88 is 46.19462203979492.\n",
      "Total loss in epoch 89 is 46.91844177246094.\n",
      "Total loss in epoch 90 is 46.47093963623047.\n",
      "Total loss in epoch 91 is 47.65193176269531.\n",
      "Total loss in epoch 92 is 47.04478073120117.\n",
      "Total loss in epoch 93 is 47.32903289794922.\n",
      "Total loss in epoch 94 is 49.753299713134766.\n",
      "Total loss in epoch 95 is 49.79322814941406.\n",
      "Total loss in epoch 96 is 50.14761734008789.\n",
      "Total loss in epoch 97 is 48.670047760009766.\n",
      "Total loss in epoch 98 is 46.374717712402344.\n",
      "Total loss in epoch 99 is 47.558387756347656.\n"
     ]
    }
   ],
   "source": [
    "modelD = train_D(train_X_tensor, train_lengths_tensor, train_y_tensor, len(int_index), 200, 50, 100, device)"
   ]
  },
  {
   "cell_type": "code",
   "execution_count": 80,
   "metadata": {},
   "outputs": [],
   "source": [
    "torch.save(modelD, 'modelDual.pt')"
   ]
  },
  {
   "cell_type": "markdown",
   "metadata": {},
   "source": [
    "By making a series of changes to the original model, I converted the model to dual, adding a change including a second linear layer with output size to the word size. Finally, it returns two tensors instead of a tensor, one for the purpose of segmentation and the other for the purpose of prediction. "
   ]
  },
  {
   "cell_type": "markdown",
   "metadata": {},
   "source": [
    "## Evaluation"
   ]
  },
  {
   "cell_type": "code",
   "execution_count": 73,
   "metadata": {},
   "outputs": [
    {
     "data": {
      "text/plain": [
       "Segmenter_D(\n",
       "  (emb): Embedding(3649, 200, padding_idx=0)\n",
       "  (lstm): LSTM(200, 150, batch_first=True)\n",
       "  (sig1): Sigmoid()\n",
       "  (lin): Linear(in_features=150, out_features=2, bias=True)\n",
       "  (lin1): Linear(in_features=150, out_features=3649, bias=True)\n",
       "  (softmax): LogSoftmax(dim=2)\n",
       ")"
      ]
     },
     "execution_count": 73,
     "metadata": {},
     "output_type": "execute_result"
    }
   ],
   "source": [
    "modelD.to(device)"
   ]
  },
  {
   "cell_type": "code",
   "execution_count": 74,
   "metadata": {},
   "outputs": [],
   "source": [
    "with torch.no_grad():\n",
    "    rawpredictions, _ = modelD(test_X_tensor, test_lengths_tensor)"
   ]
  },
  {
   "cell_type": "code",
   "execution_count": 75,
   "metadata": {},
   "outputs": [],
   "source": [
    "\n",
    "predictions = torch.argmax(rawpredictions, 2)\n"
   ]
  },
  {
   "cell_type": "code",
   "execution_count": 76,
   "metadata": {},
   "outputs": [],
   "source": [
    "collectpreds = []\n",
    "collecty = []\n"
   ]
  },
  {
   "cell_type": "code",
   "execution_count": 77,
   "metadata": {},
   "outputs": [],
   "source": [
    "for i in range(test_X_tensor.size(0)):\n",
    "    collectpreds.append(predictions[i][:test_lengths_tensor[i]])\n",
    "    collecty.append(test_y_tensor[i][:test_lengths_tensor[i]])\n"
   ]
  },
  {
   "cell_type": "code",
   "execution_count": 78,
   "metadata": {},
   "outputs": [],
   "source": [
    "allpreds = torch.cat(collectpreds).float()\n",
    "classes = torch.cat(collecty).float()"
   ]
  },
  {
   "cell_type": "code",
   "execution_count": 79,
   "metadata": {},
   "outputs": [],
   "source": [
    "tp = sum(classes * allpreds)\n",
    "fp = sum(classes * (~allpreds.bool()).float())\n",
    "tn = sum((~classes.bool()).float() * (~allpreds.bool()).float())\n",
    "fn = sum((~classes.bool()).float() * allpreds)"
   ]
  },
  {
   "cell_type": "code",
   "execution_count": 80,
   "metadata": {},
   "outputs": [
    {
     "data": {
      "text/plain": [
       "tensor(0.9201, device='cuda:3')"
      ]
     },
     "execution_count": 80,
     "metadata": {},
     "output_type": "execute_result"
    }
   ],
   "source": [
    "accuracy_D = (tp + tn) / (tp + fp + tn + fn)\n",
    "accuracy_D"
   ]
  },
  {
   "cell_type": "code",
   "execution_count": 81,
   "metadata": {},
   "outputs": [
    {
     "data": {
      "text/plain": [
       "tensor(0.9260, device='cuda:3')"
      ]
     },
     "execution_count": 81,
     "metadata": {},
     "output_type": "execute_result"
    }
   ],
   "source": [
    "recall_D = tp / (tp + fn)\n",
    "recall_D"
   ]
  },
  {
   "cell_type": "code",
   "execution_count": 82,
   "metadata": {},
   "outputs": [
    {
     "data": {
      "text/plain": [
       "tensor(0.9458, device='cuda:3')"
      ]
     },
     "execution_count": 82,
     "metadata": {},
     "output_type": "execute_result"
    }
   ],
   "source": [
    "precision_D = tp / (tp + fp)\n",
    "precision_D"
   ]
  },
  {
   "cell_type": "code",
   "execution_count": 83,
   "metadata": {},
   "outputs": [
    {
     "data": {
      "text/plain": [
       "tensor(0.9358, device='cuda:3')"
      ]
     },
     "execution_count": 83,
     "metadata": {},
     "output_type": "execute_result"
    }
   ],
   "source": [
    "f1_D = (2 * recall_D * precision_D) / (recall_D + precision_D)\n",
    "f1_D"
   ]
  },
  {
   "cell_type": "markdown",
   "metadata": {},
   "source": [
    "## Part 3 - Analysis (5 points)\n",
    "You now have three models. The original word segmentation model, a sentence generation model, and a dual sentence-generation/word segmentation model.\n",
    "\n",
    "Compare the performance on the test data of the original word segmentation model between the original objective and the dual objective model.\n",
    "\n",
    "In how many iterations do the models converge?\n",
    "What are their final F1 and accuracy scores once they've converged?\n",
    "Are they any different? If so, why?\n",
    "Make the same comparison between the sentence generation model and the dual-objective model, except the performance measure is the per-word perplexity on the text (test?) corpus."
   ]
  },
  {
   "cell_type": "markdown",
   "metadata": {},
   "source": [
    "word segmentation"
   ]
  },
  {
   "cell_type": "markdown",
   "metadata": {},
   "source": [
    "Part 3.1 Report:\n",
    "I did evaluations under each model.\n",
    "DUAL MODEL:as can be seen ,the total loss and the prediction loss are almost the same, because the segmentation loss is very low.\n",
    "\n",
    "Model\tAccuracy\tF1score\n",
    "Model1  0.92950     0.9429\n",
    "Model2\t0.6000\t    0.7500\n",
    "ModelD\t0.9201\t    0.9358\n",
    "\n",
    "The highest f1 score is for Asads model( word segmentation model) which is 94.29% and the second place is for dual model with 93.58% and the third place is for the second model about 75%.The most accurate one is also Asad's model(word segmentation model) with 92.95% and the second place is for the dual model with 92.01% and the less one for the model2.The dual models and word segmentation model are quite similar, probably because both models have the same layers and hyperparameters.\n"
   ]
  },
  {
   "cell_type": "markdown",
   "metadata": {},
   "source": [
    "## Evaluation sentence generation"
   ]
  },
  {
   "cell_type": "code",
   "execution_count": null,
   "metadata": {},
   "outputs": [],
   "source": [
    "def get_perplexity(model,X, lengths, y, vocab_size, emb_size, batch_size , epochs, model_ID):\n",
    "\n",
    "    b = Batcher(X, lengths, y, device, batch_size=batch_size, max_iter=epochs)\n",
    "    \n",
    "    model.to(device)\n",
    "    loss_fn = nn.CrossEntropyLoss()\n",
    "    b = Batcher(X, lengths, y, device, batch_size=batch_size, max_iter=epochs)\n",
    "    for split in b:\n",
    "            tot_loss = 0\n",
    "            for batch in split:\n",
    "                #FOR MODEL1 and 2 which are single model\n",
    "                if model_ID == 1: \n",
    "                    out = model(batch[0], batch[1])\n",
    "                    l = loss(out[:, :-1, :].permute(0,2,1), batch[0][:, 1:max(batch[1])])\n",
    "                #FOR DUAL model\n",
    "                elif model_ID == 2:\n",
    "                    _, out = model(batch[0], batch[1])\n",
    "                    l = loss(out[:, :-1, :].permute(0,2,1), batch[0][:, 1:max(batch[1])])\n",
    "                    \n",
    "                tot_loss += l\n",
    "                \n",
    "    perplexity  = torch.exp(tot_loss/50)\n",
    "    \n",
    "    print('Total perplexity:', perplexity.item())\n",
    "    return perplexity.item()\n",
    "    \n",
    "        \n",
    "       \n",
    "           "
   ]
  },
  {
   "cell_type": "code",
   "execution_count": 94,
   "metadata": {},
   "outputs": [
    {
     "name": "stdout",
     "output_type": "stream",
     "text": [
      "Total perplexity: 1.4611154794692993\n"
     ]
    },
    {
     "data": {
      "text/plain": [
       "1.4611154794692993"
      ]
     },
     "execution_count": 94,
     "metadata": {},
     "output_type": "execute_result"
    }
   ],
   "source": [
    "get_perplexity(model2,test_X_tensor, test_lengths_tensor, test_y_tensor, len(int_index), 200, 50, 30, device, model_ID = 1)"
   ]
  },
  {
   "cell_type": "code",
   "execution_count": 87,
   "metadata": {},
   "outputs": [
    {
     "name": "stdout",
     "output_type": "stream",
     "text": [
      "Total perplexity: 1.8955341577529907\n"
     ]
    },
    {
     "data": {
      "text/plain": [
       "1.8955341577529907"
      ]
     },
     "execution_count": 87,
     "metadata": {},
     "output_type": "execute_result"
    }
   ],
   "source": [
    "get_perplexity(modelD, test_X_tensor, test_lengths_tensor, test_y_tensor, len(int_index), 200, 50, 30, device, model_ID = 2)"
   ]
  },
  {
   "cell_type": "markdown",
   "metadata": {},
   "source": [
    "Part 3.2 Report:\n",
    " I got the loss is computed by iterating the test data over 1 epoch But I didn't really understand how to compute it.As we can see from the result the SentenceGenerator model has a much lower perplexity than that of the DualModel."
   ]
  }
 ],
 "metadata": {
  "kernelspec": {
   "display_name": "Python 3 (ipykernel)",
   "language": "python",
   "name": "python3"
  },
  "language_info": {
   "codemirror_mode": {
    "name": "ipython",
    "version": 3
   },
   "file_extension": ".py",
   "mimetype": "text/x-python",
   "name": "python",
   "nbconvert_exporter": "python",
   "pygments_lexer": "ipython3",
   "version": "3.9.6"
  }
 },
 "nbformat": 4,
 "nbformat_minor": 2
}
